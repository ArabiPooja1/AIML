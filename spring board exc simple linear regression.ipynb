{
 "cells": [
  {
   "cell_type": "code",
   "execution_count": 134,
   "id": "64f33ff6",
   "metadata": {},
   "outputs": [],
   "source": [
    "import numpy as np\n",
    "import pandas as pd\n",
    "import matplotlib.pyplot as plt"
   ]
  },
  {
   "cell_type": "code",
   "execution_count": 174,
   "id": "e67f0de1",
   "metadata": {
    "scrolled": false
   },
   "outputs": [
    {
     "data": {
      "text/html": [
       "<div>\n",
       "<style scoped>\n",
       "    .dataframe tbody tr th:only-of-type {\n",
       "        vertical-align: middle;\n",
       "    }\n",
       "\n",
       "    .dataframe tbody tr th {\n",
       "        vertical-align: top;\n",
       "    }\n",
       "\n",
       "    .dataframe thead th {\n",
       "        text-align: right;\n",
       "    }\n",
       "</style>\n",
       "<table border=\"1\" class=\"dataframe\">\n",
       "  <thead>\n",
       "    <tr style=\"text-align: right;\">\n",
       "      <th></th>\n",
       "      <th>Units</th>\n",
       "      <th>Minutes</th>\n",
       "    </tr>\n",
       "  </thead>\n",
       "  <tbody>\n",
       "    <tr>\n",
       "      <th>0</th>\n",
       "      <td>1</td>\n",
       "      <td>23</td>\n",
       "    </tr>\n",
       "    <tr>\n",
       "      <th>1</th>\n",
       "      <td>2</td>\n",
       "      <td>29</td>\n",
       "    </tr>\n",
       "    <tr>\n",
       "      <th>2</th>\n",
       "      <td>3</td>\n",
       "      <td>49</td>\n",
       "    </tr>\n",
       "    <tr>\n",
       "      <th>3</th>\n",
       "      <td>4</td>\n",
       "      <td>64</td>\n",
       "    </tr>\n",
       "    <tr>\n",
       "      <th>4</th>\n",
       "      <td>4</td>\n",
       "      <td>74</td>\n",
       "    </tr>\n",
       "  </tbody>\n",
       "</table>\n",
       "</div>"
      ],
      "text/plain": [
       "   Units  Minutes\n",
       "0      1       23\n",
       "1      2       29\n",
       "2      3       49\n",
       "3      4       64\n",
       "4      4       74"
      ]
     },
     "execution_count": 174,
     "metadata": {},
     "output_type": "execute_result"
    }
   ],
   "source": [
    "com=pd.read_csv(\"computers.csv\")\n",
    "com.head()"
   ]
  },
  {
   "cell_type": "markdown",
   "id": "ac5457ec",
   "metadata": {},
   "source": [
    "# feature engneering"
   ]
  },
  {
   "cell_type": "code",
   "execution_count": 206,
   "id": "f6d7c228",
   "metadata": {},
   "outputs": [],
   "source": [
    "mean1=com['Minutes'].mean()"
   ]
  },
  {
   "cell_type": "code",
   "execution_count": 207,
   "id": "a08b7b3e",
   "metadata": {},
   "outputs": [
    {
     "data": {
      "text/plain": [
       "97.21428571428571"
      ]
     },
     "execution_count": 207,
     "metadata": {},
     "output_type": "execute_result"
    }
   ],
   "source": [
    "mean1"
   ]
  },
  {
   "cell_type": "markdown",
   "id": "78e4bdee",
   "metadata": {},
   "source": [
    "# Visualization"
   ]
  },
  {
   "cell_type": "code",
   "execution_count": 213,
   "id": "b111fb03",
   "metadata": {},
   "outputs": [
    {
     "data": {
      "text/plain": [
       "Text(7.5, 99.21428571428571, 'mean is')"
      ]
     },
     "execution_count": 213,
     "metadata": {},
     "output_type": "execute_result"
    },
    {
     "data": {
      "image/png": "[encoded data removed]",
      "text/plain": [
       "<Figure size 432x288 with 1 Axes>"
      ]
     },
     "metadata": {
      "needs_background": "light"
     },
     "output_type": "display_data"
    }
   ],
   "source": [
    "plt.scatter(\"Units\",\"Minutes\",data=com,color='g')\n",
    "plt.axhline(mean1,c='r')\n",
    "plt.annotate(\"mean is\",xy=(7.5,mean1+2))"
   ]
  },
  {
   "cell_type": "markdown",
   "id": "dc9c68d4",
   "metadata": {},
   "source": [
    "# creating model"
   ]
  },
  {
   "cell_type": "code",
   "execution_count": 234,
   "id": "5c36f71c",
   "metadata": {},
   "outputs": [],
   "source": [
    "model0=com['Minutes'].mean()\n",
    "model1=12*com['Units']+3\n",
    "model2=15*com['Units']+4"
   ]
  },
  {
   "cell_type": "code",
   "execution_count": 235,
   "id": "0e8f7150",
   "metadata": {},
   "outputs": [],
   "source": [
    "com['model0']=model0\n",
    "com['model1']=model1\n",
    "com[\"model2\"]=model2"
   ]
  },
  {
   "cell_type": "code",
   "execution_count": 236,
   "id": "76ba6a9b",
   "metadata": {},
   "outputs": [
    {
     "data": {
      "text/plain": [
       "97.21428571428571"
      ]
     },
     "execution_count": 236,
     "metadata": {},
     "output_type": "execute_result"
    }
   ],
   "source": [
    "model0"
   ]
  },
  {
   "cell_type": "code",
   "execution_count": 237,
   "id": "8f4f0728",
   "metadata": {},
   "outputs": [
    {
     "data": {
      "text/plain": [
       "0      15\n",
       "1      27\n",
       "2      39\n",
       "3      51\n",
       "4      51\n",
       "5      63\n",
       "6      75\n",
       "7      75\n",
       "8      87\n",
       "9      99\n",
       "10    111\n",
       "11    111\n",
       "12    123\n",
       "13    123\n",
       "Name: Units, dtype: int64"
      ]
     },
     "execution_count": 237,
     "metadata": {},
     "output_type": "execute_result"
    }
   ],
   "source": [
    "model1"
   ]
  },
  {
   "cell_type": "code",
   "execution_count": 238,
   "id": "8b490eba",
   "metadata": {},
   "outputs": [
    {
     "data": {
      "text/plain": [
       "0      19\n",
       "1      34\n",
       "2      49\n",
       "3      64\n",
       "4      64\n",
       "5      79\n",
       "6      94\n",
       "7      94\n",
       "8     109\n",
       "9     124\n",
       "10    139\n",
       "11    139\n",
       "12    154\n",
       "13    154\n",
       "Name: Units, dtype: int64"
      ]
     },
     "execution_count": 238,
     "metadata": {},
     "output_type": "execute_result"
    }
   ],
   "source": [
    "model2"
   ]
  },
  {
   "cell_type": "code",
   "execution_count": 240,
   "id": "3e2c6927",
   "metadata": {},
   "outputs": [
    {
     "data": {
      "text/plain": [
       "[<matplotlib.lines.Line2D at 0x1e4389aca00>]"
      ]
     },
     "execution_count": 240,
     "metadata": {},
     "output_type": "execute_result"
    },
    {
     "data": {
      "image/png": "[encoded data removed]",
      "text/plain": [
       "<Figure size 432x288 with 1 Axes>"
      ]
     },
     "metadata": {
      "needs_background": "light"
     },
     "output_type": "display_data"
    }
   ],
   "source": [
    "plt.scatter(\"Units\",\"Minutes\",data=com,color='r')\n",
    "plt.plot(\"Units\",\"model1\",data=com)\n",
    "plt.plot(\"Units\",\"model0\",data=com)\n",
    "plt.plot(\"Units\",\"model2\",data=com)"
   ]
  },
  {
   "cell_type": "code",
   "execution_count": 243,
   "id": "8d4b1a96",
   "metadata": {},
   "outputs": [],
   "source": [
    "model_all0=pd.DataFrame(\n",
    "{\n",
    "    \"Units\":com.Units,\n",
    "    \"Minutes\":com.Minutes,\n",
    "    \"predict\":com.model0,\n",
    "    \"Error\":com.model0-com.Minutes\n",
    "})"
   ]
  },
  {
   "cell_type": "code",
   "execution_count": 244,
   "id": "beef3a5c",
   "metadata": {},
   "outputs": [
    {
     "data": {
      "text/html": [
       "<div>\n",
       "<style scoped>\n",
       "    .dataframe tbody tr th:only-of-type {\n",
       "        vertical-align: middle;\n",
       "    }\n",
       "\n",
       "    .dataframe tbody tr th {\n",
       "        vertical-align: top;\n",
       "    }\n",
       "\n",
       "    .dataframe thead th {\n",
       "        text-align: right;\n",
       "    }\n",
       "</style>\n",
       "<table border=\"1\" class=\"dataframe\">\n",
       "  <thead>\n",
       "    <tr style=\"text-align: right;\">\n",
       "      <th></th>\n",
       "      <th>Units</th>\n",
       "      <th>Minutes</th>\n",
       "      <th>predict</th>\n",
       "      <th>Error</th>\n",
       "    </tr>\n",
       "  </thead>\n",
       "  <tbody>\n",
       "    <tr>\n",
       "      <th>0</th>\n",
       "      <td>1</td>\n",
       "      <td>23</td>\n",
       "      <td>97.214286</td>\n",
       "      <td>74.214286</td>\n",
       "    </tr>\n",
       "    <tr>\n",
       "      <th>1</th>\n",
       "      <td>2</td>\n",
       "      <td>29</td>\n",
       "      <td>97.214286</td>\n",
       "      <td>68.214286</td>\n",
       "    </tr>\n",
       "    <tr>\n",
       "      <th>2</th>\n",
       "      <td>3</td>\n",
       "      <td>49</td>\n",
       "      <td>97.214286</td>\n",
       "      <td>48.214286</td>\n",
       "    </tr>\n",
       "    <tr>\n",
       "      <th>3</th>\n",
       "      <td>4</td>\n",
       "      <td>64</td>\n",
       "      <td>97.214286</td>\n",
       "      <td>33.214286</td>\n",
       "    </tr>\n",
       "    <tr>\n",
       "      <th>4</th>\n",
       "      <td>4</td>\n",
       "      <td>74</td>\n",
       "      <td>97.214286</td>\n",
       "      <td>23.214286</td>\n",
       "    </tr>\n",
       "    <tr>\n",
       "      <th>5</th>\n",
       "      <td>5</td>\n",
       "      <td>87</td>\n",
       "      <td>97.214286</td>\n",
       "      <td>10.214286</td>\n",
       "    </tr>\n",
       "    <tr>\n",
       "      <th>6</th>\n",
       "      <td>6</td>\n",
       "      <td>96</td>\n",
       "      <td>97.214286</td>\n",
       "      <td>1.214286</td>\n",
       "    </tr>\n",
       "    <tr>\n",
       "      <th>7</th>\n",
       "      <td>6</td>\n",
       "      <td>97</td>\n",
       "      <td>97.214286</td>\n",
       "      <td>0.214286</td>\n",
       "    </tr>\n",
       "    <tr>\n",
       "      <th>8</th>\n",
       "      <td>7</td>\n",
       "      <td>109</td>\n",
       "      <td>97.214286</td>\n",
       "      <td>-11.785714</td>\n",
       "    </tr>\n",
       "    <tr>\n",
       "      <th>9</th>\n",
       "      <td>8</td>\n",
       "      <td>119</td>\n",
       "      <td>97.214286</td>\n",
       "      <td>-21.785714</td>\n",
       "    </tr>\n",
       "    <tr>\n",
       "      <th>10</th>\n",
       "      <td>9</td>\n",
       "      <td>149</td>\n",
       "      <td>97.214286</td>\n",
       "      <td>-51.785714</td>\n",
       "    </tr>\n",
       "    <tr>\n",
       "      <th>11</th>\n",
       "      <td>9</td>\n",
       "      <td>145</td>\n",
       "      <td>97.214286</td>\n",
       "      <td>-47.785714</td>\n",
       "    </tr>\n",
       "    <tr>\n",
       "      <th>12</th>\n",
       "      <td>10</td>\n",
       "      <td>154</td>\n",
       "      <td>97.214286</td>\n",
       "      <td>-56.785714</td>\n",
       "    </tr>\n",
       "    <tr>\n",
       "      <th>13</th>\n",
       "      <td>10</td>\n",
       "      <td>166</td>\n",
       "      <td>97.214286</td>\n",
       "      <td>-68.785714</td>\n",
       "    </tr>\n",
       "  </tbody>\n",
       "</table>\n",
       "</div>"
      ],
      "text/plain": [
       "    Units  Minutes    predict      Error\n",
       "0       1       23  97.214286  74.214286\n",
       "1       2       29  97.214286  68.214286\n",
       "2       3       49  97.214286  48.214286\n",
       "3       4       64  97.214286  33.214286\n",
       "4       4       74  97.214286  23.214286\n",
       "5       5       87  97.214286  10.214286\n",
       "6       6       96  97.214286   1.214286\n",
       "7       6       97  97.214286   0.214286\n",
       "8       7      109  97.214286 -11.785714\n",
       "9       8      119  97.214286 -21.785714\n",
       "10      9      149  97.214286 -51.785714\n",
       "11      9      145  97.214286 -47.785714\n",
       "12     10      154  97.214286 -56.785714\n",
       "13     10      166  97.214286 -68.785714"
      ]
     },
     "execution_count": 244,
     "metadata": {},
     "output_type": "execute_result"
    }
   ],
   "source": [
    "model_all0"
   ]
  },
  {
   "cell_type": "code",
   "execution_count": 252,
   "id": "08253969",
   "metadata": {},
   "outputs": [
    {
     "data": {
      "text/plain": [
       "1361"
      ]
     },
     "execution_count": 252,
     "metadata": {},
     "output_type": "execute_result"
    }
   ],
   "source": [
    "sum(model_all0['Minutes'])\n",
    "sum(model_all0['Minutes']**2)"
   ]
  },
  {
   "cell_type": "code",
   "execution_count": 245,
   "id": "8abf128c",
   "metadata": {},
   "outputs": [],
   "source": [
    "model_all1=pd.DataFrame(\n",
    "{\n",
    "    \"Units\":com.Units,\n",
    "    \"Minutes\":com.Minutes,\n",
    "    \"predict\":com.model1,\n",
    "    \"Error\":com.model1-com.Minutes\n",
    "})"
   ]
  },
  {
   "cell_type": "code",
   "execution_count": 246,
   "id": "74765f8c",
   "metadata": {},
   "outputs": [
    {
     "data": {
      "text/html": [
       "<div>\n",
       "<style scoped>\n",
       "    .dataframe tbody tr th:only-of-type {\n",
       "        vertical-align: middle;\n",
       "    }\n",
       "\n",
       "    .dataframe tbody tr th {\n",
       "        vertical-align: top;\n",
       "    }\n",
       "\n",
       "    .dataframe thead th {\n",
       "        text-align: right;\n",
       "    }\n",
       "</style>\n",
       "<table border=\"1\" class=\"dataframe\">\n",
       "  <thead>\n",
       "    <tr style=\"text-align: right;\">\n",
       "      <th></th>\n",
       "      <th>Units</th>\n",
       "      <th>Minutes</th>\n",
       "      <th>predict</th>\n",
       "      <th>Error</th>\n",
       "    </tr>\n",
       "  </thead>\n",
       "  <tbody>\n",
       "    <tr>\n",
       "      <th>0</th>\n",
       "      <td>1</td>\n",
       "      <td>23</td>\n",
       "      <td>15</td>\n",
       "      <td>-8</td>\n",
       "    </tr>\n",
       "    <tr>\n",
       "      <th>1</th>\n",
       "      <td>2</td>\n",
       "      <td>29</td>\n",
       "      <td>27</td>\n",
       "      <td>-2</td>\n",
       "    </tr>\n",
       "    <tr>\n",
       "      <th>2</th>\n",
       "      <td>3</td>\n",
       "      <td>49</td>\n",
       "      <td>39</td>\n",
       "      <td>-10</td>\n",
       "    </tr>\n",
       "    <tr>\n",
       "      <th>3</th>\n",
       "      <td>4</td>\n",
       "      <td>64</td>\n",
       "      <td>51</td>\n",
       "      <td>-13</td>\n",
       "    </tr>\n",
       "    <tr>\n",
       "      <th>4</th>\n",
       "      <td>4</td>\n",
       "      <td>74</td>\n",
       "      <td>51</td>\n",
       "      <td>-23</td>\n",
       "    </tr>\n",
       "    <tr>\n",
       "      <th>5</th>\n",
       "      <td>5</td>\n",
       "      <td>87</td>\n",
       "      <td>63</td>\n",
       "      <td>-24</td>\n",
       "    </tr>\n",
       "    <tr>\n",
       "      <th>6</th>\n",
       "      <td>6</td>\n",
       "      <td>96</td>\n",
       "      <td>75</td>\n",
       "      <td>-21</td>\n",
       "    </tr>\n",
       "    <tr>\n",
       "      <th>7</th>\n",
       "      <td>6</td>\n",
       "      <td>97</td>\n",
       "      <td>75</td>\n",
       "      <td>-22</td>\n",
       "    </tr>\n",
       "    <tr>\n",
       "      <th>8</th>\n",
       "      <td>7</td>\n",
       "      <td>109</td>\n",
       "      <td>87</td>\n",
       "      <td>-22</td>\n",
       "    </tr>\n",
       "    <tr>\n",
       "      <th>9</th>\n",
       "      <td>8</td>\n",
       "      <td>119</td>\n",
       "      <td>99</td>\n",
       "      <td>-20</td>\n",
       "    </tr>\n",
       "    <tr>\n",
       "      <th>10</th>\n",
       "      <td>9</td>\n",
       "      <td>149</td>\n",
       "      <td>111</td>\n",
       "      <td>-38</td>\n",
       "    </tr>\n",
       "    <tr>\n",
       "      <th>11</th>\n",
       "      <td>9</td>\n",
       "      <td>145</td>\n",
       "      <td>111</td>\n",
       "      <td>-34</td>\n",
       "    </tr>\n",
       "    <tr>\n",
       "      <th>12</th>\n",
       "      <td>10</td>\n",
       "      <td>154</td>\n",
       "      <td>123</td>\n",
       "      <td>-31</td>\n",
       "    </tr>\n",
       "    <tr>\n",
       "      <th>13</th>\n",
       "      <td>10</td>\n",
       "      <td>166</td>\n",
       "      <td>123</td>\n",
       "      <td>-43</td>\n",
       "    </tr>\n",
       "  </tbody>\n",
       "</table>\n",
       "</div>"
      ],
      "text/plain": [
       "    Units  Minutes  predict  Error\n",
       "0       1       23       15     -8\n",
       "1       2       29       27     -2\n",
       "2       3       49       39    -10\n",
       "3       4       64       51    -13\n",
       "4       4       74       51    -23\n",
       "5       5       87       63    -24\n",
       "6       6       96       75    -21\n",
       "7       6       97       75    -22\n",
       "8       7      109       87    -22\n",
       "9       8      119       99    -20\n",
       "10      9      149      111    -38\n",
       "11      9      145      111    -34\n",
       "12     10      154      123    -31\n",
       "13     10      166      123    -43"
      ]
     },
     "execution_count": 246,
     "metadata": {},
     "output_type": "execute_result"
    }
   ],
   "source": [
    "model_all1"
   ]
  },
  {
   "cell_type": "code",
   "execution_count": 255,
   "id": "3c33b5c6",
   "metadata": {},
   "outputs": [
    {
     "name": "stdout",
     "output_type": "stream",
     "text": [
      "1361\n"
     ]
    },
    {
     "data": {
      "text/plain": [
       "160077"
      ]
     },
     "execution_count": 255,
     "metadata": {},
     "output_type": "execute_result"
    }
   ],
   "source": [
    "print(sum(model_all1['Minutes']))\n",
    "sum(model_all1['Minutes']**2)"
   ]
  },
  {
   "cell_type": "code",
   "execution_count": 247,
   "id": "d0d7efdd",
   "metadata": {},
   "outputs": [],
   "source": [
    "model_all2=pd.DataFrame(\n",
    "{\n",
    "    \"Units\":com.Units,\n",
    "    \"Minutes\":com.Minutes,\n",
    "    \"predict\":com.model2,\n",
    "    \"Error\":com.model2-com.Minutes\n",
    "})"
   ]
  },
  {
   "cell_type": "code",
   "execution_count": 248,
   "id": "b57ed51e",
   "metadata": {},
   "outputs": [
    {
     "data": {
      "text/html": [
       "<div>\n",
       "<style scoped>\n",
       "    .dataframe tbody tr th:only-of-type {\n",
       "        vertical-align: middle;\n",
       "    }\n",
       "\n",
       "    .dataframe tbody tr th {\n",
       "        vertical-align: top;\n",
       "    }\n",
       "\n",
       "    .dataframe thead th {\n",
       "        text-align: right;\n",
       "    }\n",
       "</style>\n",
       "<table border=\"1\" class=\"dataframe\">\n",
       "  <thead>\n",
       "    <tr style=\"text-align: right;\">\n",
       "      <th></th>\n",
       "      <th>Units</th>\n",
       "      <th>Minutes</th>\n",
       "      <th>predict</th>\n",
       "      <th>Error</th>\n",
       "    </tr>\n",
       "  </thead>\n",
       "  <tbody>\n",
       "    <tr>\n",
       "      <th>0</th>\n",
       "      <td>1</td>\n",
       "      <td>23</td>\n",
       "      <td>19</td>\n",
       "      <td>-4</td>\n",
       "    </tr>\n",
       "    <tr>\n",
       "      <th>1</th>\n",
       "      <td>2</td>\n",
       "      <td>29</td>\n",
       "      <td>34</td>\n",
       "      <td>5</td>\n",
       "    </tr>\n",
       "    <tr>\n",
       "      <th>2</th>\n",
       "      <td>3</td>\n",
       "      <td>49</td>\n",
       "      <td>49</td>\n",
       "      <td>0</td>\n",
       "    </tr>\n",
       "    <tr>\n",
       "      <th>3</th>\n",
       "      <td>4</td>\n",
       "      <td>64</td>\n",
       "      <td>64</td>\n",
       "      <td>0</td>\n",
       "    </tr>\n",
       "    <tr>\n",
       "      <th>4</th>\n",
       "      <td>4</td>\n",
       "      <td>74</td>\n",
       "      <td>64</td>\n",
       "      <td>-10</td>\n",
       "    </tr>\n",
       "    <tr>\n",
       "      <th>5</th>\n",
       "      <td>5</td>\n",
       "      <td>87</td>\n",
       "      <td>79</td>\n",
       "      <td>-8</td>\n",
       "    </tr>\n",
       "    <tr>\n",
       "      <th>6</th>\n",
       "      <td>6</td>\n",
       "      <td>96</td>\n",
       "      <td>94</td>\n",
       "      <td>-2</td>\n",
       "    </tr>\n",
       "    <tr>\n",
       "      <th>7</th>\n",
       "      <td>6</td>\n",
       "      <td>97</td>\n",
       "      <td>94</td>\n",
       "      <td>-3</td>\n",
       "    </tr>\n",
       "    <tr>\n",
       "      <th>8</th>\n",
       "      <td>7</td>\n",
       "      <td>109</td>\n",
       "      <td>109</td>\n",
       "      <td>0</td>\n",
       "    </tr>\n",
       "    <tr>\n",
       "      <th>9</th>\n",
       "      <td>8</td>\n",
       "      <td>119</td>\n",
       "      <td>124</td>\n",
       "      <td>5</td>\n",
       "    </tr>\n",
       "    <tr>\n",
       "      <th>10</th>\n",
       "      <td>9</td>\n",
       "      <td>149</td>\n",
       "      <td>139</td>\n",
       "      <td>-10</td>\n",
       "    </tr>\n",
       "    <tr>\n",
       "      <th>11</th>\n",
       "      <td>9</td>\n",
       "      <td>145</td>\n",
       "      <td>139</td>\n",
       "      <td>-6</td>\n",
       "    </tr>\n",
       "    <tr>\n",
       "      <th>12</th>\n",
       "      <td>10</td>\n",
       "      <td>154</td>\n",
       "      <td>154</td>\n",
       "      <td>0</td>\n",
       "    </tr>\n",
       "    <tr>\n",
       "      <th>13</th>\n",
       "      <td>10</td>\n",
       "      <td>166</td>\n",
       "      <td>154</td>\n",
       "      <td>-12</td>\n",
       "    </tr>\n",
       "  </tbody>\n",
       "</table>\n",
       "</div>"
      ],
      "text/plain": [
       "    Units  Minutes  predict  Error\n",
       "0       1       23       19     -4\n",
       "1       2       29       34      5\n",
       "2       3       49       49      0\n",
       "3       4       64       64      0\n",
       "4       4       74       64    -10\n",
       "5       5       87       79     -8\n",
       "6       6       96       94     -2\n",
       "7       6       97       94     -3\n",
       "8       7      109      109      0\n",
       "9       8      119      124      5\n",
       "10      9      149      139    -10\n",
       "11      9      145      139     -6\n",
       "12     10      154      154      0\n",
       "13     10      166      154    -12"
      ]
     },
     "execution_count": 248,
     "metadata": {},
     "output_type": "execute_result"
    }
   ],
   "source": [
    "model_all2"
   ]
  },
  {
   "cell_type": "code",
   "execution_count": 256,
   "id": "5ec3e26d",
   "metadata": {},
   "outputs": [
    {
     "name": "stdout",
     "output_type": "stream",
     "text": [
      "1361\n"
     ]
    },
    {
     "data": {
      "text/plain": [
       "160077"
      ]
     },
     "execution_count": 256,
     "metadata": {},
     "output_type": "execute_result"
    }
   ],
   "source": [
    "print(sum(model_all2['Minutes']))\n",
    "sum(model_all2['Minutes']**2)"
   ]
  },
  {
   "cell_type": "code",
   "execution_count": 259,
   "id": "f92870a0",
   "metadata": {},
   "outputs": [],
   "source": [
    "x=com[['Units']]\n",
    "y=com['Minutes']"
   ]
  },
  {
   "cell_type": "code",
   "execution_count": 257,
   "id": "efc58f05",
   "metadata": {},
   "outputs": [],
   "source": [
    "from sklearn.linear_model import LinearRegression"
   ]
  },
  {
   "cell_type": "code",
   "execution_count": 260,
   "id": "11c557e7",
   "metadata": {},
   "outputs": [],
   "source": [
    "new=LinearRegression()"
   ]
  },
  {
   "cell_type": "code",
   "execution_count": 261,
   "id": "04dc0f32",
   "metadata": {},
   "outputs": [
    {
     "data": {
      "text/plain": [
       "LinearRegression()"
      ]
     },
     "execution_count": 261,
     "metadata": {},
     "output_type": "execute_result"
    }
   ],
   "source": [
    "new.fit(x,y)"
   ]
  },
  {
   "cell_type": "code",
   "execution_count": 262,
   "id": "66303db0",
   "metadata": {},
   "outputs": [],
   "source": [
    "pred=new.predict(x)"
   ]
  },
  {
   "cell_type": "code",
   "execution_count": 263,
   "id": "e33eb04e",
   "metadata": {},
   "outputs": [
    {
     "data": {
      "text/plain": [
       "array([ 19.67042607,  35.17919799,  50.68796992,  66.19674185,\n",
       "        66.19674185,  81.70551378,  97.21428571,  97.21428571,\n",
       "       112.72305764, 128.23182957, 143.7406015 , 143.7406015 ,\n",
       "       159.24937343, 159.24937343])"
      ]
     },
     "execution_count": 263,
     "metadata": {},
     "output_type": "execute_result"
    }
   ],
   "source": [
    "pred"
   ]
  },
  {
   "cell_type": "code",
   "execution_count": 264,
   "id": "2d676e41",
   "metadata": {},
   "outputs": [
    {
     "data": {
      "text/plain": [
       "0      23\n",
       "1      29\n",
       "2      49\n",
       "3      64\n",
       "4      74\n",
       "5      87\n",
       "6      96\n",
       "7      97\n",
       "8     109\n",
       "9     119\n",
       "10    149\n",
       "11    145\n",
       "12    154\n",
       "13    166\n",
       "Name: Minutes, dtype: int64"
      ]
     },
     "execution_count": 264,
     "metadata": {},
     "output_type": "execute_result"
    }
   ],
   "source": [
    "y"
   ]
  },
  {
   "cell_type": "code",
   "execution_count": 265,
   "id": "8d0b657c",
   "metadata": {},
   "outputs": [
    {
     "data": {
      "text/plain": [
       "array([15.50877193])"
      ]
     },
     "execution_count": 265,
     "metadata": {},
     "output_type": "execute_result"
    }
   ],
   "source": [
    "new.coef_"
   ]
  },
  {
   "cell_type": "code",
   "execution_count": 266,
   "id": "8cfa1eed",
   "metadata": {},
   "outputs": [
    {
     "data": {
      "text/plain": [
       "4.161654135338296"
      ]
     },
     "execution_count": 266,
     "metadata": {},
     "output_type": "execute_result"
    }
   ],
   "source": [
    "new.intercept_"
   ]
  },
  {
   "cell_type": "code",
   "execution_count": 267,
   "id": "1a328283",
   "metadata": {},
   "outputs": [
    {
     "data": {
      "text/plain": [
       "0.9874371980620736"
      ]
     },
     "execution_count": 267,
     "metadata": {},
     "output_type": "execute_result"
    }
   ],
   "source": [
    "new.score(x,y)"
   ]
  },
  {
   "cell_type": "code",
   "execution_count": 271,
   "id": "cf10bbf9",
   "metadata": {},
   "outputs": [
    {
     "data": {
      "text/plain": [
       "0.9874371980620736"
      ]
     },
     "execution_count": 271,
     "metadata": {},
     "output_type": "execute_result"
    }
   ],
   "source": [
    "from sklearn.metrics import r2_score\n",
    "r2_score(y,pred)"
   ]
  },
  {
   "cell_type": "code",
   "execution_count": null,
   "id": "ff3e12db",
   "metadata": {},
   "outputs": [],
   "source": []
  }
 ],
 "metadata": {
  "kernelspec": {
   "display_name": "Python 3 (ipykernel)",
   "language": "python",
   "name": "python3"
  },
  "language_info": {
   "codemirror_mode": {
    "name": "ipython",
    "version": 3
   },
   "file_extension": ".py",
   "mimetype": "text/x-python",
   "name": "python",
   "nbconvert_exporter": "python",
   "pygments_lexer": "ipython3",
   "version": "3.9.12"
  }
 },
 "nbformat": 4,
 "nbformat_minor": 5
}
