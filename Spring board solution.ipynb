{
 "cells": [
  {
   "cell_type": "markdown",
   "id": "af09adfa",
   "metadata": {},
   "source": [
    "# importing required dataset"
   ]
  },
  {
   "cell_type": "code",
   "execution_count": 44,
   "id": "96e14405",
   "metadata": {},
   "outputs": [],
   "source": [
    "import numpy as np"
   ]
  },
  {
   "cell_type": "code",
   "execution_count": 45,
   "id": "8f83fb16",
   "metadata": {},
   "outputs": [],
   "source": [
    "import pandas as pd"
   ]
  },
  {
   "cell_type": "code",
   "execution_count": 46,
   "id": "98a09a57",
   "metadata": {},
   "outputs": [],
   "source": [
    "import matplotlib.pyplot as plt"
   ]
  },
  {
   "cell_type": "code",
   "execution_count": 47,
   "id": "e78bc1a8",
   "metadata": {},
   "outputs": [],
   "source": [
    "com=pd.read_csv(\"computers.csv\")"
   ]
  },
  {
   "cell_type": "code",
   "execution_count": 48,
   "id": "8badf8fe",
   "metadata": {},
   "outputs": [
    {
     "data": {
      "text/html": [
       "<div>\n",
       "<style scoped>\n",
       "    .dataframe tbody tr th:only-of-type {\n",
       "        vertical-align: middle;\n",
       "    }\n",
       "\n",
       "    .dataframe tbody tr th {\n",
       "        vertical-align: top;\n",
       "    }\n",
       "\n",
       "    .dataframe thead th {\n",
       "        text-align: right;\n",
       "    }\n",
       "</style>\n",
       "<table border=\"1\" class=\"dataframe\">\n",
       "  <thead>\n",
       "    <tr style=\"text-align: right;\">\n",
       "      <th></th>\n",
       "      <th>Units</th>\n",
       "      <th>Minutes</th>\n",
       "    </tr>\n",
       "  </thead>\n",
       "  <tbody>\n",
       "    <tr>\n",
       "      <th>0</th>\n",
       "      <td>1</td>\n",
       "      <td>23</td>\n",
       "    </tr>\n",
       "    <tr>\n",
       "      <th>1</th>\n",
       "      <td>2</td>\n",
       "      <td>29</td>\n",
       "    </tr>\n",
       "    <tr>\n",
       "      <th>2</th>\n",
       "      <td>3</td>\n",
       "      <td>49</td>\n",
       "    </tr>\n",
       "    <tr>\n",
       "      <th>3</th>\n",
       "      <td>4</td>\n",
       "      <td>64</td>\n",
       "    </tr>\n",
       "    <tr>\n",
       "      <th>4</th>\n",
       "      <td>4</td>\n",
       "      <td>74</td>\n",
       "    </tr>\n",
       "  </tbody>\n",
       "</table>\n",
       "</div>"
      ],
      "text/plain": [
       "   Units  Minutes\n",
       "0      1       23\n",
       "1      2       29\n",
       "2      3       49\n",
       "3      4       64\n",
       "4      4       74"
      ]
     },
     "execution_count": 48,
     "metadata": {},
     "output_type": "execute_result"
    }
   ],
   "source": [
    "com.head()"
   ]
  },
  {
   "cell_type": "markdown",
   "id": "1d174214",
   "metadata": {},
   "source": [
    "# feature Engineering"
   ]
  },
  {
   "cell_type": "markdown",
   "id": "8578e570",
   "metadata": {},
   "source": [
    "### calculating mean"
   ]
  },
  {
   "cell_type": "code",
   "execution_count": 49,
   "id": "adc6e396",
   "metadata": {},
   "outputs": [],
   "source": [
    "mean_=com['Minutes'].mean()"
   ]
  },
  {
   "cell_type": "code",
   "execution_count": 50,
   "id": "023648d9",
   "metadata": {},
   "outputs": [
    {
     "data": {
      "text/plain": [
       "97.21428571428571"
      ]
     },
     "execution_count": 50,
     "metadata": {},
     "output_type": "execute_result"
    }
   ],
   "source": [
    "mean_"
   ]
  },
  {
   "cell_type": "markdown",
   "id": "55d40c99",
   "metadata": {},
   "source": [
    "# Visual Representation"
   ]
  },
  {
   "cell_type": "code",
   "execution_count": 51,
   "id": "f8be88f1",
   "metadata": {},
   "outputs": [
    {
     "data": {
      "text/plain": [
       "Text(7.5, 99.21428571428571, 'mean regression')"
      ]
     },
     "execution_count": 51,
     "metadata": {},
     "output_type": "execute_result"
    },
    {
     "data": {
      "image/png": "[encoded data removed]",
      "text/plain": [
       "<Figure size 432x288 with 1 Axes>"
      ]
     },
     "metadata": {
      "needs_background": "light"
     },
     "output_type": "display_data"
    }
   ],
   "source": [
    "plt.scatter(\"Units\",\"Minutes\",data=com)\n",
    "plt.axhline(mean_,c='r')\n",
    "plt.annotate(\"mean regression\",xy=(7.5,mean_+2))"
   ]
  },
  {
   "cell_type": "markdown",
   "id": "ba3f7a59",
   "metadata": {},
   "source": [
    "# Creating model"
   ]
  },
  {
   "cell_type": "code",
   "execution_count": 52,
   "id": "69cd1945",
   "metadata": {},
   "outputs": [],
   "source": [
    "model0=com['Minutes'].mean()\n",
    "model1=15*com['Units']+7\n",
    "model2=25*com['Units']+6"
   ]
  },
  {
   "cell_type": "code",
   "execution_count": 55,
   "id": "7f40f8bf",
   "metadata": {},
   "outputs": [],
   "source": [
    "com['model0']=model0\n",
    "com['model1']=model1\n",
    "com['model2']=model2"
   ]
  },
  {
   "cell_type": "markdown",
   "id": "efadd75d",
   "metadata": {},
   "source": [
    "# visual regresenation"
   ]
  },
  {
   "cell_type": "code",
   "execution_count": 59,
   "id": "a869043a",
   "metadata": {},
   "outputs": [
    {
     "data": {
      "text/plain": [
       "[<matplotlib.lines.Line2D at 0x1e17cf380a0>]"
      ]
     },
     "execution_count": 59,
     "metadata": {},
     "output_type": "execute_result"
    },
    {
     "data": {
      "image/png": "[encoded data removed]",
      "text/plain": [
       "<Figure size 432x288 with 1 Axes>"
      ]
     },
     "metadata": {
      "needs_background": "light"
     },
     "output_type": "display_data"
    }
   ],
   "source": [
    "plt.scatter(\"Units\",\"Minutes\",data=com)\n",
    "plt.plot(\"Units\",\"model0\",data=com)\n",
    "plt.plot(\"Units\",\"model1\",data=com)\n",
    "plt.plot(\"Units\",\"model2\",data=com)\n"
   ]
  },
  {
   "cell_type": "markdown",
   "id": "f6018f13",
   "metadata": {},
   "source": [
    "# Creating DataFrame of all model"
   ]
  },
  {
   "cell_type": "code",
   "execution_count": null,
   "id": "eee40f69",
   "metadata": {},
   "outputs": [],
   "source": [
    "model1=pd.DataFrame(\n",
    "{\n",
    "    \n",
    "})"
   ]
  }
 ],
 "metadata": {
  "kernelspec": {
   "display_name": "Python 3 (ipykernel)",
   "language": "python",
   "name": "python3"
  },
  "language_info": {
   "codemirror_mode": {
    "name": "ipython",
    "version": 3
   },
   "file_extension": ".py",
   "mimetype": "text/x-python",
   "name": "python",
   "nbconvert_exporter": "python",
   "pygments_lexer": "ipython3",
   "version": "3.9.12"
  }
 },
 "nbformat": 4,
 "nbformat_minor": 5
}
