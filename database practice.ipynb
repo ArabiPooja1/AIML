{
 "cells": [
  {
   "cell_type": "code",
   "execution_count": 1,
   "id": "b94714af",
   "metadata": {},
   "outputs": [],
   "source": [
    "import mysql.connector as con"
   ]
  },
  {
   "cell_type": "code",
   "execution_count": 6,
   "id": "7cd302c5",
   "metadata": {},
   "outputs": [
    {
     "name": "stdout",
     "output_type": "stream",
     "text": [
      "<mysql.connector.connection_cext.CMySQLConnection object at 0x000001B8746AB5E0>\n"
     ]
    }
   ],
   "source": [
    "import mysql.connector as con\n",
    "new_db=con.connect(\n",
    "    host=\"localhost\",\n",
    "    user=\"root\",\n",
    "    password=\"tiger\"\n",
    ")\n",
    "print(new_db)"
   ]
  },
  {
   "cell_type": "code",
   "execution_count": 11,
   "id": "22b6d0db",
   "metadata": {},
   "outputs": [],
   "source": [
    "import mysql.connector as con\n",
    "new_db=con.connect(\n",
    "    host=\"localhost\",\n",
    "    user=\"root\",\n",
    "    password=\"tiger\"\n",
    ")\n",
    "new_cursor=new_db.cursor()\n",
    "new_cursor.execute(\"create database company\")"
   ]
  },
  {
   "cell_type": "code",
   "execution_count": 12,
   "id": "1b4b73ce",
   "metadata": {},
   "outputs": [
    {
     "name": "stdout",
     "output_type": "stream",
     "text": [
      "('blde',)\n",
      "('college',)\n",
      "('company',)\n",
      "('information_schema',)\n",
      "('mysql',)\n",
      "('performance_schema',)\n",
      "('sys',)\n"
     ]
    }
   ],
   "source": [
    "import mysql.connector as con\n",
    "new_db=con.connect(\n",
    "    host=\"localhost\",\n",
    "    user=\"root\",\n",
    "    password=\"tiger\"\n",
    ")\n",
    "new_cursor=new_db.cursor()\n",
    "new_cursor.execute(\"show databases\")\n",
    "for n in new_cursor:\n",
    "    print(n)"
   ]
  },
  {
   "cell_type": "code",
   "execution_count": 15,
   "id": "da49d4f0",
   "metadata": {},
   "outputs": [],
   "source": [
    "import mysql.connector as con\n",
    "new_db=con.connect(\n",
    "    host=\"localhost\",\n",
    "    user=\"root\",\n",
    "    password=\"tiger\",\n",
    "    database=\"blde\"\n",
    ")\n",
    "new_cursor=new_db.cursor()\n",
    "new_cursor.execute(\"CREATE TABLE EMPLOYEE(sname VARCHAR(200),sno VARCHAR(300))\")"
   ]
  },
  {
   "cell_type": "code",
   "execution_count": 19,
   "id": "f9d4bfba",
   "metadata": {},
   "outputs": [
    {
     "name": "stdout",
     "output_type": "stream",
     "text": [
      "('employee',)\n"
     ]
    }
   ],
   "source": [
    "import mysql.connector as con\n",
    "new_db=con.connect(\n",
    "    host=\"localhost\",\n",
    "    user=\"root\",\n",
    "    password=\"tiger\",\n",
    "    database=\"blde\"\n",
    ")\n",
    "new_cursor=new_db.cursor()\n",
    "new_cursor.execute(\"show tables\")\n",
    "for i in new_cursor:\n",
    "    print(i)"
   ]
  },
  {
   "cell_type": "code",
   "execution_count": 25,
   "id": "e5ef4fef",
   "metadata": {},
   "outputs": [],
   "source": [
    "import mysql.connector as con\n",
    "new_db=con.connect(\n",
    "    host=\"localhost\",\n",
    "    user=\"root\",\n",
    "    password=\"tiger\",\n",
    "    database=\"blde\"\n",
    ")\n",
    "new_cursor=new_db.cursor()\n",
    "new_cursor.execute(\"CREATE TABLE COMPANY (regno INT AUTO_INCREMENT PRIMARY KEY, sname VARCHAR(200),sno VARCHAR(300))\")"
   ]
  },
  {
   "cell_type": "code",
   "execution_count": 30,
   "id": "46cbf8fe",
   "metadata": {},
   "outputs": [],
   "source": [
    "import mysql.connector as con\n",
    "new_db=con.connect(\n",
    "    host=\"localhost\",\n",
    "    user=\"root\",\n",
    "    password=\"tiger\",\n",
    "    database=\"blde\"\n",
    ")\n",
    "new_cursor=new_db.cursor()\n",
    "new_cursor.execute(\"ALTER TABLE employee ADD COLUMN regno INT AUTO_INCREMENT PRIMARY KEY\")"
   ]
  },
  {
   "cell_type": "code",
   "execution_count": 4,
   "id": "ee6ed503",
   "metadata": {},
   "outputs": [
    {
     "name": "stdout",
     "output_type": "stream",
     "text": [
      "1 new row is inserted\n"
     ]
    }
   ],
   "source": [
    "import mysql.connector as con\n",
    "new_db=con.connect(\n",
    "    host=\"localhost\",\n",
    "    user=\"root\",\n",
    "    password=\"tiger\",\n",
    "    database=\"blde\"\n",
    ")\n",
    "new_cursor=new_db.cursor()\n",
    "sql=\"INSERT INTO employee(sname,sno)VALUES(%s,%s)\"\n",
    "values=(\"prachi\",\"393CS20005\")\n",
    "new_cursor.execute(sql,values)\n",
    "new_db.commit()\n",
    "print(new_cursor.rowcount,\"new row is inserted\")"
   ]
  },
  {
   "cell_type": "code",
   "execution_count": 12,
   "id": "9753637c",
   "metadata": {},
   "outputs": [
    {
     "name": "stdout",
     "output_type": "stream",
     "text": [
      "4 new row are inserted\n"
     ]
    }
   ],
   "source": [
    "import mysql.connector as con\n",
    "new_db=con.connect(\n",
    "    host=\"localhost\",\n",
    "    user=\"root\",\n",
    "    password=\"tiger\",\n",
    "    database=\"blde\"\n",
    ")\n",
    "new_cursor=new_db.cursor()\n",
    "sql=\"INSERT INTO employee (sname,sno) values(%s,%s)\"\n",
    "values=[(\"pooja\",\"393CS20020\"),\n",
    "        (\"laxmi\",\"393CS20010\"),\n",
    "        (\"varsha\",\"393CS20017\"),\n",
    "        (\"neha\",\"393CS20018\"),\n",
    "       ]\n",
    "new_cursor.executemany(sql,values)\n",
    "new_db.commit()\n",
    "print(new_cursor.rowcount,\"new row are inserted\")"
   ]
  },
  {
   "cell_type": "code",
   "execution_count": 13,
   "id": "2db249c5",
   "metadata": {},
   "outputs": [
    {
     "name": "stdout",
     "output_type": "stream",
     "text": [
      "('prachi', '393CS20005', 1)\n",
      "('prachi', '393CS20005', 2)\n",
      "('prachi', '393CS20005', 3)\n",
      "('pooja', '393CS20020', 4)\n",
      "('laxmi', '393CS20010', 5)\n",
      "('varsha', '393CS20017', 6)\n",
      "('neha', '393CS20018', 7)\n"
     ]
    }
   ],
   "source": [
    "import mysql.connector as con\n",
    "new_db=con.connect(\n",
    "    host=\"localhost\",\n",
    "    user=\"root\",\n",
    "    password=\"tiger\",\n",
    "    database=\"blde\"\n",
    ")\n",
    "new_cursor=new_db.cursor()\n",
    "new_cursor.execute(\"select * from employee\")\n",
    "result=new_cursor.fetchall()\n",
    "for i in result:\n",
    "    print(i)"
   ]
  },
  {
   "cell_type": "code",
   "execution_count": 15,
   "id": "05f50d83",
   "metadata": {},
   "outputs": [
    {
     "name": "stdout",
     "output_type": "stream",
     "text": [
      "prachi\n",
      "393CS20005\n",
      "1\n"
     ]
    }
   ],
   "source": [
    "import mysql.connector as con\n",
    "new_db=con.connect(\n",
    "    host=\"localhost\",\n",
    "    user=\"root\",\n",
    "    password=\"tiger\",\n",
    "    database=\"blde\"\n",
    ")\n",
    "new_cursor=new_db.cursor()\n",
    "new_cursor.execute(\"select * from employee\")\n",
    "result=new_cursor.fetchone()\n",
    "for i in result:\n",
    "    print(i)"
   ]
  },
  {
   "cell_type": "code",
   "execution_count": 19,
   "id": "74c8e199",
   "metadata": {},
   "outputs": [
    {
     "name": "stdout",
     "output_type": "stream",
     "text": [
      "('prachi',)\n",
      "('prachi',)\n",
      "('prachi',)\n",
      "('pooja',)\n",
      "('laxmi',)\n",
      "('varsha',)\n",
      "('neha',)\n"
     ]
    }
   ],
   "source": [
    "import mysql.connector as con\n",
    "new_db=con.connect(\n",
    "    host=\"localhost\",\n",
    "    user=\"root\",\n",
    "    password=\"tiger\",\n",
    "    database=\"blde\"\n",
    ")\n",
    "new_cursor=new_db.cursor()\n",
    "new_cursor.execute(\"SELECT Sname FROM employee\")\n",
    "result=new_cursor.fetchall()\n",
    "for i in result:\n",
    "    print(i)"
   ]
  },
  {
   "cell_type": "code",
   "execution_count": null,
   "id": "cbac7f97",
   "metadata": {},
   "outputs": [],
   "source": []
  }
 ],
 "metadata": {
  "kernelspec": {
   "display_name": "Python 3 (ipykernel)",
   "language": "python",
   "name": "python3"
  },
  "language_info": {
   "codemirror_mode": {
    "name": "ipython",
    "version": 3
   },
   "file_extension": ".py",
   "mimetype": "text/x-python",
   "name": "python",
   "nbconvert_exporter": "python",
   "pygments_lexer": "ipython3",
   "version": "3.9.12"
  }
 },
 "nbformat": 4,
 "nbformat_minor": 5
}
