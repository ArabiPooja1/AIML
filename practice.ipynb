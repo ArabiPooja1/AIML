{
 "cells": [
  {
   "cell_type": "code",
   "execution_count": 15,
   "id": "afed2eef",
   "metadata": {},
   "outputs": [
    {
     "name": "stdout",
     "output_type": "stream",
     "text": [
      "[1 4 6 8 6]\n",
      "(5,)\n",
      "int32\n"
     ]
    }
   ],
   "source": [
    "import numpy as np\n",
    "a=np.array([1,4,6,8,6])\n",
    "print(a)\n",
    "print(a.shape)\n",
    "print(a.dtype)"
   ]
  },
  {
   "cell_type": "code",
   "execution_count": 16,
   "id": "f9f4fd03",
   "metadata": {},
   "outputs": [
    {
     "name": "stdout",
     "output_type": "stream",
     "text": [
      "[0 1 2 3 4 5 6 7 8 9]\n",
      "(10,)\n",
      "int32\n"
     ]
    }
   ],
   "source": [
    "import numpy as np\n",
    "a=np.arange(10)\n",
    "print(a)\n",
    "print(a.shape)\n",
    "print(a.dtype)"
   ]
  },
  {
   "cell_type": "code",
   "execution_count": 17,
   "id": "f4702ecc",
   "metadata": {},
   "outputs": [
    {
     "name": "stdout",
     "output_type": "stream",
     "text": [
      "[2.  4.  5.  4.5 7.6]\n",
      "(5,)\n",
      "float64\n"
     ]
    }
   ],
   "source": [
    "a=np.array([2.,4.,5.,4.5,7.6])\n",
    "print(a)\n",
    "print(a.shape)\n",
    "print(a.dtype)"
   ]
  },
  {
   "cell_type": "code",
   "execution_count": 18,
   "id": "4a4d2a4e",
   "metadata": {},
   "outputs": [
    {
     "name": "stdout",
     "output_type": "stream",
     "text": [
      "[ 0.  1.  2.  3.  4.  5.  6.  7.  8.  9. 10.]\n",
      "(11,)\n",
      "float64\n"
     ]
    }
   ],
   "source": [
    "a=np.arange(10.8)\n",
    "print(a)\n",
    "print(a.shape)\n",
    "print(a.dtype)"
   ]
  },
  {
   "cell_type": "code",
   "execution_count": 19,
   "id": "f49bf49f",
   "metadata": {},
   "outputs": [
    {
     "name": "stdout",
     "output_type": "stream",
     "text": [
      "[[2 4 5 8 7 5]\n",
      " [4 6 5 3 7 8]]\n",
      "(2, 6)\n",
      "int32\n"
     ]
    }
   ],
   "source": [
    "a=np.array([[2,4,5,8,7,5,],[4,6,5,3,7,8]])\n",
    "print(a)\n",
    "print(a.shape)\n",
    "print(a.dtype)"
   ]
  },
  {
   "cell_type": "code",
   "execution_count": 20,
   "id": "6dd3ca07",
   "metadata": {},
   "outputs": [
    {
     "name": "stdout",
     "output_type": "stream",
     "text": [
      "[[ 0  1  2  3  4]\n",
      " [ 5  6  7  8  9]\n",
      " [10 11 12 13 14]\n",
      " [15 16 17 18 19]]\n",
      "(4, 5)\n",
      "int32\n"
     ]
    }
   ],
   "source": [
    "a=np.arange(20).reshape(4,5)\n",
    "print(a)\n",
    "print(a.shape)\n",
    "print(a.dtype)"
   ]
  },
  {
   "cell_type": "code",
   "execution_count": 21,
   "id": "1ca1c78d",
   "metadata": {},
   "outputs": [
    {
     "name": "stdout",
     "output_type": "stream",
     "text": [
      "[[2.3 4.4 6.5 8.9]\n",
      " [3.4 4.5 6.7 9. ]]\n",
      "(2, 4)\n",
      "float64\n"
     ]
    }
   ],
   "source": [
    "a=np.array([[2.3,4.4,6.5,8.9],[3.4,4.5,6.7,9.]])\n",
    "print(a)\n",
    "print(a.shape)\n",
    "print(a.dtype)"
   ]
  },
  {
   "cell_type": "code",
   "execution_count": 22,
   "id": "58cf53f9",
   "metadata": {},
   "outputs": [
    {
     "name": "stdout",
     "output_type": "stream",
     "text": [
      "[[ 0  1  2]\n",
      " [ 3  4  5]\n",
      " [ 6  7  8]\n",
      " [ 9 10 11]\n",
      " [12 13 14]\n",
      " [15 16 17]]\n",
      "(6, 3)\n",
      "int32\n"
     ]
    }
   ],
   "source": [
    "a=np.arange(18).reshape(6,3)\n",
    "print(a)\n",
    "print(a.shape)\n",
    "print(a.dtype)"
   ]
  },
  {
   "cell_type": "code",
   "execution_count": 23,
   "id": "7d5a9224",
   "metadata": {},
   "outputs": [
    {
     "name": "stdout",
     "output_type": "stream",
     "text": [
      "[[[2 4 5 6]\n",
      "  [2 5 7 9]]\n",
      "\n",
      " [[3 5 7 5]\n",
      "  [3 5 8 2]]\n",
      "\n",
      " [[2 4 5 6]\n",
      "  [3 6 8 9]]]\n",
      "(3, 2, 4)\n",
      "int32\n"
     ]
    }
   ],
   "source": [
    "a=np.array([[[2,4,5,6],[2,5,7,9]],[[3,5,7,5],[3,5,8,2]],[[2,4,5,6],[3,6,8,9]]])\n",
    "print(a)\n",
    "print(a.shape)\n",
    "print(a.dtype)"
   ]
  },
  {
   "cell_type": "code",
   "execution_count": 24,
   "id": "5d5ed8f8",
   "metadata": {},
   "outputs": [
    {
     "name": "stdout",
     "output_type": "stream",
     "text": [
      "[[[ 0  1  2  3  4]\n",
      "  [ 5  6  7  8  9]]\n",
      "\n",
      " [[10 11 12 13 14]\n",
      "  [15 16 17 18 19]]\n",
      "\n",
      " [[20 21 22 23 24]\n",
      "  [25 26 27 28 29]]\n",
      "\n",
      " [[30 31 32 33 34]\n",
      "  [35 36 37 38 39]]\n",
      "\n",
      " [[40 41 42 43 44]\n",
      "  [45 46 47 48 49]]]\n",
      "(5, 2, 5)\n",
      "int32\n"
     ]
    }
   ],
   "source": [
    "a=np.arange(50).reshape(5,2,5)\n",
    "print(a)\n",
    "print(a.shape)\n",
    "print(a.dtype)"
   ]
  },
  {
   "cell_type": "code",
   "execution_count": 25,
   "id": "6c9780b7",
   "metadata": {},
   "outputs": [
    {
     "name": "stdout",
     "output_type": "stream",
     "text": [
      "[[[2.4 3.4 5.5 6.1]\n",
      "  [3.  5.1 7.2 9.5]]\n",
      "\n",
      " [[3.2 5.2 6.3 8.8]\n",
      "  [3.  5.9 7.  9.7]]]\n",
      "(2, 2, 4)\n",
      "float64\n"
     ]
    }
   ],
   "source": [
    "import numpy as np\n",
    "a=np.array([[[2.4,3.4,5.5,6.1],[3.,5.1,7.2,9.5]],[[3.2,5.2,6.3,8.8],[3.,5.9,7.0,9.7]]])\n",
    "print(a)\n",
    "print(a.shape)\n",
    "print(a.dtype)"
   ]
  },
  {
   "cell_type": "code",
   "execution_count": 26,
   "id": "43b0744e",
   "metadata": {},
   "outputs": [
    {
     "name": "stdout",
     "output_type": "stream",
     "text": [
      "[[[ 0  1  2  3]\n",
      "  [ 4  5  6  7]]\n",
      "\n",
      " [[ 8  9 10 11]\n",
      "  [12 13 14 15]]\n",
      "\n",
      " [[16 17 18 19]\n",
      "  [20 21 22 23]]]\n",
      "(3, 2, 4)\n",
      "int32\n"
     ]
    }
   ],
   "source": [
    "import numpy as np\n",
    "a=np.arange(24).reshape(3,2,4)\n",
    "print(a)\n",
    "print(a.shape)\n",
    "print(a.dtype)"
   ]
  },
  {
   "cell_type": "code",
   "execution_count": 27,
   "id": "4fd926d4",
   "metadata": {},
   "outputs": [],
   "source": [
    "import numpy as np"
   ]
  },
  {
   "cell_type": "code",
   "execution_count": 28,
   "id": "fb3ea785",
   "metadata": {},
   "outputs": [
    {
     "name": "stdout",
     "output_type": "stream",
     "text": [
      "[1. 1. 1. 1. 1. 1. 1. 1. 1.]\n",
      "(9,)\n",
      "float64\n"
     ]
    }
   ],
   "source": [
    "\n",
    "a=np.ones(9)\n",
    "print(a)\n",
    "print(a.shape)\n",
    "print(a.dtype)"
   ]
  },
  {
   "cell_type": "code",
   "execution_count": 29,
   "id": "fd4114b9",
   "metadata": {},
   "outputs": [
    {
     "name": "stdout",
     "output_type": "stream",
     "text": [
      "[[1 1 1]\n",
      " [1 1 1]\n",
      " [1 1 1]\n",
      " [1 1 1]\n",
      " [1 1 1]\n",
      " [1 1 1]\n",
      " [1 1 1]\n",
      " [1 1 1]\n",
      " [1 1 1]]\n",
      "(9, 3)\n",
      "int32\n"
     ]
    }
   ],
   "source": [
    "a=np.ones((9,3),dtype=np.int32)\n",
    "print(a)\n",
    "print(a.shape)\n",
    "print(a.dtype)"
   ]
  },
  {
   "cell_type": "code",
   "execution_count": 30,
   "id": "849f6ed8",
   "metadata": {},
   "outputs": [
    {
     "name": "stdout",
     "output_type": "stream",
     "text": [
      "[0. 0. 0. 0. 0. 0. 0. 0. 0.]\n",
      "(9,)\n",
      "float64\n"
     ]
    }
   ],
   "source": [
    "a=np.zeros(9)\n",
    "print(a)\n",
    "print(a.shape)\n",
    "print(a.dtype)"
   ]
  },
  {
   "cell_type": "code",
   "execution_count": 31,
   "id": "b10efbfa",
   "metadata": {},
   "outputs": [
    {
     "name": "stdout",
     "output_type": "stream",
     "text": [
      "[[0 0 0 0]\n",
      " [0 0 0 0]\n",
      " [0 0 0 0]\n",
      " [0 0 0 0]\n",
      " [0 0 0 0]\n",
      " [0 0 0 0]\n",
      " [0 0 0 0]\n",
      " [0 0 0 0]\n",
      " [0 0 0 0]]\n",
      "(9, 4)\n",
      "int32\n"
     ]
    }
   ],
   "source": [
    "a=np.zeros((9,4),dtype=np.int32)\n",
    "print(a)\n",
    "print(a.shape)\n",
    "print(a.dtype)"
   ]
  },
  {
   "cell_type": "code",
   "execution_count": 32,
   "id": "b521030f",
   "metadata": {},
   "outputs": [
    {
     "name": "stdout",
     "output_type": "stream",
     "text": [
      "[0 0 2 5 2 2 3 4 5 2 3 1 2 3 3 3 5 3 4 4 1 2 0 4 3 1 1 5 0 0 0 1 4 0 4 0 0\n",
      " 3 0 3 0 4 3 2 0 0 2 0 4 4 5 0 3 3 4 0 0 2 5 3 4 5 5 2 3 1 1 0 1 5 0 5 4 4\n",
      " 3 1 2 3 3 2 0 3 1 0 0 0 4 2]\n",
      "(88,)\n",
      "int32\n"
     ]
    }
   ],
   "source": [
    "a=np.random.randint(6, size=88)\n",
    "print(a)\n",
    "print(a.shape)\n",
    "print(a.dtype)"
   ]
  },
  {
   "cell_type": "code",
   "execution_count": 33,
   "id": "c0c0c4a1",
   "metadata": {},
   "outputs": [
    {
     "name": "stdout",
     "output_type": "stream",
     "text": [
      "[[1 3 2 4 2 5 0 4]\n",
      " [1 3 4 5 5 3 1 3]\n",
      " [3 4 0 0 0 5 2 4]\n",
      " [0 3 5 5 1 0 3 2]\n",
      " [5 5 5 2 5 3 3 2]\n",
      " [1 5 0 4 5 0 2 5]\n",
      " [1 4 2 1 1 5 0 0]\n",
      " [3 1 5 0 5 1 5 1]]\n",
      "(8, 8)\n",
      "int32\n"
     ]
    }
   ],
   "source": [
    "a=np.random.randint(6, size=(8,8))\n",
    "print(a)\n",
    "print(a.shape)\n",
    "print(a.dtype)"
   ]
  },
  {
   "cell_type": "code",
   "execution_count": 34,
   "id": "48da7104",
   "metadata": {},
   "outputs": [
    {
     "name": "stdout",
     "output_type": "stream",
     "text": [
      "[[0 1 0]\n",
      " [0 0 1]]\n",
      "(2, 3)\n",
      "int32\n"
     ]
    }
   ],
   "source": [
    "import numpy as np\n",
    "a=np.random.randint(2.0,size=(2,3))\n",
    "print(a)\n",
    "print(a.shape)\n",
    "print(a.dtype)\n"
   ]
  },
  {
   "cell_type": "code",
   "execution_count": 35,
   "id": "bbb82f67",
   "metadata": {},
   "outputs": [
    {
     "name": "stdout",
     "output_type": "stream",
     "text": [
      "[[7 7 3 3 5 5 7]\n",
      " [8 7 8 3 5 7 6]\n",
      " [2 3 8 7 4 3 5]\n",
      " [8 3 7 7 8 8 5]\n",
      " [5 7 5 4 8 6 2]]\n",
      "(5, 7)\n",
      "int32\n"
     ]
    }
   ],
   "source": [
    "a=np.random.randint(2,9,size=(5,7))\n",
    "print(a)\n",
    "print(a.shape)\n",
    "print(a.dtype)"
   ]
  },
  {
   "cell_type": "code",
   "execution_count": 36,
   "id": "5bac36df",
   "metadata": {},
   "outputs": [
    {
     "name": "stdout",
     "output_type": "stream",
     "text": [
      "[3 6 1]\n",
      "(3,)\n",
      "int32\n"
     ]
    }
   ],
   "source": [
    "a=np.random.randint(1,[10,24,90])\n",
    "print(a)\n",
    "print(a.shape)\n",
    "print(a.dtype)"
   ]
  },
  {
   "cell_type": "code",
   "execution_count": 37,
   "id": "7d693c6f",
   "metadata": {},
   "outputs": [
    {
     "name": "stdout",
     "output_type": "stream",
     "text": [
      "[71 85 90]\n",
      "(3,)\n",
      "int32\n"
     ]
    }
   ],
   "source": [
    "a=np.random.randint([10,24,90],100)\n",
    "print(a)\n",
    "print(a.shape)\n",
    "print(a.dtype)"
   ]
  },
  {
   "cell_type": "code",
   "execution_count": 38,
   "id": "5e597761",
   "metadata": {},
   "outputs": [
    {
     "name": "stdout",
     "output_type": "stream",
     "text": [
      "[ 3 12 71]\n",
      "(3,)\n",
      "int32\n"
     ]
    }
   ],
   "source": [
    "a=np.random.randint([1,8,9],[10,24,90])\n",
    "print(a)\n",
    "print(a.shape)\n",
    "print(a.dtype)"
   ]
  },
  {
   "cell_type": "code",
   "execution_count": 39,
   "id": "679c85b1",
   "metadata": {},
   "outputs": [
    {
     "name": "stdout",
     "output_type": "stream",
     "text": [
      "[[1. 0. 0.]\n",
      " [0. 1. 0.]\n",
      " [0. 0. 1.]]\n",
      "(3, 3)\n",
      "float64\n"
     ]
    }
   ],
   "source": [
    "a=np.eye(3,3)\n",
    "print(a)\n",
    "print(a.shape)\n",
    "print(a.dtype)"
   ]
  },
  {
   "cell_type": "code",
   "execution_count": 40,
   "id": "d28cac06",
   "metadata": {},
   "outputs": [
    {
     "name": "stdout",
     "output_type": "stream",
     "text": [
      "[[1 0 0]\n",
      " [0 1 0]\n",
      " [0 0 1]]\n",
      "(3, 3)\n",
      "int32\n"
     ]
    }
   ],
   "source": [
    "a=np.eye(3,3 ,dtype=np.int32)\n",
    "print(a)\n",
    "print(a.shape)\n",
    "print(a.dtype)"
   ]
  },
  {
   "cell_type": "code",
   "execution_count": 41,
   "id": "b66533ee",
   "metadata": {},
   "outputs": [
    {
     "name": "stdout",
     "output_type": "stream",
     "text": [
      "[0 0 1 1 2]\n"
     ]
    }
   ],
   "source": [
    "import numpy as np\n",
    "a=np.random.randint(4,size=5)\n",
    "print(a)"
   ]
  },
  {
   "cell_type": "code",
   "execution_count": 42,
   "id": "d8dd89ef",
   "metadata": {},
   "outputs": [
    {
     "data": {
      "text/plain": [
       "array([2, 2, 2, 0, 4, 3])"
      ]
     },
     "execution_count": 42,
     "metadata": {},
     "output_type": "execute_result"
    }
   ],
   "source": [
    "import numpy as np\n",
    "b=np.random.randint(5,size=6)\n",
    "b"
   ]
  },
  {
   "cell_type": "code",
   "execution_count": 43,
   "id": "51042caf",
   "metadata": {},
   "outputs": [
    {
     "name": "stdout",
     "output_type": "stream",
     "text": [
      "0\n"
     ]
    }
   ],
   "source": [
    "b=np.random.randint(10)\n",
    "print(b)"
   ]
  },
  {
   "cell_type": "code",
   "execution_count": 44,
   "id": "f2a3eaea",
   "metadata": {},
   "outputs": [
    {
     "name": "stdout",
     "output_type": "stream",
     "text": [
      "[7 6 2 1 5 0]\n"
     ]
    }
   ],
   "source": [
    "b=np.random.randint(10,size=6)\n",
    "print(b)"
   ]
  },
  {
   "cell_type": "code",
   "execution_count": 45,
   "id": "0abfd7ff",
   "metadata": {},
   "outputs": [
    {
     "name": "stdout",
     "output_type": "stream",
     "text": [
      "[3 2 4 3 4 3 3 3 4 3]\n"
     ]
    }
   ],
   "source": [
    "b=np.random.randint(2,5, size=10)\n",
    "print(b)"
   ]
  },
  {
   "cell_type": "code",
   "execution_count": 46,
   "id": "d0db7b16",
   "metadata": {},
   "outputs": [
    {
     "name": "stdout",
     "output_type": "stream",
     "text": [
      "[[4 2 4 2 2]\n",
      " [5 2 3 4 5]]\n"
     ]
    }
   ],
   "source": [
    "b=np.random.randint(2,7, size=(2,5))\n",
    "print(b)"
   ]
  },
  {
   "cell_type": "code",
   "execution_count": 47,
   "id": "da31a393",
   "metadata": {},
   "outputs": [
    {
     "name": "stdout",
     "output_type": "stream",
     "text": [
      "[1 2 1 1]\n"
     ]
    }
   ],
   "source": [
    "b=np.random.randint(1,[2,4,5,6])\n",
    "print(b)"
   ]
  },
  {
   "cell_type": "code",
   "execution_count": 48,
   "id": "eb4f9cdb",
   "metadata": {},
   "outputs": [
    {
     "name": "stdout",
     "output_type": "stream",
     "text": [
      "[5 7 8]\n"
     ]
    }
   ],
   "source": [
    "b=np.random.randint([3,4,6],10)\n",
    "print(b)"
   ]
  },
  {
   "cell_type": "code",
   "execution_count": 49,
   "id": "c5c86e39",
   "metadata": {},
   "outputs": [
    {
     "name": "stdout",
     "output_type": "stream",
     "text": [
      "[ 8 56 14 11]\n"
     ]
    }
   ],
   "source": [
    "b=np.random.randint([1,5,7,8],[32,63,18,19])\n",
    "print(b)"
   ]
  },
  {
   "cell_type": "code",
   "execution_count": 50,
   "id": "c0764b45",
   "metadata": {},
   "outputs": [
    {
     "name": "stdout",
     "output_type": "stream",
     "text": [
      "[[ 8  6 25 10]\n",
      " [10 30 26 24]]\n"
     ]
    }
   ],
   "source": [
    "b=np.random.randint([[2,4,5,7],[3,15,16,17]],[[23,45,44,56],[66,49,56,74]])\n",
    "print(b)"
   ]
  },
  {
   "cell_type": "code",
   "execution_count": 51,
   "id": "44913429",
   "metadata": {},
   "outputs": [
    {
     "name": "stdout",
     "output_type": "stream",
     "text": [
      "3\n"
     ]
    }
   ],
   "source": [
    "import numpy as np\n",
    "a=np.array([2,3,5,6,7,5,9])\n",
    "print(a[1])"
   ]
  },
  {
   "cell_type": "code",
   "execution_count": 52,
   "id": "e92dd430",
   "metadata": {},
   "outputs": [
    {
     "name": "stdout",
     "output_type": "stream",
     "text": [
      "5\n"
     ]
    }
   ],
   "source": [
    "import numpy as np\n",
    "a=np.array([2,3,5,6,7,5,9])\n",
    "print(a[2])"
   ]
  },
  {
   "cell_type": "code",
   "execution_count": 53,
   "id": "1f7b79c2",
   "metadata": {},
   "outputs": [
    {
     "name": "stdout",
     "output_type": "stream",
     "text": [
      "10\n"
     ]
    }
   ],
   "source": [
    "import numpy as np\n",
    "a=np.array([2,3,5,6,7,5,9])\n",
    "print(a[2]+a[5])"
   ]
  },
  {
   "cell_type": "code",
   "execution_count": 54,
   "id": "21f84c91",
   "metadata": {},
   "outputs": [
    {
     "name": "stdout",
     "output_type": "stream",
     "text": [
      "4\n"
     ]
    }
   ],
   "source": [
    "import numpy as np\n",
    "a=np.array([[2,3,5,6,7,5,9],[1,2,4,5,6,4,9]])\n",
    "print(a[1,5])"
   ]
  },
  {
   "cell_type": "code",
   "execution_count": 55,
   "id": "281c29a6",
   "metadata": {},
   "outputs": [
    {
     "name": "stdout",
     "output_type": "stream",
     "text": [
      "9\n"
     ]
    }
   ],
   "source": [
    "import numpy as np\n",
    "a=np.array([[2,3,5,6,7,5,9],[1,2,4,5,6,4,9]])\n",
    "print(a[0,6])"
   ]
  },
  {
   "cell_type": "code",
   "execution_count": 56,
   "id": "e0d7380b",
   "metadata": {},
   "outputs": [
    {
     "name": "stdout",
     "output_type": "stream",
     "text": [
      "5\n"
     ]
    }
   ],
   "source": [
    "import numpy as np\n",
    "a=np.array([[[2,3,5],[6,7,5]],[[1,2,4],[5,6,4]]])\n",
    "print(a[0,1,2])"
   ]
  },
  {
   "cell_type": "code",
   "execution_count": 57,
   "id": "988b8a38",
   "metadata": {},
   "outputs": [
    {
     "name": "stdout",
     "output_type": "stream",
     "text": [
      "4\n"
     ]
    }
   ],
   "source": [
    "import numpy as np\n",
    "a=np.array([[[2,3,5],[6,7,5]],[[1,2,4],[5,6,4]]])\n",
    "print(a[1,1,2])"
   ]
  },
  {
   "cell_type": "code",
   "execution_count": 58,
   "id": "f50a0727",
   "metadata": {},
   "outputs": [
    {
     "name": "stdout",
     "output_type": "stream",
     "text": [
      "5\n"
     ]
    }
   ],
   "source": [
    "import numpy as np\n",
    "a=np.array([[[2,3,5],[6,7,5]],[[1,2,4],[5,6,4]]])\n",
    "print(a[0,1,2])"
   ]
  },
  {
   "cell_type": "code",
   "execution_count": 59,
   "id": "1cbbd8a0",
   "metadata": {},
   "outputs": [
    {
     "name": "stdout",
     "output_type": "stream",
     "text": [
      "9\n"
     ]
    }
   ],
   "source": [
    "import numpy as np\n",
    "a=np.array([2,3,5,6,7,5,9])\n",
    "print(a[-1])"
   ]
  },
  {
   "cell_type": "code",
   "execution_count": 60,
   "id": "3da9826f",
   "metadata": {},
   "outputs": [
    {
     "name": "stdout",
     "output_type": "stream",
     "text": [
      "6\n"
     ]
    }
   ],
   "source": [
    "import numpy as np\n",
    "a=np.array([2,3,5,6,7,5,9])\n",
    "print(a[-4])"
   ]
  },
  {
   "cell_type": "code",
   "execution_count": 61,
   "id": "8082ee80",
   "metadata": {},
   "outputs": [
    {
     "name": "stdout",
     "output_type": "stream",
     "text": [
      "11\n"
     ]
    }
   ],
   "source": [
    "import numpy as np\n",
    "a=np.array([2,3,5,6,7,5,9])\n",
    "print(a[-1]+a[-7])"
   ]
  },
  {
   "cell_type": "code",
   "execution_count": 62,
   "id": "7697a241",
   "metadata": {},
   "outputs": [
    {
     "name": "stdout",
     "output_type": "stream",
     "text": [
      "9\n"
     ]
    }
   ],
   "source": [
    "import numpy as np\n",
    "a=np.array([[2,3,5,6,7,5,9],[1,2,4,5,6,4,9]])\n",
    "print(a[-1,6])"
   ]
  },
  {
   "cell_type": "code",
   "execution_count": 63,
   "id": "5b31b6b9",
   "metadata": {},
   "outputs": [
    {
     "name": "stdout",
     "output_type": "stream",
     "text": [
      "6\n"
     ]
    }
   ],
   "source": [
    "import numpy as np\n",
    "a=np.array([[2,3,5,6,7,5,9],[1,2,4,5,6,4,9]])\n",
    "print(a[-2,-4])"
   ]
  },
  {
   "cell_type": "code",
   "execution_count": 64,
   "id": "0683c765",
   "metadata": {},
   "outputs": [
    {
     "name": "stdout",
     "output_type": "stream",
     "text": [
      "6\n"
     ]
    }
   ],
   "source": [
    "import numpy as np\n",
    "a=np.array([[[2,3,5],[6,7,5]],[[1,2,4],[5,6,4]]])\n",
    "print(a[-1,-1,-2])"
   ]
  },
  {
   "cell_type": "code",
   "execution_count": 65,
   "id": "949bf98d",
   "metadata": {},
   "outputs": [
    {
     "name": "stdout",
     "output_type": "stream",
     "text": [
      "5\n"
     ]
    }
   ],
   "source": [
    "import numpy as np\n",
    "a=np.array([[[2,3,5],[6,7,5]],[[1,2,4],[5,6,4]]])\n",
    "print(a[0,-1,2])"
   ]
  },
  {
   "cell_type": "code",
   "execution_count": 66,
   "id": "07f91e77",
   "metadata": {},
   "outputs": [
    {
     "name": "stdout",
     "output_type": "stream",
     "text": [
      "4\n"
     ]
    }
   ],
   "source": [
    "import numpy as np\n",
    "a=np.array([[[2,3,5],[6,7,5]],[[1,2,4],[5,6,4]]])\n",
    "print(a[-1,-2,2])"
   ]
  },
  {
   "cell_type": "code",
   "execution_count": 67,
   "id": "265b5290",
   "metadata": {},
   "outputs": [
    {
     "name": "stdout",
     "output_type": "stream",
     "text": [
      "3\n",
      "(2, 2, 8)\n"
     ]
    }
   ],
   "source": [
    "import numpy as np\n",
    "a=np.array([[[2,3,5,5,7,5,4,6],[6,7,5,6,7,4,3,3]],[[1,2,4,8,5,4,2,4],[5,6,4,3,5,6,7,4]]])\n",
    "print(a[0,1,-2])\n",
    "print(a.shape)"
   ]
  },
  {
   "cell_type": "code",
   "execution_count": 68,
   "id": "76f5e830",
   "metadata": {},
   "outputs": [
    {
     "name": "stdout",
     "output_type": "stream",
     "text": [
      "1\n"
     ]
    }
   ],
   "source": [
    "import numpy as np\n",
    "a=np.array([[[2,3,5,7,8],[6,7,5,4,7]],[[1,2,4,7,4],[5,6,4,6,3]]])\n",
    "print(a[-1,-2,-5])"
   ]
  },
  {
   "cell_type": "code",
   "execution_count": 69,
   "id": "81878589",
   "metadata": {},
   "outputs": [
    {
     "name": "stdout",
     "output_type": "stream",
     "text": [
      "[3 5 6]\n"
     ]
    }
   ],
   "source": [
    "import numpy as np\n",
    "a=np.array([2,3,5,6,7,5,9])\n",
    "print(a[1:4])"
   ]
  },
  {
   "cell_type": "code",
   "execution_count": 70,
   "id": "448a0a01",
   "metadata": {},
   "outputs": [
    {
     "name": "stdout",
     "output_type": "stream",
     "text": [
      "[3 5 6 7 5 9]\n"
     ]
    }
   ],
   "source": [
    "import numpy as np\n",
    "a=np.array([2,3,5,6,7,5,9])\n",
    "print(a[1:])"
   ]
  },
  {
   "cell_type": "code",
   "execution_count": 71,
   "id": "29c7bae8",
   "metadata": {},
   "outputs": [
    {
     "name": "stdout",
     "output_type": "stream",
     "text": [
      "[2]\n"
     ]
    }
   ],
   "source": [
    "import numpy as np\n",
    "a=np.array([2,3,5,6,7,5,9])\n",
    "print(a[:1])"
   ]
  },
  {
   "cell_type": "code",
   "execution_count": 72,
   "id": "34bfb979",
   "metadata": {},
   "outputs": [
    {
     "name": "stdout",
     "output_type": "stream",
     "text": [
      "[5]\n"
     ]
    }
   ],
   "source": [
    "import numpy as np\n",
    "a=np.array([2,3,5,6,7,5,9])\n",
    "print(a[5:6])"
   ]
  },
  {
   "cell_type": "code",
   "execution_count": 73,
   "id": "a9e5994f",
   "metadata": {},
   "outputs": [
    {
     "name": "stdout",
     "output_type": "stream",
     "text": [
      "[2 3 5 6 7 5 9]\n"
     ]
    }
   ],
   "source": [
    "import numpy as np\n",
    "a=np.array([2,3,5,6,7,5,9])\n",
    "print(a[::])"
   ]
  },
  {
   "cell_type": "code",
   "execution_count": 74,
   "id": "35b7781b",
   "metadata": {},
   "outputs": [
    {
     "name": "stdout",
     "output_type": "stream",
     "text": [
      "[3 6]\n"
     ]
    }
   ],
   "source": [
    "import numpy as np\n",
    "a=np.array([2,3,5,6,7,5,9])\n",
    "print(a[1:5:2])"
   ]
  },
  {
   "cell_type": "code",
   "execution_count": 75,
   "id": "cf58c197",
   "metadata": {},
   "outputs": [
    {
     "name": "stdout",
     "output_type": "stream",
     "text": [
      "[2 3 5 6 7 5]\n"
     ]
    }
   ],
   "source": [
    "import numpy as np\n",
    "a=np.array([2,3,5,6,7,5,9])\n",
    "print(a[:-1])"
   ]
  },
  {
   "cell_type": "code",
   "execution_count": 76,
   "id": "e6f4e2a8",
   "metadata": {},
   "outputs": [
    {
     "name": "stdout",
     "output_type": "stream",
     "text": [
      "[5 6 7 5 9]\n"
     ]
    }
   ],
   "source": [
    "import numpy as np\n",
    "a=np.array([2,3,5,6,7,5,9])\n",
    "print(a[-5:])"
   ]
  },
  {
   "cell_type": "code",
   "execution_count": 77,
   "id": "5ef02050",
   "metadata": {},
   "outputs": [
    {
     "name": "stdout",
     "output_type": "stream",
     "text": [
      "[2 3 5 6]\n"
     ]
    }
   ],
   "source": [
    "import numpy as np\n",
    "a=np.array([2,3,5,6,7,5,9])\n",
    "print(a[-7 : -3])"
   ]
  },
  {
   "cell_type": "code",
   "execution_count": 78,
   "id": "110b5933",
   "metadata": {},
   "outputs": [
    {
     "name": "stdout",
     "output_type": "stream",
     "text": [
      "[6 7 5]\n"
     ]
    }
   ],
   "source": [
    "import numpy as np\n",
    "a=np.array([2,3,5,6,7,5,9])\n",
    "print(a[-4:-1])"
   ]
  },
  {
   "cell_type": "code",
   "execution_count": 79,
   "id": "8103e2ad",
   "metadata": {},
   "outputs": [
    {
     "name": "stdout",
     "output_type": "stream",
     "text": [
      "[]\n"
     ]
    }
   ],
   "source": [
    "import numpy as np\n",
    "a=np.array([2,3,5,6,7,5,9])\n",
    "print(a[-1:-4])"
   ]
  },
  {
   "cell_type": "code",
   "execution_count": 80,
   "id": "931b3148",
   "metadata": {},
   "outputs": [
    {
     "name": "stdout",
     "output_type": "stream",
     "text": [
      "[2 3 5 6 7 5]\n"
     ]
    }
   ],
   "source": [
    "import numpy as np\n",
    "a=np.array([2,3,5,6,7,5,9])\n",
    "print(a[-8:-1])"
   ]
  },
  {
   "cell_type": "code",
   "execution_count": 81,
   "id": "085b5bcc",
   "metadata": {},
   "outputs": [
    {
     "name": "stdout",
     "output_type": "stream",
     "text": [
      "[3 5 6 7 5 9]\n"
     ]
    }
   ],
   "source": [
    "import numpy as np\n",
    "a=np.array([2,3,5,6,7,5,9])\n",
    "print(a[-6:])"
   ]
  },
  {
   "cell_type": "code",
   "execution_count": 82,
   "id": "7898377d",
   "metadata": {},
   "outputs": [
    {
     "name": "stdout",
     "output_type": "stream",
     "text": [
      "[2 3]\n"
     ]
    }
   ],
   "source": [
    "import numpy as np\n",
    "a=np.array([2,3,5,6,7,5,9])\n",
    "print(a[:-5])"
   ]
  },
  {
   "cell_type": "code",
   "execution_count": 83,
   "id": "74a66c9e",
   "metadata": {},
   "outputs": [
    {
     "name": "stdout",
     "output_type": "stream",
     "text": [
      "[]\n"
     ]
    }
   ],
   "source": [
    "import numpy as np\n",
    "a=np.array([2,3,5,6,7,5,9])\n",
    "print(a[:-7])"
   ]
  },
  {
   "cell_type": "code",
   "execution_count": 84,
   "id": "69ca061f",
   "metadata": {},
   "outputs": [
    {
     "name": "stdout",
     "output_type": "stream",
     "text": [
      "[2 3 5 6 7]\n"
     ]
    }
   ],
   "source": [
    "import numpy as np\n",
    "a=np.array([2,3,5,6,7,5,9])\n",
    "print(a[:-2])"
   ]
  },
  {
   "cell_type": "code",
   "execution_count": 85,
   "id": "073ecdb3",
   "metadata": {},
   "outputs": [
    {
     "name": "stdout",
     "output_type": "stream",
     "text": [
      "[2 3]\n"
     ]
    }
   ],
   "source": [
    "import numpy as np\n",
    "a=np.array([2,3,5,6,7,5,9])\n",
    "print(a[:-5])"
   ]
  },
  {
   "cell_type": "code",
   "execution_count": 86,
   "id": "26ae2d8e",
   "metadata": {},
   "outputs": [
    {
     "name": "stdout",
     "output_type": "stream",
     "text": [
      "[2 3 5]\n"
     ]
    }
   ],
   "source": [
    "import numpy as np\n",
    "a=np.array([2,3,5,6,7,5,9])\n",
    "print(a[:-4])"
   ]
  },
  {
   "cell_type": "code",
   "execution_count": 87,
   "id": "2ba6f959",
   "metadata": {},
   "outputs": [
    {
     "name": "stdout",
     "output_type": "stream",
     "text": [
      "[2 3 5 6]\n"
     ]
    }
   ],
   "source": [
    "import numpy as np\n",
    "a=np.array([2,3,5,6,7,5,9])\n",
    "print(a[:-3])"
   ]
  },
  {
   "cell_type": "code",
   "execution_count": 88,
   "id": "2caaaa3c",
   "metadata": {},
   "outputs": [
    {
     "name": "stdout",
     "output_type": "stream",
     "text": [
      "[5 6 4]\n"
     ]
    }
   ],
   "source": [
    "import numpy as np\n",
    "a=np.array([[2,3,5,6,7,5,9],[1,2,4,5,6,4,9]])\n",
    "print(a[-1,-4:-1])"
   ]
  },
  {
   "cell_type": "code",
   "execution_count": 89,
   "id": "7dfe9388",
   "metadata": {},
   "outputs": [
    {
     "name": "stdout",
     "output_type": "stream",
     "text": [
      "[2 4 5 6]\n"
     ]
    }
   ],
   "source": [
    "import numpy as np\n",
    "a=np.array([[2,3,5,6,7,5,9],[1,2,4,5,6,4,9]])\n",
    "print(a[1,1:5])"
   ]
  },
  {
   "cell_type": "code",
   "execution_count": 90,
   "id": "2a92cae7",
   "metadata": {},
   "outputs": [
    {
     "name": "stdout",
     "output_type": "stream",
     "text": [
      "[3 5 6 7 5]\n"
     ]
    }
   ],
   "source": [
    "import numpy as np\n",
    "a=np.array([[2,3,5,6,7,5,9],[1,2,4,5,6,4,9]])\n",
    "print(a[0,1:6])"
   ]
  },
  {
   "cell_type": "code",
   "execution_count": 91,
   "id": "bf389de2",
   "metadata": {},
   "outputs": [
    {
     "name": "stdout",
     "output_type": "stream",
     "text": [
      "[9]\n"
     ]
    }
   ],
   "source": [
    "import numpy as np\n",
    "a=np.array([[2,3,5,6,7,5,9],[1,2,4,5,6,4,9]])\n",
    "print(a[-1,6:])"
   ]
  },
  {
   "cell_type": "code",
   "execution_count": 92,
   "id": "f1490cdd",
   "metadata": {},
   "outputs": [
    {
     "name": "stdout",
     "output_type": "stream",
     "text": [
      "[4 5 6 4 9]\n"
     ]
    }
   ],
   "source": [
    "import numpy as np\n",
    "a=np.array([[2,3,5,6,7,5,9],[1,2,4,5,6,4,9]])\n",
    "print(a[-1,2:])"
   ]
  },
  {
   "cell_type": "code",
   "execution_count": 93,
   "id": "66d94239",
   "metadata": {},
   "outputs": [
    {
     "name": "stdout",
     "output_type": "stream",
     "text": [
      "[4 9]\n"
     ]
    }
   ],
   "source": [
    "import numpy as np\n",
    "a=np.array([[2,3,5,6,7,5,9],[1,2,4,5,6,4,9]])\n",
    "print(a[-1,5:])"
   ]
  },
  {
   "cell_type": "code",
   "execution_count": 94,
   "id": "d029d375",
   "metadata": {},
   "outputs": [
    {
     "name": "stdout",
     "output_type": "stream",
     "text": [
      "[1]\n"
     ]
    }
   ],
   "source": [
    "import numpy as np\n",
    "a=np.array([[2,3,5,6,7,5,9],[1,2,4,5,6,4,9]])\n",
    "print(a[-1,-9:-6])"
   ]
  },
  {
   "cell_type": "code",
   "execution_count": 95,
   "id": "d7c1fd6c",
   "metadata": {},
   "outputs": [
    {
     "name": "stdout",
     "output_type": "stream",
     "text": [
      "[4 5 6]\n"
     ]
    }
   ],
   "source": [
    "import numpy as np\n",
    "a=np.array([[2,3,5,6,7,5,9],[1,2,4,5,6,4,9]])\n",
    "print(a[-1,-5:-2])"
   ]
  },
  {
   "cell_type": "code",
   "execution_count": 96,
   "id": "8031fb9c",
   "metadata": {},
   "outputs": [
    {
     "name": "stdout",
     "output_type": "stream",
     "text": [
      "[5 4]\n"
     ]
    }
   ],
   "source": [
    "import numpy as np\n",
    "a=np.array([[2,3,5,6,7,5,9],[1,2,4,5,6,4,9]])\n",
    "print(a[0:2,5])"
   ]
  },
  {
   "cell_type": "code",
   "execution_count": 97,
   "id": "fe5463d6",
   "metadata": {},
   "outputs": [
    {
     "name": "stdout",
     "output_type": "stream",
     "text": [
      "[6 5]\n"
     ]
    }
   ],
   "source": [
    "import numpy as np\n",
    "a=np.array([[2,3,5,6,7,5,9],[1,2,4,5,6,4,9]])\n",
    "print(a[0:2,-4])"
   ]
  },
  {
   "cell_type": "code",
   "execution_count": 98,
   "id": "494be572",
   "metadata": {},
   "outputs": [
    {
     "name": "stdout",
     "output_type": "stream",
     "text": [
      "[[3 5 6]\n",
      " [2 4 5]]\n"
     ]
    }
   ],
   "source": [
    "import numpy as np\n",
    "a=np.array([[2,3,5,6,7,5,9],[1,2,4,5,6,4,9]])\n",
    "print(a[0:2,1:4])"
   ]
  },
  {
   "cell_type": "code",
   "execution_count": 99,
   "id": "31c1f4a9",
   "metadata": {},
   "outputs": [
    {
     "name": "stdout",
     "output_type": "stream",
     "text": [
      "[2 4 4 5 6 7 8]\n",
      "[2 4 4 5 6 7 8]\n",
      "[ 2 44  4  5  6  7  8]\n",
      "[2 4 4 5 6 7 8]\n"
     ]
    }
   ],
   "source": [
    "import numpy as np\n",
    "a=np.array([2,4,4,5,6,7,8])\n",
    "print(a)\n",
    "b=a.copy()\n",
    "print(b)\n",
    "a[1]=44\n",
    "print(a)\n",
    "print(b)"
   ]
  },
  {
   "cell_type": "code",
   "execution_count": 100,
   "id": "e709e314",
   "metadata": {},
   "outputs": [
    {
     "name": "stdout",
     "output_type": "stream",
     "text": [
      "[2 4 3 6 8 7]\n",
      "[2 4 3 6 8 7]\n",
      "[ 2  4  3 44  8  7]\n",
      "[ 2  4  3 44  8  7]\n"
     ]
    }
   ],
   "source": [
    "import numpy as np\n",
    "a=np.array([2,4,3,6,8,7])\n",
    "print(a)\n",
    "b=a.view()\n",
    "print(b)\n",
    "a[3]=44\n",
    "print(a)\n",
    "print(b)"
   ]
  },
  {
   "cell_type": "code",
   "execution_count": 101,
   "id": "1d290519",
   "metadata": {},
   "outputs": [
    {
     "name": "stdout",
     "output_type": "stream",
     "text": [
      "original array\n",
      "[ 2  4  7  8  9  8 99 19 10  3  1 12 14 13 18  6 44 55 10 35]\n",
      "make the reshape\n",
      "[[ 2  4  7  8  9  8 99 19 10  3]\n",
      " [ 1 12 14 13 18  6 44 55 10 35]]\n",
      "[[ 2  4  7  8  9]\n",
      " [ 8 99 19 10  3]\n",
      " [ 1 12 14 13 18]\n",
      " [ 6 44 55 10 35]]\n",
      "[[ 2  4]\n",
      " [ 7  8]\n",
      " [ 9  8]\n",
      " [99 19]\n",
      " [10  3]\n",
      " [ 1 12]\n",
      " [14 13]\n",
      " [18  6]\n",
      " [44 55]\n",
      " [10 35]]\n",
      "[[ 2  4  7  8  9  8 99 19 10  3  1 12 14 13 18  6 44 55 10 35]]\n"
     ]
    }
   ],
   "source": [
    "a=np.array([2,4,7,8,9,8,99,19,10,3,1,12,14,13,18,6,44,55,10,35])\n",
    "print(\"original array\")\n",
    "print(a)\n",
    "print(\"make the reshape\")\n",
    "b=a.reshape(2,10)\n",
    "print(b)\n",
    "b2=a.reshape(4,5)\n",
    "print(b2) \n",
    "b3=a.reshape(10,2)\n",
    "print(b3)\n",
    "b4=a.reshape(1,20)\n",
    "print(b4)"
   ]
  },
  {
   "cell_type": "code",
   "execution_count": 102,
   "id": "d1df815d",
   "metadata": {},
   "outputs": [
    {
     "name": "stdout",
     "output_type": "stream",
     "text": [
      "original array\n",
      "[ 2  4  7  8  9  8 99 19 10  3  1 12 14 13 18  6 44 55]\n",
      "reshape 1D to 3D\n",
      "[[[ 2  4  7]\n",
      "  [ 8  9  8]]\n",
      "\n",
      " [[99 19 10]\n",
      "  [ 3  1 12]]\n",
      "\n",
      " [[14 13 18]\n",
      "  [ 6 44 55]]]\n",
      "reshape 1D to 3D\n",
      "[[[ 2  4  7]\n",
      "  [ 8  9  8]\n",
      "  [99 19 10]]\n",
      "\n",
      " [[ 3  1 12]\n",
      "  [14 13 18]\n",
      "  [ 6 44 55]]]\n"
     ]
    }
   ],
   "source": [
    "a=np.array([2,4,7,8,9,8,99,19,10,3,1,12,14,13,18,6,44,55])\n",
    "print(\"original array\")\n",
    "print(a)\n",
    "b=a.reshape(3,2,3)\n",
    "print(\"reshape 1D to 3D\")\n",
    "print(b)\n",
    "b1=a.reshape(2,3,3)\n",
    "print(\"reshape 1D to 3D\")\n",
    "print(b1)"
   ]
  },
  {
   "cell_type": "code",
   "execution_count": 103,
   "id": "a1773e1d",
   "metadata": {},
   "outputs": [
    {
     "name": "stdout",
     "output_type": "stream",
     "text": [
      "[1 2 3 4 5]\n",
      "15\n",
      "54\n",
      "86\n"
     ]
    }
   ],
   "source": [
    "a=np.array([1,2,3,4,5])\n",
    "b=np.array([[2,3,4,6,8],[2,6,8,9,6]])\n",
    "c=np.array([[[1,4,5],[4,6,7]],[[2,5,7],[2,5,6]],[[2,5,7],[2,7,9]]])\n",
    "print(a)\n",
    "print(np.sum(a))\n",
    "print(np.sum(b))\n",
    "print(np.sum(c))"
   ]
  },
  {
   "cell_type": "code",
   "execution_count": 104,
   "id": "a694705e",
   "metadata": {},
   "outputs": [
    {
     "name": "stdout",
     "output_type": "stream",
     "text": [
      "[[2 3 4 6 8]\n",
      " [2 6 8 9 6]]\n",
      "add the element of all row\n",
      "[ 4  9 12 15 14]\n",
      "add the element of all colum\n",
      "[23 31]\n"
     ]
    }
   ],
   "source": [
    "import numpy as np\n",
    "b=np.array([[2,3,4,6,8],[2,6,8,9,6]])\n",
    "print(b)\n",
    "print(\"add the element of all row\")\n",
    "print(np.sum(b, axis=0))\n",
    "print(\"add the element of all colum\")\n",
    "print(np.sum(b, axis=1))\n"
   ]
  },
  {
   "cell_type": "code",
   "execution_count": 105,
   "id": "14a2d0dc",
   "metadata": {},
   "outputs": [
    {
     "name": "stdout",
     "output_type": "stream",
     "text": [
      "[1 2 3 4 5]\n",
      "3.0\n",
      "[[2 3 4 6 8]\n",
      " [2 6 8 9 6]]\n",
      "5.4\n",
      "[[[1 4 5]\n",
      "  [4 6 7]]\n",
      "\n",
      " [[2 5 7]\n",
      "  [2 5 6]]\n",
      "\n",
      " [[2 5 7]\n",
      "  [2 7 9]]]\n",
      "4.777777777777778\n"
     ]
    }
   ],
   "source": [
    "a=np.array([1,2,3,4,5])\n",
    "b=np.array([[2,3,4,6,8],[2,6,8,9,6]])\n",
    "c=np.array([[[1,4,5],[4,6,7]],[[2,5,7],[2,5,6]],[[2,5,7],[2,7,9]]])\n",
    "print(a)\n",
    "print(np.mean(a))\n",
    "print(b)\n",
    "print(np.mean(b))\n",
    "print(c)\n",
    "print(np.mean(c))"
   ]
  },
  {
   "cell_type": "code",
   "execution_count": 106,
   "id": "12d857d3",
   "metadata": {},
   "outputs": [
    {
     "name": "stdout",
     "output_type": "stream",
     "text": [
      "[[2 4 6 7 5 8]\n",
      " [4 5 6 7 3 1]]\n",
      "[3.  4.5 6.  7.  4.  4.5]\n",
      "[5.33333333 4.33333333]\n"
     ]
    }
   ],
   "source": [
    "a=np.array([[2,4,6,7,5,8],[4,5,6,7,3,1]])\n",
    "print(a)\n",
    "b=np.mean(a,axis=0)\n",
    "print(b)\n",
    "b=np.mean(a,axis=1)\n",
    "print(b)\n"
   ]
  },
  {
   "cell_type": "code",
   "execution_count": 107,
   "id": "1f71f3e3",
   "metadata": {},
   "outputs": [
    {
     "name": "stdout",
     "output_type": "stream",
     "text": [
      "[1 2 3 4 5]\n",
      "1.4142135623730951\n",
      "[[2 3 4 6 8]\n",
      " [2 6 8 9 6]]\n",
      "2.416609194718914\n",
      "[[[1 4 5]\n",
      "  [4 6 7]]\n",
      "\n",
      " [[2 5 7]\n",
      "  [2 5 6]]\n",
      "\n",
      " [[2 5 7]\n",
      "  [2 7 9]]]\n",
      "2.199887763691481\n"
     ]
    }
   ],
   "source": [
    "a=np.array([1,2,3,4,5])\n",
    "b=np.array([[2,3,4,6,8],[2,6,8,9,6]])\n",
    "c=np.array([[[1,4,5],[4,6,7]],[[2,5,7],[2,5,6]],[[2,5,7],[2,7,9]]])\n",
    "print(a)\n",
    "print(np.std(a))\n",
    "print(b)\n",
    "print(np.std(b))\n",
    "print(c)\n",
    "print(np.std(c))"
   ]
  },
  {
   "cell_type": "code",
   "execution_count": 108,
   "id": "a8d41439",
   "metadata": {},
   "outputs": [
    {
     "name": "stdout",
     "output_type": "stream",
     "text": [
      "[[2 4 6 7 5 8]\n",
      " [4 5 6 7 3 1]]\n",
      "[1.  0.5 0.  0.  1.  3.5]\n",
      "[1.97202659 1.97202659]\n"
     ]
    }
   ],
   "source": [
    "a=np.array([[2,4,6,7,5,8],[4,5,6,7,3,1]])\n",
    "print(a)\n",
    "b=np.std(a,axis=0)\n",
    "print(b)\n",
    "b=np.std(a,axis=1)\n",
    "print(b)\n"
   ]
  },
  {
   "cell_type": "code",
   "execution_count": 109,
   "id": "abcca853",
   "metadata": {},
   "outputs": [
    {
     "name": "stdout",
     "output_type": "stream",
     "text": [
      "[1 2 3 4 5]\n",
      "2.0\n",
      "[[2 3 4 6 8]\n",
      " [2 6 8 9 6]]\n",
      "5.839999999999999\n",
      "[[[1 4 5]\n",
      "  [4 6 7]]\n",
      "\n",
      " [[2 5 7]\n",
      "  [2 5 6]]\n",
      "\n",
      " [[2 5 7]\n",
      "  [2 7 9]]]\n",
      "4.839506172839506\n"
     ]
    }
   ],
   "source": [
    "a=np.array([1,2,3,4,5])\n",
    "b=np.array([[2,3,4,6,8],[2,6,8,9,6]])\n",
    "c=np.array([[[1,4,5],[4,6,7]],[[2,5,7],[2,5,6]],[[2,5,7],[2,7,9]]])\n",
    "print(a)\n",
    "print(np.var(a))\n",
    "print(b)\n",
    "print(np.var(b))\n",
    "print(c)\n",
    "print(np.var(c))"
   ]
  },
  {
   "cell_type": "code",
   "execution_count": 110,
   "id": "ecdbadde",
   "metadata": {},
   "outputs": [
    {
     "name": "stdout",
     "output_type": "stream",
     "text": [
      "[[2 4 6 7 5 8]\n",
      " [4 5 6 7 3 1]]\n",
      "[ 1.    0.25  0.    0.    1.   12.25]\n",
      "[3.88888889 3.88888889]\n"
     ]
    }
   ],
   "source": [
    "a=np.array([[2,4,6,7,5,8],[4,5,6,7,3,1]])\n",
    "print(a)\n",
    "b=np.var(a,axis=0)\n",
    "print(b)\n",
    "b=np.var(a,axis=1)\n",
    "print(b)\n"
   ]
  },
  {
   "cell_type": "code",
   "execution_count": 111,
   "id": "c781a62d",
   "metadata": {},
   "outputs": [
    {
     "name": "stdout",
     "output_type": "stream",
     "text": [
      "[1 2 3 4 5]\n",
      "1\n",
      "[[2 3 4 6 8]\n",
      " [2 6 8 9 6]]\n",
      "2\n",
      "[[[1 4 5]\n",
      "  [4 6 7]]\n",
      "\n",
      " [[2 5 7]\n",
      "  [2 5 6]]\n",
      "\n",
      " [[2 5 7]\n",
      "  [2 7 9]]]\n",
      "1\n"
     ]
    }
   ],
   "source": [
    "a=np.array([1,2,3,4,5])\n",
    "b=np.array([[2,3,4,6,8],[2,6,8,9,6]])\n",
    "c=np.array([[[1,4,5],[4,6,7]],[[2,5,7],[2,5,6]],[[2,5,7],[2,7,9]]])\n",
    "print(a)\n",
    "print(np.min(a))\n",
    "print(b)\n",
    "print(np.min(b))\n",
    "print(c)\n",
    "print(np.min(c))"
   ]
  },
  {
   "cell_type": "code",
   "execution_count": 112,
   "id": "dadde71b",
   "metadata": {},
   "outputs": [
    {
     "name": "stdout",
     "output_type": "stream",
     "text": [
      "[[2 4 6 7 5 8]\n",
      " [4 5 6 7 3 1]]\n",
      "[2 4 6 7 3 1]\n",
      "[2 1]\n"
     ]
    }
   ],
   "source": [
    "a=np.array([[2,4,6,7,5,8],[4,5,6,7,3,1]])\n",
    "print(a)\n",
    "b=np.min(a,axis=0)\n",
    "print(b)\n",
    "b=np. min(a,axis=1)\n",
    "print(b)\n"
   ]
  },
  {
   "cell_type": "code",
   "execution_count": 113,
   "id": "edc5beec",
   "metadata": {},
   "outputs": [
    {
     "name": "stdout",
     "output_type": "stream",
     "text": [
      "[ 2  5  6  8  9 48]\n",
      "48\n",
      "[[1 4 6 8 4 6]\n",
      " [3 6 5 7 8 9]]\n",
      "9\n",
      "[[[2 3]\n",
      "  [7 3]]\n",
      "\n",
      " [[3 4]\n",
      "  [4 6]]\n",
      "\n",
      " [[2 7]\n",
      "  [5 6]]]\n",
      "7\n"
     ]
    }
   ],
   "source": [
    "m=np.array([2,5,6,8,9,48])\n",
    "print(m)\n",
    "a=np.max(m)\n",
    "print(a)\n",
    "n=np.array([[1,4,6,8,4,6],[3,6,5,7,8,9]])\n",
    "print(n)\n",
    "b=np.max(n)\n",
    "print(b)\n",
    "o=np.array([[[2,3],[7,3]],[[3,4],[4,6]],[[2,7],[5,6]]])\n",
    "print(o)\n",
    "c=np.max(o)\n",
    "print(c)"
   ]
  },
  {
   "cell_type": "code",
   "execution_count": 114,
   "id": "59936f4d",
   "metadata": {},
   "outputs": [
    {
     "name": "stdout",
     "output_type": "stream",
     "text": [
      "[[5, 6, 8, 3, 5], [2, 4, 6, 8, 9]]\n",
      "[8 9]\n",
      "[5 6 8 8 9]\n"
     ]
    }
   ],
   "source": [
    "a=np.array=([[5,6,8,3,5],[2,4,6,8,9]])\n",
    "print(a)\n",
    "b=np.max(a,axis=1)#one for colum\n",
    "print(b)\n",
    "c=np.max(a,axis=0)# zero for row\n",
    "print(c)"
   ]
  },
  {
   "cell_type": "code",
   "execution_count": 116,
   "id": "12a57850",
   "metadata": {},
   "outputs": [],
   "source": [
    "import mysql.connector as con"
   ]
  },
  {
   "cell_type": "code",
   "execution_count": 117,
   "id": "c5b56b99",
   "metadata": {},
   "outputs": [
    {
     "name": "stdout",
     "output_type": "stream",
     "text": [
      "<mysql.connector.connection_cext.CMySQLConnection object at 0x0000011A34E69A30>\n"
     ]
    }
   ],
   "source": [
    "import mysql.connector as con \n",
    "new_db=con.connect(\n",
    "    host=\"localhost\",\n",
    "    user=\"root\",\n",
    "    password=\"tiger\"\n",
    ")\n",
    "print(new_db)"
   ]
  },
  {
   "cell_type": "code",
   "execution_count": 119,
   "id": "40d80ac3",
   "metadata": {},
   "outputs": [
    {
     "ename": "ProgrammingError",
     "evalue": "1050 (42S01): Table 'student' already exists",
     "output_type": "error",
     "traceback": [
      "\u001b[1;31m---------------------------------------------------------------------------\u001b[0m",
      "\u001b[1;31mMySQLInterfaceError\u001b[0m                       Traceback (most recent call last)",
      "File \u001b[1;32m~\\anaconda3\\lib\\site-packages\\mysql\\connector\\connection_cext.py:565\u001b[0m, in \u001b[0;36mCMySQLConnection.cmd_query\u001b[1;34m(self, query, raw, buffered, raw_as_string)\u001b[0m\n\u001b[0;32m    564\u001b[0m         query \u001b[38;5;241m=\u001b[39m query\u001b[38;5;241m.\u001b[39mencode(\u001b[38;5;124m\"\u001b[39m\u001b[38;5;124mutf-8\u001b[39m\u001b[38;5;124m\"\u001b[39m)\n\u001b[1;32m--> 565\u001b[0m     \u001b[38;5;28;43mself\u001b[39;49m\u001b[38;5;241;43m.\u001b[39;49m\u001b[43m_cmysql\u001b[49m\u001b[38;5;241;43m.\u001b[39;49m\u001b[43mquery\u001b[49m\u001b[43m(\u001b[49m\n\u001b[0;32m    566\u001b[0m \u001b[43m        \u001b[49m\u001b[43mquery\u001b[49m\u001b[43m,\u001b[49m\n\u001b[0;32m    567\u001b[0m \u001b[43m        \u001b[49m\u001b[43mraw\u001b[49m\u001b[38;5;241;43m=\u001b[39;49m\u001b[43mraw\u001b[49m\u001b[43m,\u001b[49m\n\u001b[0;32m    568\u001b[0m \u001b[43m        \u001b[49m\u001b[43mbuffered\u001b[49m\u001b[38;5;241;43m=\u001b[39;49m\u001b[43mbuffered\u001b[49m\u001b[43m,\u001b[49m\n\u001b[0;32m    569\u001b[0m \u001b[43m        \u001b[49m\u001b[43mraw_as_string\u001b[49m\u001b[38;5;241;43m=\u001b[39;49m\u001b[43mraw_as_string\u001b[49m\u001b[43m,\u001b[49m\n\u001b[0;32m    570\u001b[0m \u001b[43m        \u001b[49m\u001b[43mquery_attrs\u001b[49m\u001b[38;5;241;43m=\u001b[39;49m\u001b[38;5;28;43mself\u001b[39;49m\u001b[38;5;241;43m.\u001b[39;49m\u001b[43m_query_attrs\u001b[49m\u001b[43m,\u001b[49m\n\u001b[0;32m    571\u001b[0m \u001b[43m    \u001b[49m\u001b[43m)\u001b[49m\n\u001b[0;32m    572\u001b[0m \u001b[38;5;28;01mexcept\u001b[39;00m MySQLInterfaceError \u001b[38;5;28;01mas\u001b[39;00m err:\n",
      "\u001b[1;31mMySQLInterfaceError\u001b[0m: Table 'student' already exists",
      "\nThe above exception was the direct cause of the following exception:\n",
      "\u001b[1;31mProgrammingError\u001b[0m                          Traceback (most recent call last)",
      "Input \u001b[1;32mIn [119]\u001b[0m, in \u001b[0;36m<cell line: 9>\u001b[1;34m()\u001b[0m\n\u001b[0;32m      2\u001b[0m new_db\u001b[38;5;241m=\u001b[39mcon\u001b[38;5;241m.\u001b[39mconnect(\n\u001b[0;32m      3\u001b[0m     host\u001b[38;5;241m=\u001b[39m\u001b[38;5;124m\"\u001b[39m\u001b[38;5;124mlocalhost\u001b[39m\u001b[38;5;124m\"\u001b[39m,\n\u001b[0;32m      4\u001b[0m     user\u001b[38;5;241m=\u001b[39m\u001b[38;5;124m\"\u001b[39m\u001b[38;5;124mroot\u001b[39m\u001b[38;5;124m\"\u001b[39m,\n\u001b[0;32m      5\u001b[0m     password\u001b[38;5;241m=\u001b[39m\u001b[38;5;124m\"\u001b[39m\u001b[38;5;124mtiger\u001b[39m\u001b[38;5;124m\"\u001b[39m,\n\u001b[0;32m      6\u001b[0m     database\u001b[38;5;241m=\u001b[39m\u001b[38;5;124m\"\u001b[39m\u001b[38;5;124mcollege\u001b[39m\u001b[38;5;124m\"\u001b[39m\n\u001b[0;32m      7\u001b[0m )\n\u001b[0;32m      8\u001b[0m new_cursor\u001b[38;5;241m=\u001b[39mnew_db\u001b[38;5;241m.\u001b[39mcursor()\n\u001b[1;32m----> 9\u001b[0m \u001b[43mnew_cursor\u001b[49m\u001b[38;5;241;43m.\u001b[39;49m\u001b[43mexecute\u001b[49m\u001b[43m(\u001b[49m\u001b[38;5;124;43m\"\u001b[39;49m\u001b[38;5;124;43mcreate table student (sanme VARCHAR(200),rollno VARCHAR(10),SEM INT)\u001b[39;49m\u001b[38;5;124;43m\"\u001b[39;49m\u001b[43m)\u001b[49m\n",
      "File \u001b[1;32m~\\anaconda3\\lib\\site-packages\\mysql\\connector\\cursor_cext.py:279\u001b[0m, in \u001b[0;36mCMySQLCursor.execute\u001b[1;34m(self, operation, params, multi)\u001b[0m\n\u001b[0;32m    274\u001b[0m             \u001b[38;5;28;01mraise\u001b[39;00m ProgrammingError(\n\u001b[0;32m    275\u001b[0m                 \u001b[38;5;124m\"\u001b[39m\u001b[38;5;124mNot all parameters were used in the SQL statement\u001b[39m\u001b[38;5;124m\"\u001b[39m\n\u001b[0;32m    276\u001b[0m             )\n\u001b[0;32m    278\u001b[0m \u001b[38;5;28;01mtry\u001b[39;00m:\n\u001b[1;32m--> 279\u001b[0m     result \u001b[38;5;241m=\u001b[39m \u001b[38;5;28;43mself\u001b[39;49m\u001b[38;5;241;43m.\u001b[39;49m\u001b[43m_cnx\u001b[49m\u001b[38;5;241;43m.\u001b[39;49m\u001b[43mcmd_query\u001b[49m\u001b[43m(\u001b[49m\n\u001b[0;32m    280\u001b[0m \u001b[43m        \u001b[49m\u001b[43mstmt\u001b[49m\u001b[43m,\u001b[49m\n\u001b[0;32m    281\u001b[0m \u001b[43m        \u001b[49m\u001b[43mraw\u001b[49m\u001b[38;5;241;43m=\u001b[39;49m\u001b[38;5;28;43mself\u001b[39;49m\u001b[38;5;241;43m.\u001b[39;49m\u001b[43m_raw\u001b[49m\u001b[43m,\u001b[49m\n\u001b[0;32m    282\u001b[0m \u001b[43m        \u001b[49m\u001b[43mbuffered\u001b[49m\u001b[38;5;241;43m=\u001b[39;49m\u001b[38;5;28;43mself\u001b[39;49m\u001b[38;5;241;43m.\u001b[39;49m\u001b[43m_buffered\u001b[49m\u001b[43m,\u001b[49m\n\u001b[0;32m    283\u001b[0m \u001b[43m        \u001b[49m\u001b[43mraw_as_string\u001b[49m\u001b[38;5;241;43m=\u001b[39;49m\u001b[38;5;28;43mself\u001b[39;49m\u001b[38;5;241;43m.\u001b[39;49m\u001b[43m_raw_as_string\u001b[49m\u001b[43m,\u001b[49m\n\u001b[0;32m    284\u001b[0m \u001b[43m    \u001b[49m\u001b[43m)\u001b[49m\n\u001b[0;32m    285\u001b[0m \u001b[38;5;28;01mexcept\u001b[39;00m MySQLInterfaceError \u001b[38;5;28;01mas\u001b[39;00m err:\n\u001b[0;32m    286\u001b[0m     \u001b[38;5;28;01mraise\u001b[39;00m get_mysql_exception(\n\u001b[0;32m    287\u001b[0m         msg\u001b[38;5;241m=\u001b[39merr\u001b[38;5;241m.\u001b[39mmsg, errno\u001b[38;5;241m=\u001b[39merr\u001b[38;5;241m.\u001b[39merrno, sqlstate\u001b[38;5;241m=\u001b[39merr\u001b[38;5;241m.\u001b[39msqlstate\n\u001b[0;32m    288\u001b[0m     ) \u001b[38;5;28;01mfrom\u001b[39;00m \u001b[38;5;21;01merr\u001b[39;00m\n",
      "File \u001b[1;32m~\\anaconda3\\lib\\site-packages\\mysql\\connector\\connection_cext.py:573\u001b[0m, in \u001b[0;36mCMySQLConnection.cmd_query\u001b[1;34m(self, query, raw, buffered, raw_as_string)\u001b[0m\n\u001b[0;32m    565\u001b[0m     \u001b[38;5;28mself\u001b[39m\u001b[38;5;241m.\u001b[39m_cmysql\u001b[38;5;241m.\u001b[39mquery(\n\u001b[0;32m    566\u001b[0m         query,\n\u001b[0;32m    567\u001b[0m         raw\u001b[38;5;241m=\u001b[39mraw,\n\u001b[1;32m   (...)\u001b[0m\n\u001b[0;32m    570\u001b[0m         query_attrs\u001b[38;5;241m=\u001b[39m\u001b[38;5;28mself\u001b[39m\u001b[38;5;241m.\u001b[39m_query_attrs,\n\u001b[0;32m    571\u001b[0m     )\n\u001b[0;32m    572\u001b[0m \u001b[38;5;28;01mexcept\u001b[39;00m MySQLInterfaceError \u001b[38;5;28;01mas\u001b[39;00m err:\n\u001b[1;32m--> 573\u001b[0m     \u001b[38;5;28;01mraise\u001b[39;00m get_mysql_exception(\n\u001b[0;32m    574\u001b[0m         err\u001b[38;5;241m.\u001b[39merrno, msg\u001b[38;5;241m=\u001b[39merr\u001b[38;5;241m.\u001b[39mmsg, sqlstate\u001b[38;5;241m=\u001b[39merr\u001b[38;5;241m.\u001b[39msqlstate\n\u001b[0;32m    575\u001b[0m     ) \u001b[38;5;28;01mfrom\u001b[39;00m \u001b[38;5;21;01merr\u001b[39;00m\n\u001b[0;32m    576\u001b[0m \u001b[38;5;28;01mexcept\u001b[39;00m \u001b[38;5;167;01mAttributeError\u001b[39;00m \u001b[38;5;28;01mas\u001b[39;00m err:\n\u001b[0;32m    577\u001b[0m     addr \u001b[38;5;241m=\u001b[39m (\n\u001b[0;32m    578\u001b[0m         \u001b[38;5;28mself\u001b[39m\u001b[38;5;241m.\u001b[39m_unix_socket \u001b[38;5;28;01mif\u001b[39;00m \u001b[38;5;28mself\u001b[39m\u001b[38;5;241m.\u001b[39m_unix_socket \u001b[38;5;28;01melse\u001b[39;00m \u001b[38;5;124mf\u001b[39m\u001b[38;5;124m\"\u001b[39m\u001b[38;5;132;01m{\u001b[39;00m\u001b[38;5;28mself\u001b[39m\u001b[38;5;241m.\u001b[39m_host\u001b[38;5;132;01m}\u001b[39;00m\u001b[38;5;124m:\u001b[39m\u001b[38;5;132;01m{\u001b[39;00m\u001b[38;5;28mself\u001b[39m\u001b[38;5;241m.\u001b[39m_port\u001b[38;5;132;01m}\u001b[39;00m\u001b[38;5;124m\"\u001b[39m\n\u001b[0;32m    579\u001b[0m     )\n",
      "\u001b[1;31mProgrammingError\u001b[0m: 1050 (42S01): Table 'student' already exists"
     ]
    }
   ],
   "source": [
    "import mysql.connector as con\n",
    "new_db=con.connect(\n",
    "    host=\"localhost\",\n",
    "    user=\"root\",\n",
    "    password=\"tiger\",\n",
    "    database=\"college\"\n",
    ")\n",
    "new_cursor=new_db.cursor()\n",
    "new_cursor.execute(\"create table student (sanme VARCHAR(200),rollno VARCHAR(10),SEM INT)\")"
   ]
  },
  {
   "cell_type": "code",
   "execution_count": null,
   "id": "6c6f45c5",
   "metadata": {},
   "outputs": [],
   "source": [
    "import mysql.connector as con\n",
    "new_db=con.connect(\n",
    "    host=\"localhost\",\n",
    "    user=\"root\",\n",
    "    password=\"tiger\",\n",
    "    database=\"college\"\n",
    ")\n",
    "new_cursor=new_db.cursor()\n",
    "new_cursor.execute(\"SHOW TABLES\")\n",
    "for i in new_cursor:\n",
    "    print(i)"
   ]
  },
  {
   "cell_type": "code",
   "execution_count": 120,
   "id": "94c774f6",
   "metadata": {},
   "outputs": [
    {
     "ename": "TypeError",
     "evalue": "'list' object is not callable",
     "output_type": "error",
     "traceback": [
      "\u001b[1;31m---------------------------------------------------------------------------\u001b[0m",
      "\u001b[1;31mTypeError\u001b[0m                                 Traceback (most recent call last)",
      "Input \u001b[1;32mIn [120]\u001b[0m, in \u001b[0;36m<cell line: 2>\u001b[1;34m()\u001b[0m\n\u001b[0;32m      1\u001b[0m \u001b[38;5;28;01mimport\u001b[39;00m \u001b[38;5;21;01mnumpy\u001b[39;00m \u001b[38;5;28;01mas\u001b[39;00m \u001b[38;5;21;01mnp\u001b[39;00m\n\u001b[1;32m----> 2\u001b[0m a\u001b[38;5;241m=\u001b[39m\u001b[43mnp\u001b[49m\u001b[38;5;241;43m.\u001b[39;49m\u001b[43marray\u001b[49m\u001b[43m(\u001b[49m\u001b[43m[\u001b[49m\u001b[38;5;241;43m4\u001b[39;49m\u001b[43m,\u001b[49m\u001b[38;5;241;43m7\u001b[39;49m\u001b[43m,\u001b[49m\u001b[38;5;241;43m8\u001b[39;49m\u001b[43m,\u001b[49m\u001b[38;5;241;43m9\u001b[39;49m\u001b[43m,\u001b[49m\u001b[38;5;241;43m5\u001b[39;49m\u001b[43m,\u001b[49m\u001b[38;5;241;43m8\u001b[39;49m\u001b[43m,\u001b[49m\u001b[38;5;241;43m4\u001b[39;49m\u001b[43m]\u001b[49m\u001b[43m)\u001b[49m\n\u001b[0;32m      3\u001b[0m \u001b[38;5;28mprint\u001b[39m(a)\n\u001b[0;32m      4\u001b[0m \u001b[38;5;28mprint\u001b[39m(a\u001b[38;5;241m.\u001b[39mshape)\n",
      "\u001b[1;31mTypeError\u001b[0m: 'list' object is not callable"
     ]
    }
   ],
   "source": [
    "import numpy as np\n",
    "a=np.array([4,7,8,9,5,8,4])\n",
    "print(a)\n",
    "print(a.shape)\n",
    "print(a.dtype)\n"
   ]
  },
  {
   "cell_type": "code",
   "execution_count": 121,
   "id": "73c29c1b",
   "metadata": {},
   "outputs": [
    {
     "name": "stdout",
     "output_type": "stream",
     "text": [
      "[0 1 2 3 4 5 6 7 8 9]\n",
      "int32\n",
      "(10,)\n"
     ]
    }
   ],
   "source": [
    "import numpy as np\n",
    "a=np.arange(10)\n",
    "print(a)\n",
    "print(a.dtype)\n",
    "print(a.shape)"
   ]
  },
  {
   "cell_type": "code",
   "execution_count": 122,
   "id": "168056ff",
   "metadata": {},
   "outputs": [
    {
     "ename": "TypeError",
     "evalue": "'list' object is not callable",
     "output_type": "error",
     "traceback": [
      "\u001b[1;31m---------------------------------------------------------------------------\u001b[0m",
      "\u001b[1;31mTypeError\u001b[0m                                 Traceback (most recent call last)",
      "Input \u001b[1;32mIn [122]\u001b[0m, in \u001b[0;36m<cell line: 2>\u001b[1;34m()\u001b[0m\n\u001b[0;32m      1\u001b[0m \u001b[38;5;28;01mimport\u001b[39;00m \u001b[38;5;21;01mnumpy\u001b[39;00m \u001b[38;5;28;01mas\u001b[39;00m \u001b[38;5;21;01mnp\u001b[39;00m\n\u001b[1;32m----> 2\u001b[0m a\u001b[38;5;241m=\u001b[39m\u001b[43mnp\u001b[49m\u001b[38;5;241;43m.\u001b[39;49m\u001b[43marray\u001b[49m\u001b[43m(\u001b[49m\u001b[43m[\u001b[49m\u001b[38;5;241;43m2.4\u001b[39;49m\u001b[43m,\u001b[49m\u001b[38;5;241;43m5.6\u001b[39;49m\u001b[43m,\u001b[49m\u001b[38;5;241;43m7.8\u001b[39;49m\u001b[43m,\u001b[49m\u001b[38;5;241;43m5.5\u001b[39;49m\u001b[43m]\u001b[49m\u001b[43m)\u001b[49m\n\u001b[0;32m      3\u001b[0m \u001b[38;5;28mprint\u001b[39m(a)\n\u001b[0;32m      4\u001b[0m \u001b[38;5;28mprint\u001b[39m(a\u001b[38;5;241m.\u001b[39mshape)\n",
      "\u001b[1;31mTypeError\u001b[0m: 'list' object is not callable"
     ]
    }
   ],
   "source": [
    "import numpy as np\n",
    "a=np.array([2.4,5.6,7.8,5.5])\n",
    "print(a)\n",
    "print(a.shape)\n",
    "print(a.dtype)"
   ]
  },
  {
   "cell_type": "code",
   "execution_count": 123,
   "id": "3247ff57",
   "metadata": {},
   "outputs": [
    {
     "name": "stdout",
     "output_type": "stream",
     "text": [
      "[       0        1        4 ... 99940009 99960004 99980001]\n"
     ]
    }
   ],
   "source": [
    "import numpy as np\n",
    "a=np.arange(10000)\n",
    "a=a*a\n",
    "print(a)"
   ]
  },
  {
   "cell_type": "code",
   "execution_count": 124,
   "id": "12e2ee62",
   "metadata": {},
   "outputs": [
    {
     "ename": "TypeError",
     "evalue": "'list' object is not callable",
     "output_type": "error",
     "traceback": [
      "\u001b[1;31m---------------------------------------------------------------------------\u001b[0m",
      "\u001b[1;31mTypeError\u001b[0m                                 Traceback (most recent call last)",
      "Input \u001b[1;32mIn [124]\u001b[0m, in \u001b[0;36m<cell line: 2>\u001b[1;34m()\u001b[0m\n\u001b[0;32m      1\u001b[0m \u001b[38;5;28;01mimport\u001b[39;00m \u001b[38;5;21;01mnumpy\u001b[39;00m \u001b[38;5;28;01mas\u001b[39;00m \u001b[38;5;21;01mnp\u001b[39;00m\n\u001b[1;32m----> 2\u001b[0m a\u001b[38;5;241m=\u001b[39m\u001b[43mnp\u001b[49m\u001b[38;5;241;43m.\u001b[39;49m\u001b[43marray\u001b[49m\u001b[43m(\u001b[49m\u001b[43m[\u001b[49m\u001b[38;5;124;43m'\u001b[39;49m\u001b[38;5;124;43mdog\u001b[39;49m\u001b[38;5;124;43m'\u001b[39;49m\u001b[43m,\u001b[49m\u001b[38;5;124;43m'\u001b[39;49m\u001b[38;5;124;43mcat\u001b[39;49m\u001b[38;5;124;43m'\u001b[39;49m\u001b[43m,\u001b[49m\u001b[38;5;124;43m'\u001b[39;49m\u001b[38;5;124;43mcow\u001b[39;49m\u001b[38;5;124;43m'\u001b[39;49m\u001b[43m,\u001b[49m\u001b[38;5;124;43m'\u001b[39;49m\u001b[38;5;124;43mpig\u001b[39;49m\u001b[38;5;124;43m'\u001b[39;49m\u001b[43m,\u001b[49m\u001b[38;5;124;43m'\u001b[39;49m\u001b[38;5;124;43mdonkey\u001b[39;49m\u001b[38;5;124;43m'\u001b[39;49m\u001b[43m,\u001b[49m\u001b[38;5;241;43m23\u001b[39;49m\u001b[43m,\u001b[49m\u001b[38;5;241;43m4\u001b[39;49m\u001b[43m,\u001b[49m\u001b[38;5;241;43m5\u001b[39;49m\u001b[43m]\u001b[49m\u001b[43m)\u001b[49m\n\u001b[0;32m      3\u001b[0m \u001b[38;5;28mprint\u001b[39m(a)\n",
      "\u001b[1;31mTypeError\u001b[0m: 'list' object is not callable"
     ]
    }
   ],
   "source": [
    "import numpy as np\n",
    "a=np.array(['dog','cat','cow','pig','donkey',23,4,5])\n",
    "print(a)"
   ]
  },
  {
   "cell_type": "code",
   "execution_count": 125,
   "id": "78942a6e",
   "metadata": {},
   "outputs": [
    {
     "name": "stdout",
     "output_type": "stream",
     "text": [
      "[1. 1. 1. 1. 1. 1. 1. 1. 1. 1.]\n"
     ]
    }
   ],
   "source": [
    "a=np.ones(10)\n",
    "print(a)"
   ]
  },
  {
   "cell_type": "code",
   "execution_count": 126,
   "id": "e3aa9417",
   "metadata": {},
   "outputs": [
    {
     "name": "stdout",
     "output_type": "stream",
     "text": [
      "[[0 0 0]\n",
      " [0 0 0]]\n"
     ]
    }
   ],
   "source": [
    "a=np.zeros((2,3),dtype=\"int32\" )\n",
    "print(a)"
   ]
  },
  {
   "cell_type": "code",
   "execution_count": 127,
   "id": "bc99fa5f",
   "metadata": {},
   "outputs": [
    {
     "ename": "TypeError",
     "evalue": "'list' object is not callable",
     "output_type": "error",
     "traceback": [
      "\u001b[1;31m---------------------------------------------------------------------------\u001b[0m",
      "\u001b[1;31mTypeError\u001b[0m                                 Traceback (most recent call last)",
      "Input \u001b[1;32mIn [127]\u001b[0m, in \u001b[0;36m<cell line: 2>\u001b[1;34m()\u001b[0m\n\u001b[0;32m      1\u001b[0m \u001b[38;5;28;01mimport\u001b[39;00m \u001b[38;5;21;01mnumpy\u001b[39;00m \u001b[38;5;28;01mas\u001b[39;00m \u001b[38;5;21;01mnp\u001b[39;00m\n\u001b[1;32m----> 2\u001b[0m a\u001b[38;5;241m=\u001b[39m\u001b[43mnp\u001b[49m\u001b[38;5;241;43m.\u001b[39;49m\u001b[43mrandom\u001b[49m\u001b[38;5;241;43m.\u001b[39;49m\u001b[43mrandint\u001b[49m\u001b[43m(\u001b[49m\u001b[38;5;241;43m20\u001b[39;49m\u001b[43m)\u001b[49m\n\u001b[0;32m      3\u001b[0m \u001b[38;5;28mprint\u001b[39m(a)\n",
      "File \u001b[1;32mmtrand.pyx:746\u001b[0m, in \u001b[0;36mnumpy.random.mtrand.RandomState.randint\u001b[1;34m()\u001b[0m\n",
      "File \u001b[1;32m_bounded_integers.pyx:1322\u001b[0m, in \u001b[0;36mnumpy.random._bounded_integers._rand_int32\u001b[1;34m()\u001b[0m\n",
      "\u001b[1;31mTypeError\u001b[0m: 'list' object is not callable"
     ]
    }
   ],
   "source": [
    "import numpy as np\n",
    "a=np.random.randint(20)\n",
    "print(a)"
   ]
  },
  {
   "cell_type": "code",
   "execution_count": 128,
   "id": "e0bdabf7",
   "metadata": {},
   "outputs": [
    {
     "name": "stdout",
     "output_type": "stream",
     "text": [
      "[ 1.23059681  0.03334702 -2.04256816 -0.13843691  0.7920107   0.38098161\n",
      " -1.05432292  1.65079011 -1.32717417 -0.22841254  0.24654893 -0.40691999\n",
      "  0.35585894  0.39667071  0.79923823 -0.9137844  -2.20289565  0.53491752\n",
      "  0.5406753   0.7668966 ]\n"
     ]
    }
   ],
   "source": [
    "import numpy as np\n",
    "a=np.random.randn(20)\n",
    "print(a)"
   ]
  },
  {
   "cell_type": "code",
   "execution_count": 129,
   "id": "e0bb0d4e",
   "metadata": {
    "scrolled": true
   },
   "outputs": [
    {
     "name": "stdout",
     "output_type": "stream",
     "text": [
      "[0.59972594 0.18092676 0.92213895 0.78448243 0.00919961 0.25028502\n",
      " 0.85739929 0.94038919 0.92482226 0.1265567  0.67392579 0.37287168\n",
      " 0.1994359  0.14260086 0.65716464 0.38017329 0.77240939 0.82623427\n",
      " 0.00677    0.8964096 ]\n"
     ]
    }
   ],
   "source": [
    "import numpy as np\n",
    "a=np.random.rand(20)\n",
    "print(a)"
   ]
  },
  {
   "cell_type": "code",
   "execution_count": 130,
   "id": "765f96a0",
   "metadata": {},
   "outputs": [
    {
     "ename": "TypeError",
     "evalue": "'list' object is not callable",
     "output_type": "error",
     "traceback": [
      "\u001b[1;31m---------------------------------------------------------------------------\u001b[0m",
      "\u001b[1;31mTypeError\u001b[0m                                 Traceback (most recent call last)",
      "Input \u001b[1;32mIn [130]\u001b[0m, in \u001b[0;36m<cell line: 1>\u001b[1;34m()\u001b[0m\n\u001b[1;32m----> 1\u001b[0m a\u001b[38;5;241m=\u001b[39m\u001b[43mnp\u001b[49m\u001b[38;5;241;43m.\u001b[39;49m\u001b[43marray\u001b[49m\u001b[43m(\u001b[49m\u001b[43m[\u001b[49m\u001b[43m[\u001b[49m\u001b[38;5;241;43m2\u001b[39;49m\u001b[43m,\u001b[49m\u001b[38;5;241;43m3\u001b[39;49m\u001b[43m,\u001b[49m\u001b[38;5;241;43m5\u001b[39;49m\u001b[43m,\u001b[49m\u001b[38;5;241;43m6\u001b[39;49m\u001b[43m,\u001b[49m\u001b[38;5;241;43m8\u001b[39;49m\u001b[43m,\u001b[49m\u001b[38;5;241;43m3\u001b[39;49m\u001b[43m]\u001b[49m\u001b[43m,\u001b[49m\u001b[43m[\u001b[49m\u001b[38;5;241;43m2\u001b[39;49m\u001b[43m,\u001b[49m\u001b[38;5;241;43m4\u001b[39;49m\u001b[43m,\u001b[49m\u001b[38;5;241;43m6\u001b[39;49m\u001b[43m,\u001b[49m\u001b[38;5;241;43m7\u001b[39;49m\u001b[43m,\u001b[49m\u001b[38;5;241;43m8\u001b[39;49m\u001b[43m,\u001b[49m\u001b[38;5;241;43m5\u001b[39;49m\u001b[43m]\u001b[49m\u001b[43m]\u001b[49m\u001b[43m)\u001b[49m\n\u001b[0;32m      2\u001b[0m \u001b[38;5;28mprint\u001b[39m(a)\n\u001b[0;32m      3\u001b[0m b\u001b[38;5;241m=\u001b[39ma\u001b[38;5;241m.\u001b[39mreshape(\u001b[38;5;241m2\u001b[39m,\u001b[38;5;241m3\u001b[39m,\u001b[38;5;241m2\u001b[39m)\n",
      "\u001b[1;31mTypeError\u001b[0m: 'list' object is not callable"
     ]
    }
   ],
   "source": [
    "a=np.array([[2,3,5,6,8,3],[2,4,6,7,8,5]])\n",
    "print(a)\n",
    "b=a.reshape(2,3,2)\n",
    "print(b)"
   ]
  },
  {
   "cell_type": "code",
   "execution_count": 131,
   "id": "fa49f640",
   "metadata": {},
   "outputs": [
    {
     "name": "stdout",
     "output_type": "stream",
     "text": [
      "original array\n"
     ]
    },
    {
     "ename": "TypeError",
     "evalue": "'list' object is not callable",
     "output_type": "error",
     "traceback": [
      "\u001b[1;31m---------------------------------------------------------------------------\u001b[0m",
      "\u001b[1;31mTypeError\u001b[0m                                 Traceback (most recent call last)",
      "Input \u001b[1;32mIn [131]\u001b[0m, in \u001b[0;36m<cell line: 2>\u001b[1;34m()\u001b[0m\n\u001b[0;32m      1\u001b[0m \u001b[38;5;28mprint\u001b[39m(\u001b[38;5;124m\"\u001b[39m\u001b[38;5;124moriginal array\u001b[39m\u001b[38;5;124m\"\u001b[39m)\n\u001b[1;32m----> 2\u001b[0m a\u001b[38;5;241m=\u001b[39m\u001b[43mnp\u001b[49m\u001b[38;5;241;43m.\u001b[39;49m\u001b[43marray\u001b[49m\u001b[43m(\u001b[49m\u001b[43m[\u001b[49m\u001b[38;5;241;43m3\u001b[39;49m\u001b[43m,\u001b[49m\u001b[38;5;241;43m5\u001b[39;49m\u001b[43m,\u001b[49m\u001b[38;5;241;43m6\u001b[39;49m\u001b[43m,\u001b[49m\u001b[38;5;241;43m4\u001b[39;49m\u001b[43m,\u001b[49m\u001b[38;5;241;43m5\u001b[39;49m\u001b[43m,\u001b[49m\u001b[38;5;241;43m6\u001b[39;49m\u001b[43m]\u001b[49m\u001b[43m)\u001b[49m\n\u001b[0;32m      3\u001b[0m \u001b[38;5;28mprint\u001b[39m(a)\n\u001b[0;32m      4\u001b[0m \u001b[38;5;28mprint\u001b[39m(\u001b[38;5;124m\"\u001b[39m\u001b[38;5;124musing arg short\u001b[39m\u001b[38;5;124m\"\u001b[39m)\n",
      "\u001b[1;31mTypeError\u001b[0m: 'list' object is not callable"
     ]
    }
   ],
   "source": [
    "print(\"original array\")\n",
    "a=np.array([3,5,6,4,5,6])\n",
    "print(a)\n",
    "print(\"using arg short\")\n",
    "print(a.argsort())\n",
    "print(\"print the value in assending order\")\n",
    "print(a[a.argsort()])\n",
    "print(\"original array\")\n",
    "print(a)"
   ]
  },
  {
   "cell_type": "code",
   "execution_count": 132,
   "id": "13377291",
   "metadata": {},
   "outputs": [
    {
     "ename": "TypeError",
     "evalue": "'list' object is not callable",
     "output_type": "error",
     "traceback": [
      "\u001b[1;31m---------------------------------------------------------------------------\u001b[0m",
      "\u001b[1;31mTypeError\u001b[0m                                 Traceback (most recent call last)",
      "Input \u001b[1;32mIn [132]\u001b[0m, in \u001b[0;36m<cell line: 2>\u001b[1;34m()\u001b[0m\n\u001b[0;32m      1\u001b[0m \u001b[38;5;28;01mimport\u001b[39;00m \u001b[38;5;21;01mnumpy\u001b[39;00m \u001b[38;5;28;01mas\u001b[39;00m \u001b[38;5;21;01mnp\u001b[39;00m\n\u001b[1;32m----> 2\u001b[0m a\u001b[38;5;241m=\u001b[39m\u001b[43mnp\u001b[49m\u001b[38;5;241;43m.\u001b[39;49m\u001b[43marray\u001b[49m\u001b[43m(\u001b[49m\u001b[43m[\u001b[49m\u001b[38;5;241;43m1\u001b[39;49m\u001b[43m,\u001b[49m\u001b[38;5;241;43m5\u001b[39;49m\u001b[43m,\u001b[49m\u001b[38;5;241;43m4\u001b[39;49m\u001b[43m,\u001b[49m\u001b[38;5;241;43m6\u001b[39;49m\u001b[43m,\u001b[49m\u001b[38;5;241;43m7\u001b[39;49m\u001b[43m,\u001b[49m\u001b[38;5;241;43m8\u001b[39;49m\u001b[43m]\u001b[49m\u001b[43m)\u001b[49m\n\u001b[0;32m      3\u001b[0m b\u001b[38;5;241m=\u001b[39mnp\u001b[38;5;241m.\u001b[39marray([\u001b[38;5;241m9\u001b[39m,\u001b[38;5;241m8\u001b[39m,\u001b[38;5;241m6\u001b[39m,\u001b[38;5;241m7\u001b[39m,\u001b[38;5;241m4\u001b[39m,\u001b[38;5;241m7\u001b[39m,\u001b[38;5;241m4\u001b[39m])\n\u001b[0;32m      4\u001b[0m \u001b[38;5;28mprint\u001b[39m(a[short_index])\n",
      "\u001b[1;31mTypeError\u001b[0m: 'list' object is not callable"
     ]
    }
   ],
   "source": [
    "import numpy as np\n",
    "a=np.array([1,5,4,6,7,8])\n",
    "b=np.array([9,8,6,7,4,7,4])\n",
    "print(a[short_index])"
   ]
  },
  {
   "cell_type": "code",
   "execution_count": 133,
   "id": "543a5cbf",
   "metadata": {},
   "outputs": [
    {
     "ename": "TypeError",
     "evalue": "'list' object is not callable",
     "output_type": "error",
     "traceback": [
      "\u001b[1;31m---------------------------------------------------------------------------\u001b[0m",
      "\u001b[1;31mTypeError\u001b[0m                                 Traceback (most recent call last)",
      "Input \u001b[1;32mIn [133]\u001b[0m, in \u001b[0;36m<cell line: 2>\u001b[1;34m()\u001b[0m\n\u001b[0;32m      1\u001b[0m \u001b[38;5;28;01mimport\u001b[39;00m \u001b[38;5;21;01mnumpy\u001b[39;00m \u001b[38;5;28;01mas\u001b[39;00m \u001b[38;5;21;01mnp\u001b[39;00m\n\u001b[1;32m----> 2\u001b[0m a\u001b[38;5;241m=\u001b[39m\u001b[43mnp\u001b[49m\u001b[38;5;241;43m.\u001b[39;49m\u001b[43marray\u001b[49m\u001b[43m(\u001b[49m\u001b[43m[\u001b[49m\u001b[38;5;241;43m2\u001b[39;49m\u001b[43m,\u001b[49m\u001b[38;5;241;43m8\u001b[39;49m\u001b[43m,\u001b[49m\u001b[38;5;241;43m7\u001b[39;49m\u001b[43m,\u001b[49m\u001b[38;5;241;43m5\u001b[39;49m\u001b[43m,\u001b[49m\u001b[38;5;241;43m9\u001b[39;49m\u001b[43m,\u001b[49m\u001b[38;5;241;43m3\u001b[39;49m\u001b[43m,\u001b[49m\u001b[38;5;241;43m4\u001b[39;49m\u001b[43m]\u001b[49m\u001b[43m)\u001b[49m\n\u001b[0;32m      3\u001b[0m \u001b[38;5;28mprint\u001b[39m(a)\n\u001b[0;32m      4\u001b[0m \u001b[38;5;28mprint\u001b[39m(a\u001b[38;5;241m.\u001b[39margsort())\n",
      "\u001b[1;31mTypeError\u001b[0m: 'list' object is not callable"
     ]
    }
   ],
   "source": [
    "import numpy as np\n",
    "a=np.array([2,8,7,5,9,3,4])\n",
    "print(a)\n",
    "print(a.argsort())\n",
    "b=a[a.argsort()]\n",
    "print(b)\n",
    "c=list(a[a.argsort()])\n",
    "print(c)\n",
    "d=(list(a[np.argsort(a)])[::-1])\n",
    "print(d)"
   ]
  },
  {
   "cell_type": "code",
   "execution_count": 134,
   "id": "c53e27ed",
   "metadata": {},
   "outputs": [
    {
     "ename": "TypeError",
     "evalue": "'list' object is not callable",
     "output_type": "error",
     "traceback": [
      "\u001b[1;31m---------------------------------------------------------------------------\u001b[0m",
      "\u001b[1;31mTypeError\u001b[0m                                 Traceback (most recent call last)",
      "Input \u001b[1;32mIn [134]\u001b[0m, in \u001b[0;36m<cell line: 1>\u001b[1;34m()\u001b[0m\n\u001b[1;32m----> 1\u001b[0m a\u001b[38;5;241m=\u001b[39m\u001b[43mnp\u001b[49m\u001b[38;5;241;43m.\u001b[39;49m\u001b[43marray\u001b[49m\u001b[43m(\u001b[49m\u001b[43m[\u001b[49m\u001b[38;5;241;43m2\u001b[39;49m\u001b[43m,\u001b[49m\u001b[38;5;241;43m9\u001b[39;49m\u001b[43m,\u001b[49m\u001b[38;5;241;43m8\u001b[39;49m\u001b[43m,\u001b[49m\u001b[38;5;241;43m17\u001b[39;49m\u001b[43m,\u001b[49m\u001b[38;5;241;43m65\u001b[39;49m\u001b[43m,\u001b[49m\u001b[38;5;241;43m44\u001b[39;49m\u001b[43m,\u001b[49m\u001b[38;5;241;43m6\u001b[39;49m\u001b[43m,\u001b[49m\u001b[38;5;241;43m7\u001b[39;49m\u001b[43m,\u001b[49m\u001b[38;5;241;43m4\u001b[39;49m\u001b[43m,\u001b[49m\u001b[38;5;241;43m2\u001b[39;49m\u001b[43m,\u001b[49m\u001b[38;5;241;43m3\u001b[39;49m\u001b[43m]\u001b[49m\u001b[43m)\u001b[49m\n\u001b[0;32m      2\u001b[0m \u001b[38;5;28mprint\u001b[39m(\u001b[38;5;124m\"\u001b[39m\u001b[38;5;124moriginal data is:\u001b[39m\u001b[38;5;124m\"\u001b[39m,a)\n\u001b[0;32m      3\u001b[0m c\u001b[38;5;241m=\u001b[39m(np\u001b[38;5;241m.\u001b[39margsort(a))\n",
      "\u001b[1;31mTypeError\u001b[0m: 'list' object is not callable"
     ]
    }
   ],
   "source": [
    "a=np.array([2,9,8,17,65,44,6,7,4,2,3])\n",
    "print(\"original data is:\",a)\n",
    "c=(np.argsort(a))\n",
    "print(c)\n",
    "d=a[np.argsort(a)]\n",
    "print(d)\n",
    "e=list(a[np.argsort(a)])\n",
    "print(e)\n",
    "d=(list(a[np.argsort(a)])[::-1])\n",
    "print(d)"
   ]
  },
  {
   "cell_type": "code",
   "execution_count": 135,
   "id": "15a6b80b",
   "metadata": {},
   "outputs": [
    {
     "name": "stdout",
     "output_type": "stream",
     "text": [
      "[0.97555694 0.33068408 0.37494495 0.00278946 0.50355507 0.24581405\n",
      " 0.73984001 0.76508343 0.55290003 0.07456055]\n"
     ]
    }
   ],
   "source": [
    "import numpy.random as npr\n",
    "a=npr.random(10)\n",
    "print(a)"
   ]
  },
  {
   "cell_type": "code",
   "execution_count": 136,
   "id": "47f37b9c",
   "metadata": {},
   "outputs": [
    {
     "ename": "TypeError",
     "evalue": "'list' object is not callable",
     "output_type": "error",
     "traceback": [
      "\u001b[1;31m---------------------------------------------------------------------------\u001b[0m",
      "\u001b[1;31mTypeError\u001b[0m                                 Traceback (most recent call last)",
      "Input \u001b[1;32mIn [136]\u001b[0m, in \u001b[0;36m<cell line: 2>\u001b[1;34m()\u001b[0m\n\u001b[0;32m      1\u001b[0m \u001b[38;5;28;01mimport\u001b[39;00m \u001b[38;5;21;01mnumpy\u001b[39;00m\u001b[38;5;21;01m.\u001b[39;00m\u001b[38;5;21;01mrandom\u001b[39;00m \u001b[38;5;28;01mas\u001b[39;00m \u001b[38;5;21;01mnpr\u001b[39;00m\n\u001b[1;32m----> 2\u001b[0m a\u001b[38;5;241m=\u001b[39m\u001b[43mnpr\u001b[49m\u001b[38;5;241;43m.\u001b[39;49m\u001b[43mrandint\u001b[49m\u001b[43m(\u001b[49m\u001b[38;5;241;43m10\u001b[39;49m\u001b[43m)\u001b[49m\n\u001b[0;32m      3\u001b[0m \u001b[38;5;28mprint\u001b[39m(a)\n",
      "File \u001b[1;32mmtrand.pyx:746\u001b[0m, in \u001b[0;36mnumpy.random.mtrand.RandomState.randint\u001b[1;34m()\u001b[0m\n",
      "File \u001b[1;32m_bounded_integers.pyx:1322\u001b[0m, in \u001b[0;36mnumpy.random._bounded_integers._rand_int32\u001b[1;34m()\u001b[0m\n",
      "\u001b[1;31mTypeError\u001b[0m: 'list' object is not callable"
     ]
    }
   ],
   "source": [
    "import numpy.random as npr\n",
    "a=npr.randint(10)\n",
    "print(a)"
   ]
  },
  {
   "cell_type": "code",
   "execution_count": 137,
   "id": "f5df1a8d",
   "metadata": {},
   "outputs": [
    {
     "ename": "TypeError",
     "evalue": "'list' object is not callable",
     "output_type": "error",
     "traceback": [
      "\u001b[1;31m---------------------------------------------------------------------------\u001b[0m",
      "\u001b[1;31mTypeError\u001b[0m                                 Traceback (most recent call last)",
      "Input \u001b[1;32mIn [137]\u001b[0m, in \u001b[0;36m<cell line: 2>\u001b[1;34m()\u001b[0m\n\u001b[0;32m      1\u001b[0m \u001b[38;5;28;01mimport\u001b[39;00m \u001b[38;5;21;01mnumpy\u001b[39;00m\u001b[38;5;21;01m.\u001b[39;00m\u001b[38;5;21;01mrandom\u001b[39;00m \u001b[38;5;28;01mas\u001b[39;00m \u001b[38;5;21;01mnpr\u001b[39;00m\n\u001b[1;32m----> 2\u001b[0m a\u001b[38;5;241m=\u001b[39m\u001b[43mnpr\u001b[49m\u001b[38;5;241;43m.\u001b[39;49m\u001b[43mrandint\u001b[49m\u001b[43m(\u001b[49m\u001b[38;5;241;43m-\u001b[39;49m\u001b[38;5;241;43m3\u001b[39;49m\u001b[43m,\u001b[49m\u001b[38;5;241;43m7\u001b[39;49m\u001b[43m,\u001b[49m\u001b[43msize\u001b[49m\u001b[38;5;241;43m=\u001b[39;49m\u001b[43m(\u001b[49m\u001b[38;5;241;43m100\u001b[39;49m\u001b[43m)\u001b[49m\u001b[43m)\u001b[49m\n\u001b[0;32m      3\u001b[0m \u001b[38;5;28mprint\u001b[39m(a)\n",
      "File \u001b[1;32mmtrand.pyx:746\u001b[0m, in \u001b[0;36mnumpy.random.mtrand.RandomState.randint\u001b[1;34m()\u001b[0m\n",
      "File \u001b[1;32m_bounded_integers.pyx:1322\u001b[0m, in \u001b[0;36mnumpy.random._bounded_integers._rand_int32\u001b[1;34m()\u001b[0m\n",
      "\u001b[1;31mTypeError\u001b[0m: 'list' object is not callable"
     ]
    }
   ],
   "source": [
    "import numpy.random as npr\n",
    "a=npr.randint(-3,7,size=(100))\n",
    "print(a)"
   ]
  },
  {
   "cell_type": "code",
   "execution_count": 138,
   "id": "18b109f6",
   "metadata": {},
   "outputs": [
    {
     "name": "stdout",
     "output_type": "stream",
     "text": [
      "[0. 0. 0. 0. 0. 0. 0. 0. 0. 0.]\n"
     ]
    }
   ],
   "source": [
    "import numpy.random as npr\n",
    "a=np.clip(a,-4,0)\n",
    "print(a)"
   ]
  },
  {
   "cell_type": "code",
   "execution_count": 139,
   "id": "4817c12b",
   "metadata": {},
   "outputs": [
    {
     "data": {
      "text/plain": [
       "array([0., 0., 0., 0., 0., 0., 0., 0., 0., 0.])"
      ]
     },
     "execution_count": 139,
     "metadata": {},
     "output_type": "execute_result"
    }
   ],
   "source": [
    "import numpy.random as npr\n",
    "a.clip(0)"
   ]
  },
  {
   "cell_type": "code",
   "execution_count": null,
   "id": "590e9f8c",
   "metadata": {},
   "outputs": [],
   "source": [
    "import numpy as np\n",
    "a=npr.randint(-2,5,200)\n",
    "print(a)"
   ]
  },
  {
   "cell_type": "code",
   "execution_count": null,
   "id": "ce3851a1",
   "metadata": {},
   "outputs": [],
   "source": [
    "import numpy as np\n",
    "import numpy.random as npr\n",
    "b=np.clip(a,-4,2)\n",
    "print(b)"
   ]
  },
  {
   "cell_type": "code",
   "execution_count": null,
   "id": "62df9175",
   "metadata": {},
   "outputs": [],
   "source": [
    "a.clip(0)"
   ]
  },
  {
   "cell_type": "code",
   "execution_count": null,
   "id": "10ce22b2",
   "metadata": {},
   "outputs": [],
   "source": [
    "import numpy as np"
   ]
  },
  {
   "cell_type": "code",
   "execution_count": null,
   "id": "db4b11fe",
   "metadata": {},
   "outputs": [],
   "source": [
    "import numpy as np\n",
    "import numpy.random as npr\n",
    "a=npr.randint(-4,9 ,size=100)\n",
    "print(a)"
   ]
  },
  {
   "cell_type": "code",
   "execution_count": null,
   "id": "b33cf37e",
   "metadata": {},
   "outputs": [],
   "source": [
    "b=np.clip(a,-4,3)\n",
    "print(b)"
   ]
  },
  {
   "cell_type": "code",
   "execution_count": null,
   "id": "a67d3ab2",
   "metadata": {},
   "outputs": [],
   "source": [
    "import numpy as np\n",
    "import numpy.random as npr\n",
    "c=a.clip(0)\n",
    "print(c)\n",
    "d=b.clip(0)\n",
    "print(d)"
   ]
  },
  {
   "cell_type": "code",
   "execution_count": null,
   "id": "37d0651e",
   "metadata": {},
   "outputs": [],
   "source": [
    "npr.choice(a,20)"
   ]
  },
  {
   "cell_type": "code",
   "execution_count": null,
   "id": "a04581f7",
   "metadata": {},
   "outputs": [],
   "source": [
    "np.unique(a)"
   ]
  },
  {
   "cell_type": "code",
   "execution_count": null,
   "id": "1fa22dfd",
   "metadata": {},
   "outputs": [],
   "source": [
    "len(np.unique(a))"
   ]
  },
  {
   "cell_type": "code",
   "execution_count": null,
   "id": "54760556",
   "metadata": {},
   "outputs": [],
   "source": [
    "import numpy as np\n",
    "a=np.random.randn(7,6)\n",
    "a"
   ]
  },
  {
   "cell_type": "code",
   "execution_count": null,
   "id": "f537997c",
   "metadata": {
    "scrolled": false
   },
   "outputs": [],
   "source": []
  },
  {
   "cell_type": "code",
   "execution_count": null,
   "id": "73c95e44",
   "metadata": {},
   "outputs": [],
   "source": [
    "df.info()"
   ]
  },
  {
   "cell_type": "code",
   "execution_count": null,
   "id": "e75b2036",
   "metadata": {},
   "outputs": [],
   "source": [
    "df.describe()"
   ]
  },
  {
   "cell_type": "code",
   "execution_count": null,
   "id": "0626b2d5",
   "metadata": {},
   "outputs": [],
   "source": [
    "df.head()"
   ]
  },
  {
   "cell_type": "code",
   "execution_count": null,
   "id": "6b1dc96b",
   "metadata": {},
   "outputs": [],
   "source": [
    "df.head(3)"
   ]
  },
  {
   "cell_type": "code",
   "execution_count": null,
   "id": "99f7d4da",
   "metadata": {},
   "outputs": [],
   "source": [
    "df.tail()"
   ]
  },
  {
   "cell_type": "code",
   "execution_count": null,
   "id": "8ebd577a",
   "metadata": {},
   "outputs": [],
   "source": [
    "df.tail(3)"
   ]
  },
  {
   "cell_type": "code",
   "execution_count": null,
   "id": "d5c16f30",
   "metadata": {},
   "outputs": [],
   "source": [
    "pd.options.display.max_rows=6 \n",
    "df"
   ]
  },
  {
   "cell_type": "code",
   "execution_count": null,
   "id": "a40dca3b",
   "metadata": {},
   "outputs": [],
   "source": [
    "df.columns=[\"a\",\"b\",\"c\",\"d\",\"e\",\"f\"]\n",
    "df"
   ]
  },
  {
   "cell_type": "code",
   "execution_count": null,
   "id": "7e59f589",
   "metadata": {},
   "outputs": [],
   "source": [
    "index=pd.date_range('1/1/2022',periods=7)"
   ]
  },
  {
   "cell_type": "code",
   "execution_count": null,
   "id": "3bc57a79",
   "metadata": {},
   "outputs": [],
   "source": [
    "df.set_index(index,inplace=True)\n",
    "df"
   ]
  },
  {
   "cell_type": "code",
   "execution_count": null,
   "id": "67ff6395",
   "metadata": {},
   "outputs": [],
   "source": [
    "df['a']"
   ]
  },
  {
   "cell_type": "code",
   "execution_count": null,
   "id": "7b49712d",
   "metadata": {},
   "outputs": [],
   "source": [
    "df[['a']]"
   ]
  },
  {
   "cell_type": "code",
   "execution_count": null,
   "id": "89259f7c",
   "metadata": {},
   "outputs": [],
   "source": [
    "df.a"
   ]
  },
  {
   "cell_type": "code",
   "execution_count": null,
   "id": "1e432b15",
   "metadata": {},
   "outputs": [],
   "source": [
    "df[['a','c']]"
   ]
  },
  {
   "cell_type": "code",
   "execution_count": null,
   "id": "167c8835",
   "metadata": {},
   "outputs": [],
   "source": [
    "df[['a','c','f','e']]"
   ]
  },
  {
   "cell_type": "code",
   "execution_count": null,
   "id": "ab6ca49e",
   "metadata": {},
   "outputs": [],
   "source": [
    "df.iloc[0]"
   ]
  },
  {
   "cell_type": "code",
   "execution_count": null,
   "id": "eb50b1f0",
   "metadata": {},
   "outputs": [],
   "source": [
    "df.iloc[[0,3,4]]"
   ]
  },
  {
   "cell_type": "code",
   "execution_count": null,
   "id": "f77b2f95",
   "metadata": {},
   "outputs": [],
   "source": [
    "df.iloc[0,:3]"
   ]
  },
  {
   "cell_type": "code",
   "execution_count": null,
   "id": "4b62de00",
   "metadata": {},
   "outputs": [],
   "source": [
    "df.iloc[5, :]"
   ]
  },
  {
   "cell_type": "code",
   "execution_count": null,
   "id": "cf7b7cc9",
   "metadata": {},
   "outputs": [],
   "source": [
    "df.iloc[0,:]"
   ]
  },
  {
   "cell_type": "code",
   "execution_count": null,
   "id": "3e0dc467",
   "metadata": {},
   "outputs": [],
   "source": [
    "df.iloc[:,4]"
   ]
  },
  {
   "cell_type": "code",
   "execution_count": null,
   "id": "8a5151d3",
   "metadata": {},
   "outputs": [],
   "source": [
    "df.loc['2022-01-01']"
   ]
  },
  {
   "cell_type": "code",
   "execution_count": null,
   "id": "ccade59c",
   "metadata": {},
   "outputs": [],
   "source": [
    "df.loc['2022-01-05','e':]"
   ]
  },
  {
   "cell_type": "code",
   "execution_count": null,
   "id": "15c1969d",
   "metadata": {},
   "outputs": [],
   "source": [
    "df.loc[:,'e':]"
   ]
  },
  {
   "cell_type": "code",
   "execution_count": null,
   "id": "dbe41751",
   "metadata": {},
   "outputs": [],
   "source": [
    "df.loc['2022-01-03':,:]"
   ]
  },
  {
   "cell_type": "code",
   "execution_count": null,
   "id": "f1d288ee",
   "metadata": {},
   "outputs": [],
   "source": [
    "df <0"
   ]
  },
  {
   "cell_type": "code",
   "execution_count": null,
   "id": "b38840fc",
   "metadata": {},
   "outputs": [],
   "source": [
    "mask=df<0\n",
    "df[mask]=0\n",
    "df"
   ]
  },
  {
   "cell_type": "code",
   "execution_count": null,
   "id": "7ec01e16",
   "metadata": {},
   "outputs": [],
   "source": [
    "df.describe()"
   ]
  },
  {
   "cell_type": "code",
   "execution_count": null,
   "id": "ff3a799d",
   "metadata": {},
   "outputs": [],
   "source": [
    "import pandas as pd\n",
    "p=pd.Series([2,4,5,6,8,4])\n",
    "print(p)\n",
    "d=pd.Series(['A','S','C','E','Y','O'])\n",
    "print(d)"
   ]
  },
  {
   "cell_type": "code",
   "execution_count": null,
   "id": "ee9ac025",
   "metadata": {},
   "outputs": [],
   "source": [
    "import pandas as pd"
   ]
  },
  {
   "cell_type": "code",
   "execution_count": null,
   "id": "e83c557d",
   "metadata": {},
   "outputs": [],
   "source": [
    "a=pd.Series([3,5,6,7,8,9,0],index=['A','B','C','D','E','F','G'])\n",
    "print(a)"
   ]
  },
  {
   "cell_type": "code",
   "execution_count": null,
   "id": "0e120baa",
   "metadata": {},
   "outputs": [],
   "source": [
    "i=pd.Index(['Pooja','Laxmi','varsha','prachi','nandini','Sneha','manju','Varshag','Neha'])\n",
    "a=pd.Series([98,99,98,97,96,97,96,95,94],index=i)\n",
    "a"
   ]
  },
  {
   "cell_type": "code",
   "execution_count": null,
   "id": "163cbdd3",
   "metadata": {},
   "outputs": [],
   "source": [
    "a=pd.Series({'pooja':98,'Laxmi':99,'Varsha':98,'Prachi':97,'Neha':94})\n",
    "print(a)"
   ]
  },
  {
   "cell_type": "code",
   "execution_count": null,
   "id": "da65092a",
   "metadata": {},
   "outputs": [],
   "source": [
    "import numpy as np\n",
    "a=np.arange(30).reshape(6,5)\n",
    "b=pd.DataFrame(a,index=['Aman','Amit','Ajay','Avinash','Amar','Anita'],columns=['Kannada','English','Hindi','Science','Maths'])\n",
    "b"
   ]
  },
  {
   "cell_type": "code",
   "execution_count": null,
   "id": "937c0ffd",
   "metadata": {},
   "outputs": [],
   "source": [
    "a=np.array([[2,5,4,6,7,8],[2,4,5,6,7,5],[4,5,6,7,8,6]])\n",
    "df=pd.DataFrame(a,index=['maths','Kannada','English'],columns=['a','b','c','d','e','f'])\n",
    "df"
   ]
  },
  {
   "cell_type": "code",
   "execution_count": null,
   "id": "3f77c670",
   "metadata": {},
   "outputs": [],
   "source": [
    "a=pd.DataFrame([\n",
    "    [2,5,6,8,5,6],\n",
    "    [2,3,4,5,6,8],\n",
    "    [2,4,6,7,8,4],\n",
    "    [3,6,5,7,8,5],\n",
    "    [3,6,8,4,9,1]\n",
    "],columns=['Rahul','Ramesh','Rani','Rakesh','Roshani','Rekha'],index=['Kannada','English','Hindi','Science','Maths'])\n",
    "a"
   ]
  },
  {
   "cell_type": "code",
   "execution_count": null,
   "id": "16fd082f",
   "metadata": {},
   "outputs": [],
   "source": [
    "a=pd.DataFrame({'Rahul':[99,55,63,44,],'Rmesha':[97,44,34,55],'Rani':[98,44,34,23],'Rakesh':[96,45,67,89],'Roshani':[97,43,54,65],'Rekha':[94,54,65,76]},index=['Kannada','English','Maths','Science'])\n",
    "a"
   ]
  },
  {
   "cell_type": "code",
   "execution_count": null,
   "id": "3e8026cb",
   "metadata": {},
   "outputs": [],
   "source": [
    "srs1=pd.Series([2,4,6,8,5])\n",
    "srs2=pd.Series([3,5,7,9,4])\n",
    "ans=pd.DataFrame({'osa':srs1,'Java':srs2})\n",
    "ans"
   ]
  },
  {
   "cell_type": "code",
   "execution_count": null,
   "id": "0ef1edbe",
   "metadata": {},
   "outputs": [],
   "source": [
    "import pandas as pd\n",
    "import numpy as np\n",
    "a=pd.Series([2,4,5],index=['Karnataka','Gujarat','Goa'],name='poputation')\n",
    "b=pd.Series(['Bengaloru','Gandinagar','Panji'],index=['Karnataka','Gujarat','Goa'],name='capital')\n",
    "df=pd.DataFrame({'poputation':a,'capital':b})\n",
    "df.to_csv('df1.csv')"
   ]
  },
  {
   "cell_type": "code",
   "execution_count": null,
   "id": "a8dfda16",
   "metadata": {},
   "outputs": [],
   "source": [
    "df1"
   ]
  },
  {
   "cell_type": "code",
   "execution_count": null,
   "id": "b3241610",
   "metadata": {
    "scrolled": false
   },
   "outputs": [],
   "source": [
    "df1=pd.DataFrame([\n",
    "    ['32.4','bengaloru'],\n",
    "    ['34.6','Gandinagar'],\n",
    "    ['45.9','Panji']\n",
    "],index=['Karnataka','Gujarat','Goa'],columns=['population','capital'])\n",
    "print(df1.append(pd.DataFrame([['78.9','patna'],['32.5','silang']],index=['bihar','meghalay'],columns=['population','capital'])))"
   ]
  },
  {
   "cell_type": "code",
   "execution_count": null,
   "id": "755483ca",
   "metadata": {},
   "outputs": [],
   "source": [
    "import pandas as pd\n",
    "import numpy as np\n",
    "df=pd.DataFrame([\n",
    "    [23,45,66,78],\n",
    "    [34,56,78,45],\n",
    "    [34,56,75,89],\n",
    "    [34,65,76,87]\n",
    "],columns=['OSA','JAVA','DSP','SE'])\n",
    "df"
   ]
  },
  {
   "cell_type": "code",
   "execution_count": null,
   "id": "1d7bcbf9",
   "metadata": {},
   "outputs": [],
   "source": [
    "df.describe()"
   ]
  },
  {
   "cell_type": "code",
   "execution_count": null,
   "id": "c78f67e5",
   "metadata": {},
   "outputs": [],
   "source": [
    "df.info()"
   ]
  },
  {
   "cell_type": "code",
   "execution_count": null,
   "id": "abe8e906",
   "metadata": {},
   "outputs": [],
   "source": [
    "df.sum()"
   ]
  },
  {
   "cell_type": "code",
   "execution_count": null,
   "id": "0b305316",
   "metadata": {},
   "outputs": [],
   "source": [
    "df.max()"
   ]
  },
  {
   "cell_type": "code",
   "execution_count": null,
   "id": "c196b4af",
   "metadata": {},
   "outputs": [],
   "source": [
    "df.min()"
   ]
  },
  {
   "cell_type": "code",
   "execution_count": null,
   "id": "05b9f61b",
   "metadata": {},
   "outputs": [],
   "source": [
    "df.mean()"
   ]
  },
  {
   "cell_type": "code",
   "execution_count": null,
   "id": "707dd360",
   "metadata": {},
   "outputs": [],
   "source": [
    "df.median()"
   ]
  },
  {
   "cell_type": "code",
   "execution_count": null,
   "id": "55cd9de0",
   "metadata": {},
   "outputs": [],
   "source": [
    "df.std()"
   ]
  },
  {
   "cell_type": "code",
   "execution_count": null,
   "id": "29153263",
   "metadata": {},
   "outputs": [],
   "source": [
    "df.var()"
   ]
  },
  {
   "cell_type": "code",
   "execution_count": null,
   "id": "20807517",
   "metadata": {},
   "outputs": [],
   "source": [
    "df.count()"
   ]
  },
  {
   "cell_type": "code",
   "execution_count": null,
   "id": "5ae391a6",
   "metadata": {},
   "outputs": [],
   "source": [
    "df.cumsum()"
   ]
  },
  {
   "cell_type": "code",
   "execution_count": null,
   "id": "b9cee1d2",
   "metadata": {},
   "outputs": [],
   "source": [
    "a.agg(['sum','min','max','median'])"
   ]
  },
  {
   "cell_type": "code",
   "execution_count": null,
   "id": "1601a01b",
   "metadata": {},
   "outputs": [],
   "source": [
    "import pandas as pd\n",
    "import numpy as np\n",
    "a=pd.read_csv(\"titanic.csv\")\n",
    "a"
   ]
  },
  {
   "cell_type": "code",
   "execution_count": null,
   "id": "5eb8e4c4",
   "metadata": {},
   "outputs": [],
   "source": [
    "a.describe()"
   ]
  },
  {
   "cell_type": "code",
   "execution_count": null,
   "id": "ff831a79",
   "metadata": {},
   "outputs": [],
   "source": [
    "a.info()"
   ]
  },
  {
   "cell_type": "code",
   "execution_count": null,
   "id": "a7a4decf",
   "metadata": {},
   "outputs": [],
   "source": [
    "a.columns"
   ]
  },
  {
   "cell_type": "code",
   "execution_count": null,
   "id": "ba62ad3d",
   "metadata": {},
   "outputs": [],
   "source": [
    "a.index"
   ]
  },
  {
   "cell_type": "code",
   "execution_count": null,
   "id": "23dc0b97",
   "metadata": {},
   "outputs": [],
   "source": [
    "a.head()"
   ]
  },
  {
   "cell_type": "code",
   "execution_count": null,
   "id": "d14d644d",
   "metadata": {},
   "outputs": [],
   "source": [
    "a.head(9)"
   ]
  },
  {
   "cell_type": "code",
   "execution_count": null,
   "id": "d06afcd8",
   "metadata": {},
   "outputs": [],
   "source": [
    "a.tail()"
   ]
  },
  {
   "cell_type": "code",
   "execution_count": null,
   "id": "2e3f3de7",
   "metadata": {},
   "outputs": [],
   "source": [
    "a.tail(4)"
   ]
  },
  {
   "cell_type": "code",
   "execution_count": null,
   "id": "e9777b0b",
   "metadata": {},
   "outputs": [],
   "source": [
    "a.isnull()"
   ]
  },
  {
   "cell_type": "code",
   "execution_count": null,
   "id": "8cae98aa",
   "metadata": {},
   "outputs": [],
   "source": [
    "a.isnull().sum()"
   ]
  },
  {
   "cell_type": "code",
   "execution_count": null,
   "id": "7981230d",
   "metadata": {},
   "outputs": [],
   "source": [
    "a[[\"Age\"]].isnull()"
   ]
  },
  {
   "cell_type": "code",
   "execution_count": null,
   "id": "d817b6da",
   "metadata": {},
   "outputs": [],
   "source": [
    "a[[\"Age\"]].isnull().sum()"
   ]
  },
  {
   "cell_type": "code",
   "execution_count": null,
   "id": "7294a921",
   "metadata": {},
   "outputs": [],
   "source": [
    "a[[\"Age\"]].isnull().mean()"
   ]
  },
  {
   "cell_type": "code",
   "execution_count": null,
   "id": "00019d0e",
   "metadata": {},
   "outputs": [],
   "source": [
    "a[[\"Age\",\"Survived\"]].isnull()"
   ]
  },
  {
   "cell_type": "code",
   "execution_count": null,
   "id": "d58951f1",
   "metadata": {},
   "outputs": [],
   "source": [
    "a[[\"Age\",\"Survived\"]].isnull().mean()"
   ]
  },
  {
   "cell_type": "code",
   "execution_count": null,
   "id": "b311d3fa",
   "metadata": {},
   "outputs": [],
   "source": [
    "df3=a.drop([\"SibSp\",\"PassengerId\",\"Fare\",'Name'],axis=1)\n",
    "df3"
   ]
  },
  {
   "cell_type": "code",
   "execution_count": null,
   "id": "1ebf6e6f",
   "metadata": {},
   "outputs": [],
   "source": [
    "d=a.groupby('Survived')['Survived'].count()\n",
    "print(d)"
   ]
  },
  {
   "cell_type": "code",
   "execution_count": null,
   "id": "70a4f540",
   "metadata": {},
   "outputs": [],
   "source": [
    "d=a.groupby('Pclass')['Pclass'].count()\n",
    "d"
   ]
  },
  {
   "cell_type": "code",
   "execution_count": null,
   "id": "552abde5",
   "metadata": {},
   "outputs": [],
   "source": [
    "c=a.groupby('Sex')['Sex'].count()\n",
    "c"
   ]
  },
  {
   "cell_type": "code",
   "execution_count": null,
   "id": "bbaea948",
   "metadata": {},
   "outputs": [],
   "source": [
    "d=a.groupby('Embarked')['Embarked'].count()\n",
    "d"
   ]
  },
  {
   "cell_type": "code",
   "execution_count": null,
   "id": "beab0efd",
   "metadata": {},
   "outputs": [],
   "source": [
    "d=a.groupby('Sex')['Survived'].sum()\n",
    "d"
   ]
  },
  {
   "cell_type": "code",
   "execution_count": null,
   "id": "421b8f4e",
   "metadata": {},
   "outputs": [],
   "source": [
    "d=a.groupby(['Pclass','Sex','Survived'])['Survived'].count()\n",
    "d"
   ]
  },
  {
   "cell_type": "code",
   "execution_count": null,
   "id": "cf613385",
   "metadata": {},
   "outputs": [],
   "source": [
    "e=a.groupby('Pclass')['Survived'].sum()\n",
    "e"
   ]
  },
  {
   "cell_type": "code",
   "execution_count": null,
   "id": "64295cff",
   "metadata": {},
   "outputs": [],
   "source": [
    "e=a.groupby('Pclass')['Survived'].count()\n",
    "e"
   ]
  },
  {
   "cell_type": "code",
   "execution_count": null,
   "id": "1a8eb067",
   "metadata": {},
   "outputs": [],
   "source": [
    "f=a.groupby('Pclass')['Survived'].sum()/a.groupby('Pclass')['Survived'].count()*100\n",
    "f"
   ]
  },
  {
   "cell_type": "markdown",
   "id": "b68dab1e",
   "metadata": {},
   "source": [
    "# PIVOT TABLE"
   ]
  },
  {
   "cell_type": "code",
   "execution_count": null,
   "id": "999c8741",
   "metadata": {},
   "outputs": [],
   "source": [
    "ab=a.pivot_table(values=\"Survived\",index=['Pclass'],aggfunc='sum')\n",
    "ab"
   ]
  },
  {
   "cell_type": "code",
   "execution_count": null,
   "id": "a29c8b15",
   "metadata": {},
   "outputs": [],
   "source": [
    "ab=a.pivot_table(values='Survived',index='Sex',columns='Pclass',aggfunc='sum')\n",
    "ab"
   ]
  },
  {
   "cell_type": "code",
   "execution_count": null,
   "id": "8d13876b",
   "metadata": {},
   "outputs": [],
   "source": [
    "ab=a.pivot_table(values=\"Survived\",index='Sex',columns=\"Pclass\",aggfunc='count')\n",
    "ab"
   ]
  },
  {
   "cell_type": "code",
   "execution_count": null,
   "id": "fdf2cfdb",
   "metadata": {},
   "outputs": [],
   "source": [
    "ad=a.pivot_table(values='Survived',index='Sex',columns='Pclass')\n",
    "ab"
   ]
  },
  {
   "cell_type": "code",
   "execution_count": null,
   "id": "25a939fd",
   "metadata": {},
   "outputs": [],
   "source": [
    "ad=a.pivot_table(values=\"Survived\",index='Sex')\n",
    "ab"
   ]
  },
  {
   "cell_type": "code",
   "execution_count": null,
   "id": "2312026d",
   "metadata": {},
   "outputs": [],
   "source": [
    "ab=a.pivot_table(values='Survived',index=['Sex','Age'],columns='Pclass',aggfunc='sum')\n",
    "ab"
   ]
  },
  {
   "cell_type": "code",
   "execution_count": null,
   "id": "558a177d",
   "metadata": {},
   "outputs": [],
   "source": [
    "ab=a.pivot_table(values='Survived',index=['Sex','Age'],columns='Pclass',aggfunc='count')\n",
    "ab"
   ]
  },
  {
   "cell_type": "code",
   "execution_count": null,
   "id": "ef1910d7",
   "metadata": {},
   "outputs": [],
   "source": [
    "import numpy as np\n",
    "import pandas as pd\n",
    "a=pd.DataFrame([\n",
    "    ['Aryan','singh','Fulltime','Administration',2,20000],\n",
    "    ['Rohan','Agrawal','Intern','Technical',3,3500],\n",
    "    ['Rijya','Shah','Fulltime','Adminisration',5,10000],\n",
    "    ['Yash','Bhatia','Part_time','Technical',7,10000],\n",
    "    ['Sidhant','Khana','Fulltime','Manager',6,20000]\n",
    "],columns=['First_Name','Last_name','type','Department','Yoe','Salary'])\n",
    "a"
   ]
  },
  {
   "cell_type": "code",
   "execution_count": null,
   "id": "41d88fd3",
   "metadata": {},
   "outputs": [],
   "source": [
    "ab=a.pivot_table(index=\"type\")\n",
    "ab"
   ]
  },
  {
   "cell_type": "code",
   "execution_count": null,
   "id": "8061602a",
   "metadata": {},
   "outputs": [],
   "source": [
    "ab=a.pivot_table(values='Salary',index='type',aggfunc='sum')\n",
    "ab"
   ]
  },
  {
   "cell_type": "code",
   "execution_count": null,
   "id": "4b892e3c",
   "metadata": {},
   "outputs": [],
   "source": [
    "ab=a.pivot_table(values='Salary',index='type',columns='Department',aggfunc='sum')\n",
    "ab"
   ]
  },
  {
   "cell_type": "code",
   "execution_count": null,
   "id": "0d82d523",
   "metadata": {},
   "outputs": [],
   "source": [
    "ab=a.pivot_table(values='Salary',index='type',columns='Department',aggfunc='count')\n",
    "ab"
   ]
  },
  {
   "cell_type": "code",
   "execution_count": null,
   "id": "aaabf9f3",
   "metadata": {},
   "outputs": [],
   "source": [
    "ab=a.pivot(values='Salary',index='type',columns='Department')\n",
    "ab"
   ]
  },
  {
   "cell_type": "code",
   "execution_count": null,
   "id": "8b71dda1",
   "metadata": {},
   "outputs": [],
   "source": [
    "ab=a.pivot_table(values='Salary',index='type',aggfunc=(['sum','count','mean']))\n",
    "ab"
   ]
  },
  {
   "cell_type": "code",
   "execution_count": null,
   "id": "0cd34b9a",
   "metadata": {},
   "outputs": [],
   "source": [
    "ab=a.pivot_table(values='Cabin',index='Sex',columns='Pclass',aggfunc='count')\n",
    "ab"
   ]
  },
  {
   "cell_type": "code",
   "execution_count": null,
   "id": "601b83a9",
   "metadata": {},
   "outputs": [],
   "source": [
    "import pandas as pd\n",
    "import numpy as np\n",
    "df1=pd.read_excel(\"SaleData.xlsx\")\n",
    "df1"
   ]
  },
  {
   "cell_type": "code",
   "execution_count": null,
   "id": "bd746492",
   "metadata": {},
   "outputs": [],
   "source": [
    "#1\n",
    "a=df1.pivot_table(index=[\"Region\",\"Manager\",\"Units\"])\n",
    "a"
   ]
  },
  {
   "cell_type": "code",
   "execution_count": null,
   "id": "0927c48b",
   "metadata": {},
   "outputs": [],
   "source": [
    "#2\n",
    "a=df1.pivot_table(values='Sale_amt',index=[\"Region\",\"Manager\"],aggfunc='sum')\n",
    "a"
   ]
  },
  {
   "cell_type": "code",
   "execution_count": null,
   "id": "b94dc671",
   "metadata": {},
   "outputs": [],
   "source": [
    "#3\n",
    "a=df1.pivot_table(values=\"Sale_amt\",index=[\"Region\",\"Manager\",\"SalesMan\"],aggfunc='sum')\n",
    "a"
   ]
  },
  {
   "cell_type": "code",
   "execution_count": null,
   "id": "ccc8d931",
   "metadata": {},
   "outputs": [],
   "source": [
    "#3\n",
    "a=df1.groupby(['Manager','SalesMan','Region'])['Sale_amt'].agg(['sum','count'])\n",
    "a"
   ]
  },
  {
   "cell_type": "code",
   "execution_count": null,
   "id": "bd413f07",
   "metadata": {},
   "outputs": [],
   "source": [
    "#4\n",
    "a=df1.pivot_table(values='Units',index='Item',aggfunc='sum')\n",
    "a"
   ]
  },
  {
   "cell_type": "code",
   "execution_count": null,
   "id": "bd537bbc",
   "metadata": {},
   "outputs": [],
   "source": [
    "#5\n",
    "a=df1.pivot_table(values=\"Sale_amt\",index='Region',aggfunc='sum')\n",
    "a"
   ]
  },
  {
   "cell_type": "code",
   "execution_count": null,
   "id": "610d62b8",
   "metadata": {},
   "outputs": [],
   "source": [
    "#6\n",
    "a=df1.pivot_table(values='Units',index=['Region','Item'],aggfunc='sum')\n",
    "a"
   ]
  },
  {
   "cell_type": "code",
   "execution_count": null,
   "id": "eddbedea",
   "metadata": {},
   "outputs": [],
   "source": [
    "#7\n",
    "a=df1.pivot_table(values=\"Sale_amt\",index='Manager',aggfunc=(['count','mean']))\n",
    "a"
   ]
  },
  {
   "cell_type": "code",
   "execution_count": null,
   "id": "84ea7f50",
   "metadata": {},
   "outputs": [],
   "source": [
    "#8\n",
    "a=df1.pivot_table(values='Sale_amt',index='SalesMan',aggfunc='sum',margins='True', margins_name='Total')\n",
    "a"
   ]
  },
  {
   "cell_type": "code",
   "execution_count": null,
   "id": "f213e81c",
   "metadata": {},
   "outputs": [],
   "source": [
    "#9\n",
    "a=df1.pivot_table(values='Sale_amt',index=['Region','Manager','SalesMan'],aggfunc='sum')\n",
    "a.query ('Manager == [\"Douglas\"]')\n"
   ]
  },
  {
   "cell_type": "code",
   "execution_count": null,
   "id": "f6c16c4f",
   "metadata": {},
   "outputs": [],
   "source": [
    "#10\n",
    "a=df1.pivot_table(values='Sale_amt',index='Item',aggfunc='max')\n",
    "a"
   ]
  },
  {
   "cell_type": "code",
   "execution_count": null,
   "id": "a314b716",
   "metadata": {},
   "outputs": [],
   "source": [
    "#12\n",
    "a=df1.pivot_table(values='Sale_amt',index='Item',aggfunc='min')\n",
    "a"
   ]
  },
  {
   "cell_type": "code",
   "execution_count": null,
   "id": "253fbb25",
   "metadata": {},
   "outputs": [],
   "source": [
    "#13\n",
    "a=df1.pivot_table(values='Sale_amt',index='Item',aggfunc=(['max','min']))\n",
    "a"
   ]
  },
  {
   "cell_type": "code",
   "execution_count": null,
   "id": "55105be9",
   "metadata": {},
   "outputs": [],
   "source": [
    "a.pivot_table(index='name',columns='osa',aggfunc='sum',fill_value='Not need', margins = True)"
   ]
  },
  {
   "cell_type": "code",
   "execution_count": null,
   "id": "359f9c7b",
   "metadata": {},
   "outputs": [],
   "source": [
    "import pandas as pd\n",
    "a=pd.DataFrame([\n",
    "    ['Arun',23,45,45,34],\n",
    "    ['Aman',23,56,78,67],\n",
    "    ['Ajay',34,56,78,66],\n",
    "    ['Aksah',23,67,89,56]\n",
    "],columns=['name','osa','java','Se','Dsa'])\n",
    "print(a)\n",
    "a.melt(id_vars=['name'])"
   ]
  },
  {
   "cell_type": "code",
   "execution_count": null,
   "id": "2ea64fab",
   "metadata": {},
   "outputs": [],
   "source": [
    "import pandas as pd\n",
    "import numpy as np\n",
    "from pandas import Series,DataFrame\n",
    "a=Series([2,4,5,7,3])\n",
    "b=Series([1,2,3,4,5],index=[0,1,2,3,4])\n"
   ]
  },
  {
   "cell_type": "code",
   "execution_count": null,
   "id": "b337e3c9",
   "metadata": {},
   "outputs": [],
   "source": [
    "print(a)"
   ]
  },
  {
   "cell_type": "code",
   "execution_count": null,
   "id": "0e57ce3a",
   "metadata": {},
   "outputs": [],
   "source": [
    "print(b)"
   ]
  },
  {
   "cell_type": "code",
   "execution_count": null,
   "id": "ae0c6f08",
   "metadata": {},
   "outputs": [],
   "source": [
    "a+b"
   ]
  },
  {
   "cell_type": "code",
   "execution_count": null,
   "id": "1b233998",
   "metadata": {},
   "outputs": [],
   "source": [
    "a*b"
   ]
  },
  {
   "cell_type": "code",
   "execution_count": null,
   "id": "8a6ac669",
   "metadata": {},
   "outputs": [],
   "source": [
    "a/b"
   ]
  },
  {
   "cell_type": "code",
   "execution_count": null,
   "id": "fc64e65c",
   "metadata": {},
   "outputs": [],
   "source": [
    "a-b"
   ]
  },
  {
   "cell_type": "code",
   "execution_count": null,
   "id": "8569cfc2",
   "metadata": {},
   "outputs": [],
   "source": [
    "a**b"
   ]
  },
  {
   "cell_type": "code",
   "execution_count": null,
   "id": "a79b7876",
   "metadata": {},
   "outputs": [],
   "source": [
    "a>b"
   ]
  },
  {
   "cell_type": "code",
   "execution_count": null,
   "id": "31df0991",
   "metadata": {},
   "outputs": [],
   "source": [
    "a<b"
   ]
  },
  {
   "cell_type": "code",
   "execution_count": null,
   "id": "a396daee",
   "metadata": {},
   "outputs": [],
   "source": [
    "a==b"
   ]
  },
  {
   "cell_type": "code",
   "execution_count": null,
   "id": "3e3c639c",
   "metadata": {},
   "outputs": [],
   "source": [
    "a>=b"
   ]
  },
  {
   "cell_type": "code",
   "execution_count": null,
   "id": "dd4705e9",
   "metadata": {},
   "outputs": [],
   "source": [
    "a<=b"
   ]
  },
  {
   "cell_type": "code",
   "execution_count": null,
   "id": "d27b71d6",
   "metadata": {},
   "outputs": [],
   "source": [
    "a!=b"
   ]
  },
  {
   "cell_type": "code",
   "execution_count": null,
   "id": "73a3f21a",
   "metadata": {},
   "outputs": [],
   "source": [
    "np.sqrt(a)"
   ]
  },
  {
   "cell_type": "code",
   "execution_count": null,
   "id": "95ee40dd",
   "metadata": {},
   "outputs": [],
   "source": [
    "np.abs(a)"
   ]
  },
  {
   "cell_type": "code",
   "execution_count": null,
   "id": "62bddbb0",
   "metadata": {},
   "outputs": [],
   "source": [
    "type(np.abs(a))"
   ]
  },
  {
   "cell_type": "code",
   "execution_count": null,
   "id": "31c302be",
   "metadata": {},
   "outputs": [],
   "source": [
    "@np.vectorize\n",
    "def trunc(x):\n",
    "    return x if x>0 else 0\n",
    "trunc(x=np.array([2,5,-6,3,4,1]))"
   ]
  },
  {
   "cell_type": "code",
   "execution_count": null,
   "id": "df38ad4a",
   "metadata": {},
   "outputs": [],
   "source": [
    "trunc(b)"
   ]
  },
  {
   "cell_type": "code",
   "execution_count": null,
   "id": "c705d264",
   "metadata": {},
   "outputs": [],
   "source": [
    "type(trunc(b))"
   ]
  },
  {
   "cell_type": "code",
   "execution_count": null,
   "id": "9f7e598f",
   "metadata": {},
   "outputs": [],
   "source": [
    "import matplotlib.pyplot as plt\n",
    "import numpy as np\n",
    "import pandas as pd\n",
    "a=pd.Series([2,4,6,4,5])\n",
    "b=pd.Series([3,2,5,8,9])\n",
    "plt.plot(a,b)\n",
    "plt.show()"
   ]
  },
  {
   "cell_type": "code",
   "execution_count": null,
   "id": "6640b7d4",
   "metadata": {},
   "outputs": [],
   "source": [
    "import matplotlib.pyplot as plt\n",
    "a=[2,4,6,7,8,9]\n",
    "b=[2,5,7,4,3,2]\n",
    "plt.plot(a,b)\n",
    "plt.title(\"First chart\",color='m',fontsize=45)\n",
    "plt.show()"
   ]
  },
  {
   "cell_type": "code",
   "execution_count": null,
   "id": "d2ba0d67",
   "metadata": {},
   "outputs": [],
   "source": [
    "a=[2,5,4,3,4]\n",
    "b=[3,5,7,6,5]\n",
    "plt.plot(a,b)\n",
    "plt.title(\"Second chart\",color='g',fontsize=45)\n",
    "plt.xlabel('Roll number')\n",
    "plt.ylabel('Reg number')\n",
    "plt.show()"
   ]
  },
  {
   "cell_type": "code",
   "execution_count": null,
   "id": "0c77cb4b",
   "metadata": {},
   "outputs": [],
   "source": [
    "import matplotlib.pyplot as plt\n",
    "a=[2,5,4,6,7,8]\n",
    "b=[3,6,8,7,9,4]\n",
    "plt.plot(a,b)\n",
    "plt.title(\"Third chart\",color='m',fontsize=45)\n",
    "plt.xlabel(\"Rolenumber\")\n",
    "plt.ylabel(\"Reg number\")\n",
    "plt.xlim(0,10)\n",
    "plt.ylim(0,20)\n",
    "plt.show()"
   ]
  },
  {
   "cell_type": "code",
   "execution_count": null,
   "id": "7c5f111f",
   "metadata": {},
   "outputs": [],
   "source": [
    "a=[2,4,5,6,7,3]\n",
    "b=[2,4,5,6,7,8]\n",
    "plt.plot(a,b)\n",
    "plt.title(\"forth\",color='r',fontsize=29)\n",
    "plt.xlabel(\"rollnumber\",color='k',fontsize=15)\n",
    "plt.ylabel(\"reg number\",color='k',fontsize=15)\n",
    "plt.xlim(1,10)\n",
    "plt.ylim(1,10)\n",
    "plt.xticks(np.arange(1,11,1))\n",
    "plt.yticks(np.arange(1,11,1))\n",
    "plt.show()"
   ]
  },
  {
   "cell_type": "code",
   "execution_count": null,
   "id": "890d4a27",
   "metadata": {},
   "outputs": [],
   "source": [
    "a=[2,4,5,6,7,3]\n",
    "b=[2,4,5,6,7,8]\n",
    "plt.plot(a,b)\n",
    "plt.title(\"forth\",color='r',fontsize=29)\n",
    "plt.xlabel(\"rollnumber\",color='k',fontsize=15)\n",
    "plt.ylabel(\"reg number\",color='k',fontsize=15)\n",
    "plt.xlim(1,10)\n",
    "plt.ylim(1,10)\n",
    "plt.xticks(np.arange(1,11,1))\n",
    "plt.yticks(np.arange(1,11,1))\n",
    "plt.legend(['Java'])\n",
    "plt.show()"
   ]
  },
  {
   "cell_type": "code",
   "execution_count": null,
   "id": "ed118d16",
   "metadata": {},
   "outputs": [],
   "source": [
    "a=[1,5,6,7,3,5,6]\n",
    "b=[10,40,64,40,71,81,93]\n",
    "i= plt.figure(figsize =(8, 7), facecolor='r', edgecolor='g', linewidth=20)  \n",
    "plt.plot(a,b)\n",
    "plt.title(\"hello hi\",color='b',fontsize=34)\n",
    "plt.xlim(0,10)\n",
    "plt.ylim(0,30)\n",
    "plt.xlabel(\"Hello\")\n",
    "plt.ylabel(\"hi\")\n",
    "plt.xticks(np.arange(1,11,1))\n",
    "plt.yticks(np.arange(1,100,5))\n",
    "plt.legend(['Java'])\n",
    "plt.show()"
   ]
  },
  {
   "cell_type": "code",
   "execution_count": null,
   "id": "178b45b6",
   "metadata": {},
   "outputs": [],
   "source": [
    "a=[2,4,5,7,8,5]\n",
    "b=[3,5,6,4,7,8]\n",
    "fig=plt.figure(figsize=(6,5),facecolor='g',edgecolor='r',linewidth=20)\n",
    "ax=fig.add_axes([1,1,1,1])\n",
    "plt.plot(a,b)\n",
    "plt.xlabel(\"Rollnumber\")\n",
    "plt.ylabel(\"marks\")\n",
    "plt.xlim(1,10)\n",
    "plt.ylim(1,10)\n",
    "plt.xticks(np.arange(1,9,1))\n",
    "plt.yticks(np.arange(1,9,1))\n",
    "plt.legend(['java'])\n",
    "plt.show()"
   ]
  },
  {
   "cell_type": "markdown",
   "id": "0ab72655",
   "metadata": {},
   "source": [
    "# creating line bar graph"
   ]
  },
  {
   "cell_type": "code",
   "execution_count": null,
   "id": "019a30d0",
   "metadata": {},
   "outputs": [],
   "source": [
    "a=[2,5,7,8,9]\n",
    "b=[3,5,6,7,8]\n",
    "plt.plot(a,b)\n",
    "plt.title(\"BarGraph\",color='r',fontsize=35)\n",
    "plt.xlabel(\"Rollnumber\")\n",
    "plt.xlabel(\"MArks\")\n",
    "plt.show()"
   ]
  },
  {
   "cell_type": "code",
   "execution_count": null,
   "id": "6ec3da1c",
   "metadata": {
    "scrolled": false
   },
   "outputs": [],
   "source": [
    "a=[2,4,6,7,8,9]\n",
    "b=[3,4,2,6,5,7]\n",
    "plt.plot(a, b, color='k', linewidth=4, marker='4', markersize=35,  linestyle='dotted')\n",
    "plt.title(\"other type of line bar\",color='r',fontsize=30)\n",
    "plt.xlabel(\"ROll number\")\n",
    "plt.ylabel(\"Marks\")\n",
    "plt.show()"
   ]
  },
  {
   "cell_type": "code",
   "execution_count": null,
   "id": "c321bee5",
   "metadata": {},
   "outputs": [],
   "source": [
    "a=[2,4,6,7,8,9]\n",
    "b=[3,4,2,6,5,7]\n",
    "plt.plot(a, b, color='g', linewidth=3, marker='o', markersize=13, markerfacecolor='r',  linestyle='dashed')\n",
    "plt.title(\"other type of line bar\",color='r',fontsize=30)\n",
    "plt.xlabel(\"ROll number\")\n",
    "plt.ylabel(\"Marks\")\n",
    "plt.show()"
   ]
  },
  {
   "cell_type": "code",
   "execution_count": null,
   "id": "8777b7a6",
   "metadata": {},
   "outputs": [],
   "source": [
    "a=[1,2,3,4,5,6,7]\n",
    "b=[3,5,6,8,3,5,6]\n",
    "plt.bar(a,b)\n",
    "plt.title(\"marks of java\",color='r',fontsize=23)\n",
    "plt.xlabel(\"rollnumber\")\n",
    "plt.ylabel(\"marks\")\n",
    "plt.legend(\"java\")\n",
    "plt.show()"
   ]
  },
  {
   "cell_type": "code",
   "execution_count": null,
   "id": "7276b1b4",
   "metadata": {},
   "outputs": [],
   "source": [
    "a=[1,2,3,4,5,6,7]\n",
    "b=[3,5,6,8,3,5,6]\n",
    "tick_label=['one','two','three','four','five','six','seven']\n",
    "plt.bar(a , b , tick_label=tick_label, color=['r','c'],width=0.5, edgecolor='k',linewidth=5)\n",
    "plt.title(\"marks of java\",color='c',fontsize=23)\n",
    "plt.xlabel(\"rollnumber\")\n",
    "plt.ylabel(\"marks\")\n",
    "plt.legend(\"java\")\n",
    "plt.show()"
   ]
  },
  {
   "cell_type": "code",
   "execution_count": null,
   "id": "617a7768",
   "metadata": {},
   "outputs": [],
   "source": [
    "import matplotlib.pyplot as plt\n",
    "import pandas as pd\n",
    "import numpy as np\n",
    "a=[1,12,35,4,55,6,70,81,90,10]\n",
    "DSP=[32,23,45,67,12,45,78,90,67,89]\n",
    "OSA=[23,54,67,89,23,45,34,21,34,21]\n",
    "JAVA=[12,34,56,34,23,12,34,23,67,89]\n",
    "SE=[21,54,67,89,56,78,34,23,21,44]\n",
    "fig=plt.figure(figsize=(15,5),facecolor='red',edgecolor='g',linewidth=24)\n",
    "plt.subplot(1,4,1)\n",
    "plt.title(\"Width\")\n",
    "plt.plot(a,DSP)\n",
    "\n",
    "plt.subplot(1,4,2)\n",
    "plt.title(\"scond\")\n",
    "plt.plot(a,OSA)\n",
    "\n",
    "plt.subplot(1,4,3)\n",
    "plt.title(\"third\")\n",
    "plt.plot(a,JAVA)\n",
    "\n",
    "plt.subplot(1,4,4)\n",
    "plt.title(\"fourth\")\n",
    "plt.plot(a,SE)\n",
    "\n",
    "plt.show()"
   ]
  },
  {
   "cell_type": "code",
   "execution_count": null,
   "id": "fb4705ae",
   "metadata": {},
   "outputs": [],
   "source": [
    "a=[1,2,3,4,5,6]\n",
    "b=[3,5,6,7,2,3]\n",
    "fig=plt.figure(figsize=(5,4))\n",
    "\n",
    "ax1=fig.add_axes([1, 2, 1, 1])\n",
    "plt.plot(a,b)\n",
    "\n",
    "ax2=fig.add_axes([2.1,2,1.1,1])\n",
    "plt.plot(a,b)\n",
    "\n",
    "ax3=fig.add_axes([1, 0.9, 1, 1])\n",
    "plt.plot(a,b)\n",
    "\n",
    "\n",
    "ax4=fig.add_axes([2.1,0.9,1,1])\n",
    "plt.plot(a,b)\n",
    "plt.show()"
   ]
  },
  {
   "cell_type": "code",
   "execution_count": null,
   "id": "89fa65de",
   "metadata": {},
   "outputs": [],
   "source": [
    "a=[2,3,5,7,8,9,5]\n",
    "da=[4,5,7,8,9,4,5]\n",
    "osa=[2,3,4,7,6,8,9]\n",
    "java=[3,5,7,9,8,7,5]\n",
    "se=[3,6,7,9,6,5,3]\n",
    "fig=plt.figure(figsize=(15,5),facecolor='r',edgecolor='g',linewidth=24)\n",
    "plt.subplot(1,4,1)\n",
    "plt.title(\"first\")\n",
    "plt.plot(a,da)\n",
    "\n",
    "plt.subplot(1,4,2)\n",
    "plt.title(\"second\")\n",
    "plt.plot(a,osa)\n",
    "\n",
    "plt.subplot(1,4,3)\n",
    "plt.title(\"third\")\n",
    "plt.plot(a,java)\n",
    "\n",
    "plt.subplot(1,4,4)\n",
    "plt.title(\"fourth\")\n",
    "plt.plot(a,se)"
   ]
  },
  {
   "cell_type": "code",
   "execution_count": null,
   "id": "cd0b0ea3",
   "metadata": {},
   "outputs": [],
   "source": [
    "a=[2,4,6,7,8,9]\n",
    "b=[2,5,4,6,7,9]\n",
    "plt.plot(a,b)\n",
    "plt.title(\"first\")\n",
    "plt.xlabel(\"first x axis\")\n",
    "plt.ylabel(\"second y axis\")\n",
    "plt.show(a,b)"
   ]
  },
  {
   "cell_type": "code",
   "execution_count": null,
   "id": "cb37b251",
   "metadata": {},
   "outputs": [],
   "source": [
    "a=[2,5,6,8,4,5,9]\n",
    "b=[2,5,6,9,8,2,3]\n",
    "plt.plot(a,b, color='green',marker='o',markersize=15,markerfacecolor='red',linestyle='dashed',linewidth=3)\n",
    "plt.xlabel(\"x axis\")\n",
    "plt.ylabel(\"y axis\")\n",
    "plt.title(\"BAR CHART\", color='r', fontsize=23)\n",
    "plt.show(a,b)"
   ]
  },
  {
   "cell_type": "code",
   "execution_count": null,
   "id": "8c1102cc",
   "metadata": {},
   "outputs": [],
   "source": [
    "a=[3,5,6,8,9,2]\n",
    "b=[3,5,8,9,4,3]\n",
    "plt.bar(a,b,color='r',edgecolor='green',width=0.9,linewidth=2.3)"
   ]
  },
  {
   "cell_type": "code",
   "execution_count": null,
   "id": "e6e11313",
   "metadata": {},
   "outputs": [],
   "source": [
    "a=np.random.randint(1,50,100)\n",
    "plt.hist(a)"
   ]
  },
  {
   "cell_type": "code",
   "execution_count": null,
   "id": "65ff8309",
   "metadata": {},
   "outputs": [],
   "source": [
    "a=[2,3,0,4,5,6]\n",
    "b=[2,4,6,7,8,3]\n",
    "plt.scatter(a,b)\n",
    "plt.show()"
   ]
  },
  {
   "cell_type": "code",
   "execution_count": null,
   "id": "e5ef6bd6",
   "metadata": {},
   "outputs": [],
   "source": [
    "a=[2,4,5,7,9,4]\n",
    "b=[3,6,8,2,3,9]\n",
    "plt.scatter(a,b,marker='o',edgecolor='g',s=200,alpha=0.9,color='r')"
   ]
  },
  {
   "cell_type": "code",
   "execution_count": null,
   "id": "5f87c1ad",
   "metadata": {},
   "outputs": [],
   "source": [
    "a=[20,10,20,30,20]\n",
    "b=['osa','java','se','DSA','PP']\n",
    "plt.pie(a,labels=b)\n",
    "plt.show()"
   ]
  },
  {
   "cell_type": "markdown",
   "id": "036d509a",
   "metadata": {},
   "source": [
    "# Visualizing amount"
   ]
  },
  {
   "cell_type": "markdown",
   "id": "baa42c3f",
   "metadata": {},
   "source": [
    "# 1.using matplotlib bar chart display Total amout of sales region wise. "
   ]
  },
  {
   "cell_type": "code",
   "execution_count": null,
   "id": "5d7bc4a6",
   "metadata": {},
   "outputs": [],
   "source": [
    "a=df.groupby('Region')['Units'].sum()\n",
    "plt.bar(a.index,a)"
   ]
  },
  {
   "cell_type": "markdown",
   "id": "2d7fb3ef",
   "metadata": {},
   "source": [
    "# 1.using matplotlib bar chart display the item wise unit sold."
   ]
  },
  {
   "cell_type": "code",
   "execution_count": null,
   "id": "6fd90d6e",
   "metadata": {
    "scrolled": false
   },
   "outputs": [],
   "source": [
    "import numpy as np\n",
    "import pandas as pd\n",
    "import matplotlib.pyplot as plt\n",
    "df=pd.read_excel('SaleData.xlsx')\n",
    "print(df)\n",
    "a=df.groupby('Item')['Units'].sum()\n",
    "plt.bar(a.index,a)\n",
    "plt.show()"
   ]
  },
  {
   "cell_type": "markdown",
   "id": "546e56ef",
   "metadata": {},
   "source": [
    "# 2.using matplotlib bar chart display the total sales by managers."
   ]
  },
  {
   "cell_type": "code",
   "execution_count": null,
   "id": "cfa6a67f",
   "metadata": {},
   "outputs": [],
   "source": [
    "a=df.groupby('Manager')['Sale_amt'].sum()\n",
    "plt.bar(a.index,a)\n",
    "plt.show()"
   ]
  },
  {
   "cell_type": "markdown",
   "id": "6780aa13",
   "metadata": {},
   "source": [
    "# 3.using matplotlib bar chart display the total sales by salesman."
   ]
  },
  {
   "cell_type": "code",
   "execution_count": null,
   "id": "af1194c0",
   "metadata": {},
   "outputs": [],
   "source": [
    "import numpy as np\n",
    "import pandas as pd\n",
    "import matplotlib.pyplot as plt\n",
    "\n",
    "a=df.groupby('SalesMan')['Sale_amt'].sum()\n",
    "plt.bar(a.index,a)"
   ]
  },
  {
   "cell_type": "markdown",
   "id": "97e90bca",
   "metadata": {},
   "source": [
    "# 4.using matplotlib bar chart display Total male & female in titanic ship. \n"
   ]
  },
  {
   "cell_type": "code",
   "execution_count": null,
   "id": "c7dc4961",
   "metadata": {
    "scrolled": false
   },
   "outputs": [],
   "source": [
    "import pandas as pd\n",
    "import numpy as np\n",
    "import matplotlib.pyplot as plt\n",
    "df=pd.read_csv('titanic.csv')\n",
    "a=df.groupby('Sex')['Sex'].count()\n",
    "plt.bar(a.index,a)\n",
    "plt.show()\n",
    "df"
   ]
  },
  {
   "cell_type": "markdown",
   "id": "cf858cec",
   "metadata": {},
   "source": [
    "# 5.using matplotlib bar chart display Total male & female survived in titanic ship."
   ]
  },
  {
   "cell_type": "code",
   "execution_count": null,
   "id": "f3638047",
   "metadata": {},
   "outputs": [],
   "source": [
    "a=df.groupby('Sex')['Survived'].sum()\n",
    "plt.bar(a.index,a)\n",
    "plt.show()\n"
   ]
  },
  {
   "cell_type": "markdown",
   "id": "a8f86549",
   "metadata": {},
   "source": [
    "# 6.using matplotlib bar chart display class wise pasergers titanic ship."
   ]
  },
  {
   "cell_type": "code",
   "execution_count": null,
   "id": "1efc67fe",
   "metadata": {},
   "outputs": [],
   "source": [
    "a=df.groupby('Pclass')['PassengerId'].count()\n",
    "plt.bar(a.index,a)\n",
    "plt.show()"
   ]
  },
  {
   "cell_type": "markdown",
   "id": "683a942f",
   "metadata": {},
   "source": [
    "# create histogram of the age in taitanic sheep "
   ]
  },
  {
   "cell_type": "code",
   "execution_count": null,
   "id": "83d8ed5d",
   "metadata": {
    "scrolled": false
   },
   "outputs": [],
   "source": [
    "plt.hist(df['Age'])\n",
    "plt.show()"
   ]
  },
  {
   "cell_type": "code",
   "execution_count": null,
   "id": "0f72bb9d",
   "metadata": {},
   "outputs": [],
   "source": [
    "a=[2,6,7,8,9,4]\n",
    "b=[3,6,8,7,9,3]\n",
    "plt.plot(a,b)\n",
    "plt.show()"
   ]
  },
  {
   "cell_type": "code",
   "execution_count": null,
   "id": "dce0f75b",
   "metadata": {},
   "outputs": [],
   "source": [
    "a=[1,2,3,4,5,6]\n",
    "b=[3,5,7,8,5,6]\n",
    "plt.plot(a,b)\n",
    "plt.title(\"First chart\",color='r',fontsize=23)"
   ]
  },
  {
   "cell_type": "code",
   "execution_count": null,
   "id": "eaeb7088",
   "metadata": {},
   "outputs": [],
   "source": [
    "a=[1,2,3,4,5,6]\n",
    "b=[3,5,7,8,5,6]\n",
    "plt.plot(a,b)\n",
    "plt.title(\"Second chart\",color='r',fontsize=34)\n",
    "plt.xlim(0,10)\n",
    "plt.ylim(0,10)\n",
    "plt.show()"
   ]
  },
  {
   "cell_type": "code",
   "execution_count": null,
   "id": "8476f6a2",
   "metadata": {},
   "outputs": [],
   "source": [
    "a=[1,2,3,4,5,6]\n",
    "b=[3,5,7,8,5,6]\n",
    "plt.plot(a,b)\n",
    "plt.title(\"Second chart\",color='r',fontsize=34)\n",
    "plt.xlim(0,10)\n",
    "plt.ylim(0,10)\n",
    "plt.xlabel(\"X axis\")\n",
    "plt.ylabel(\"y axis\")\n",
    "plt.show()"
   ]
  },
  {
   "cell_type": "code",
   "execution_count": null,
   "id": "346b5641",
   "metadata": {},
   "outputs": [],
   "source": [
    "a=[1,2,3,4,5,6]\n",
    "b=[3,5,7,8,5,6]\n",
    "plt.plot(a,b)\n",
    "plt.title(\"Second chart\",color='r',fontsize=34)\n",
    "plt.xlim(0,10)\n",
    "plt.ylim(0,10)\n",
    "plt.xlabel(\"x\")\n",
    "plt.ylabel(\"Y\")\n",
    "plt.xticks(np.arange(1,10,1))\n",
    "plt.yticks(np.arange(1,10,1))\n",
    "plt.show()"
   ]
  },
  {
   "cell_type": "code",
   "execution_count": null,
   "id": "5861cf46",
   "metadata": {},
   "outputs": [],
   "source": [
    "a=[1,2,3,4,5,6]\n",
    "b=[3,5,7,8,5,6]\n",
    "plt.plot(a,b)\n",
    "plt.title(\"Second chart\",color='r',fontsize=34)\n",
    "plt.xlim(0,10)\n",
    "plt.ylim(0,10)\n",
    "plt.xlabel(\"x\")\n",
    "plt.ylabel(\"Y\")\n",
    "plt.xticks(np.arange(1,10,1))\n",
    "plt.yticks(np.arange(1,10,1))\n",
    "plt.legend('osa')\n",
    "plt.show()"
   ]
  },
  {
   "cell_type": "markdown",
   "id": "75dbd9e3",
   "metadata": {},
   "source": [
    "# creaing window"
   ]
  },
  {
   "cell_type": "code",
   "execution_count": null,
   "id": "1f1836ba",
   "metadata": {},
   "outputs": [],
   "source": [
    "a=[1,2,3,4,5,6]\n",
    "b=[3,5,7,8,5,6]\n",
    "fig=plt.figure(figsize=(15,7),facecolor='red',edgecolor='g',linewidth=32)\n",
    "plt.plot(a,b)\n",
    "plt.title(\"Second chart\",color='r',fontsize=34)\n",
    "plt.xlim(0,10)\n",
    "plt.ylim(0,10)\n",
    "plt.xlabel(\"x\")\n",
    "plt.ylabel(\"Y\")\n",
    "plt.xticks(np.arange(1,10,1))\n",
    "plt.yticks(np.arange(1,10,1))\n",
    "plt.show()"
   ]
  },
  {
   "cell_type": "markdown",
   "id": "812887e5",
   "metadata": {},
   "source": [
    "# plot creation"
   ]
  },
  {
   "cell_type": "code",
   "execution_count": null,
   "id": "fdea9436",
   "metadata": {},
   "outputs": [],
   "source": [
    "a=[1,2,3,4,5,6]\n",
    "b=[3,5,7,8,5,6]\n",
    "fig=plt.figure(figsize=(10,5),facecolor='red',edgecolor='g',linewidth=32)\n",
    "ax3=fig.add_axes([1,1,1,1])\n",
    "plt.plot(a,b)\n",
    "plt.title(\"Second chart\",color='r',fontsize=34)\n",
    "plt.xlim(0,10)\n",
    "plt.ylim(0,10)\n",
    "plt.xlabel(\"x\")\n",
    "plt.ylabel(\"Y\")\n",
    "plt.xticks(np.arange(1,10,1))\n",
    "plt.yticks(np.arange(1,10,1))\n",
    "plt.show()"
   ]
  },
  {
   "cell_type": "markdown",
   "id": "72806ef5",
   "metadata": {},
   "source": [
    "# plot creation"
   ]
  },
  {
   "cell_type": "markdown",
   "id": "dcf995fa",
   "metadata": {},
   "source": [
    "# sub plot"
   ]
  },
  {
   "cell_type": "code",
   "execution_count": null,
   "id": "49177b3a",
   "metadata": {},
   "outputs": [],
   "source": [
    "a=[1,3,5,7,5,4,6,4]\n",
    "osa=[2,4,5,6,7,8,9,5]\n",
    "java=[2,4,5,7,8,5,4,3]\n",
    "se=[3,6,7,8,9,3,4,5]\n",
    "fig=plt.figure(figsize=(15,4), facecolor='red',edgecolor='g',linewidth=20)\n",
    "plt.subplot(1,4,1)\n",
    "plt.title(\"first\")\n",
    "plt.plot(a,osa)\n",
    "\n",
    "plt.subplot(1,4,2)\n",
    "plt.title(\"second\")\n",
    "plt.plot(a,java)\n",
    "\n",
    "plt.subplot(1,4,3)\n",
    "plt.title(\"se\")\n",
    "plt.plot(a,se)"
   ]
  },
  {
   "cell_type": "code",
   "execution_count": null,
   "id": "e0406603",
   "metadata": {},
   "outputs": [],
   "source": [
    "a=[1,2,3,4,5]\n",
    "b=[4,5,6,7,8]\n",
    "fig=plt.figure(figsize=(5,3),facecolor='r',edgecolor='g',linewidth=32)\n",
    "ax1=fig.add_axes([1,1,1,1])\n",
    "plt.plot(a,b\n",
    "        )\n",
    "fig=plt.figure(figsize=(5,3),facecolor='r',edgecolor='g',linewidth=32)\n",
    "ax2=fig.add_axes([1,1,1,1])\n",
    "plt.plot(a,b)\n",
    "\n",
    "fig=plt.figure(figsize=(5,3),facecolor='r',edgecolor='g',linewidth=32)\n",
    "ax1=fig.add_axes([1,1,1,1])\n",
    "plt.plot(a,b)\n",
    "\n",
    "fig=plt.figure(figsize=(5,3),facecolor='r',edgecolor='g',linewidth=32)\n",
    "ax1=fig.add_axes([1,1,1,1])\n",
    "plt.plot(a,b)"
   ]
  },
  {
   "cell_type": "markdown",
   "id": "355d9132",
   "metadata": {},
   "source": [
    "# line chart"
   ]
  },
  {
   "cell_type": "code",
   "execution_count": null,
   "id": "1344eaaa",
   "metadata": {},
   "outputs": [],
   "source": [
    "a=[1,2,3,4,5,6]\n",
    "b=[4,7,4,8,3,9]\n",
    "plt.bar(a,b)\n",
    "plt.title(\"line bar\")\n",
    "plt.xlabel(\"x axis\")\n",
    "plt.ylabel(\"y axis\")\n",
    "plt.show()"
   ]
  },
  {
   "cell_type": "code",
   "execution_count": null,
   "id": "4835d158",
   "metadata": {},
   "outputs": [],
   "source": [
    "a=[1,2,3,4,5,6]\n",
    "b=[5,6,3,7,8,9]\n",
    "plt.bar(a,b,color='r',edgecolor='g',width=0.5,linewidth=4)"
   ]
  },
  {
   "cell_type": "code",
   "execution_count": null,
   "id": "81bf7500",
   "metadata": {},
   "outputs": [],
   "source": [
    "a=[1,2,3,4,5,6]\n",
    "b=[2,5,7,8,5,9]\n",
    "plt.plot(a,b)\n",
    "plt.xlabel(\"x axis\")\n",
    "plt.ylabel(\"y axis\")\n",
    "plt.show()"
   ]
  },
  {
   "cell_type": "code",
   "execution_count": null,
   "id": "f3181ba3",
   "metadata": {},
   "outputs": [],
   "source": [
    "a=[1,2,3,4,5,6]\n",
    "b=[2,5,7,8,5,9]\n",
    "plt.plot(a,b, marker='o', markersize=13, markerfacecolor='r',linestyle='dashed',linewidth=2,color='g')\n",
    "plt.xlabel(\"x axis\")\n",
    "plt.ylabel(\"y axis\")\n",
    "plt.show()"
   ]
  },
  {
   "cell_type": "code",
   "execution_count": null,
   "id": "1f78b4bf",
   "metadata": {},
   "outputs": [],
   "source": [
    "import pandas as pd\n",
    "import numpy as np\n",
    "import matplotlib.pyplot as plt"
   ]
  },
  {
   "cell_type": "code",
   "execution_count": null,
   "id": "28fefa02",
   "metadata": {},
   "outputs": [],
   "source": [
    "a=[1,2,3,4,5]\n",
    "b=[2,3,4,7,5]\n",
    "plt.plot(a,b)\n",
    "plt.show()"
   ]
  },
  {
   "cell_type": "code",
   "execution_count": null,
   "id": "96fc2db5",
   "metadata": {},
   "outputs": [],
   "source": [
    "a=[1,2,3,4,5]\n",
    "b=[2,3,4,7,5]\n",
    "plt.plot(a,b)\n",
    "plt.title(\"first chart\",color='g',size=34)"
   ]
  },
  {
   "cell_type": "code",
   "execution_count": null,
   "id": "970a7067",
   "metadata": {},
   "outputs": [],
   "source": [
    "a=[1,2,3,4,5]\n",
    "b=[2,3,4,7,5]\n",
    "plt.plot(a,b)\n",
    "plt.title(\"first chart\",color='g',size=34)\n",
    "plt.xlabel(\"x axis\")\n",
    "plt.ylabel(\"y axis\")\n",
    "plt.show()"
   ]
  },
  {
   "cell_type": "code",
   "execution_count": null,
   "id": "ba156141",
   "metadata": {},
   "outputs": [],
   "source": [
    "a=[1,2,3,4,5]\n",
    "b=[2,3,4,7,5]\n",
    "plt.plot(a,b)\n",
    "plt.title(\"first chart\",color='g',size=34)\n",
    "plt.xlabel(\"x axis\")\n",
    "plt.ylabel(\"y axis\")\n",
    "plt.xlim(1,10)\n",
    "plt.ylim(1,10)\n",
    "plt.xticks(np.arange(1,10,1))\n",
    "plt.yticks(np.arange(1,10,1))\n",
    "plt.legend(['OSA'])\n",
    "plt.show()"
   ]
  },
  {
   "cell_type": "code",
   "execution_count": null,
   "id": "2b4b4fab",
   "metadata": {},
   "outputs": [],
   "source": [
    "a=[1,2,3,4,5,6]\n",
    "b=[2,3,4,7,5,9]\n",
    "fig=plt.figure(figsize=(10,5),facecolor='r',edgecolor='g',linewidth=45)\n",
    "plt.plot(a,b)\n",
    "plt.title(\"first chart\",color='c',size=34)\n",
    "plt.xlabel(\"x axis\")\n",
    "plt.ylabel(\"y axis\")\n",
    "plt.xlim(1,10)\n",
    "plt.ylim(1,10)\n",
    "plt.xticks(np.arange(1,10,1))\n",
    "plt.yticks(np.arange(1,10,1))\n",
    "plt.legend(['OSA'])\n",
    "plt.show()"
   ]
  },
  {
   "cell_type": "code",
   "execution_count": null,
   "id": "58cf1aca",
   "metadata": {},
   "outputs": [],
   "source": [
    "import numpy as np\n",
    "import pandas as pd\n",
    "import matplotlib.pyplot as plt"
   ]
  },
  {
   "cell_type": "code",
   "execution_count": null,
   "id": "87553476",
   "metadata": {},
   "outputs": [],
   "source": [
    "a=[1,2,3,4,5,6,7,8,9,0]\n",
    "osa=[34,56,45,56,23,45,78,89,67,56]\n",
    "java=[12,34,54,56,45,65,76,89,87,65]\n",
    "se=[12,34,32,34,13,56,76,85,95,64]\n",
    "dsp=[23,43,54,12,32,41,23,23,12,34]\n",
    "\n",
    "plt.subplot(2,1,1)\n",
    "plt.plot(a,osa)\n",
    "plt.show()\n",
    "\n",
    "plt.subplot(2,2,1)\n",
    "plt.plot(a,java)\n",
    "plt.show()"
   ]
  },
  {
   "cell_type": "code",
   "execution_count": null,
   "id": "e2016c10",
   "metadata": {},
   "outputs": [],
   "source": [
    "import numpy as np\n",
    "import pandas as ps\n",
    "from datetime import datetime\n",
    "df=pd.date_range(start=\"10/1/2011\",end=\"11/1/2011\",freq=\"min\")\n",
    "df1=pd.DataFrame(df,columns=[\"Data_time\"])\n",
    "df1"
   ]
  },
  {
   "cell_type": "code",
   "execution_count": null,
   "id": "9c22f012",
   "metadata": {},
   "outputs": [],
   "source": [
    "import numpy as np\n",
    "import pandas as ps\n",
    "from datetime import datetime\n",
    "df=pd.date_range(start=\"10/1/2011\",end=\"11/1/2011\",freq=\"min\")\n",
    "df1=pd.DataFrame(df,columns=[\"Data_time\"])\n",
    "df1[\"data\"]=np.random.randint(1,100,size=(len(df)))\n",
    "df1"
   ]
  },
  {
   "cell_type": "code",
   "execution_count": null,
   "id": "76f70cc1",
   "metadata": {},
   "outputs": [],
   "source": [
    "import numpy as np\n",
    "import pandas as pd\n",
    "from datetime import datetime\n",
    "time = pd.date_range(start ='10/1/2022', end ='11/1/2022',freq ='Min')\n",
    "df = pd.DataFrame(time, columns=['DateTime'])\n",
    "df['DATA'] = np.random.randint(0,100,size=(len(time)))\n",
    "print(df)\n",
    "df.head()\n",
    "#df.head(20)"
   ]
  },
  {
   "cell_type": "code",
   "execution_count": null,
   "id": "27d87fbe",
   "metadata": {},
   "outputs": [],
   "source": [
    "import numpy as np\n",
    "a=pd.Series([\"cat\",\"Dog\",np.nan,\"lion\"])\n",
    "a"
   ]
  },
  {
   "cell_type": "code",
   "execution_count": null,
   "id": "fdb9363b",
   "metadata": {},
   "outputs": [],
   "source": [
    "a.map({\"cat\":\"citten\",\"Dog\":\"puppy\"})"
   ]
  },
  {
   "cell_type": "code",
   "execution_count": null,
   "id": "feaae3c3",
   "metadata": {},
   "outputs": [],
   "source": [
    "a=pd.Series([\"cat\",\"Dog\",np.nan,\"cow\"])\n",
    "a"
   ]
  },
  {
   "cell_type": "code",
   "execution_count": null,
   "id": "48d55c9e",
   "metadata": {},
   "outputs": [],
   "source": [
    "a.map({\"cat\":\"kitten\",\"Dog\":\"Puppy\"})"
   ]
  },
  {
   "cell_type": "code",
   "execution_count": null,
   "id": "c6b729db",
   "metadata": {},
   "outputs": [],
   "source": [
    "a.map({\"cat\":\"kitten\",\"Dog\":\"Puppy\",\"cow\":\"cub\"})"
   ]
  },
  {
   "cell_type": "code",
   "execution_count": null,
   "id": "9ce3d853",
   "metadata": {},
   "outputs": [],
   "source": [
    "a.map(\"I Am A {}\".format)"
   ]
  },
  {
   "cell_type": "code",
   "execution_count": null,
   "id": "9b10af38",
   "metadata": {},
   "outputs": [],
   "source": [
    "a.map(\"I Am A {}\".format ,na_action=\"ignore\")"
   ]
  },
  {
   "cell_type": "code",
   "execution_count": null,
   "id": "f5cdec5a",
   "metadata": {},
   "outputs": [],
   "source": [
    "def addition(a):\n",
    "    return a+4\n",
    "num=(2,5,48,3)\n",
    "res=map(addition,num)\n",
    "print(list(res))"
   ]
  },
  {
   "cell_type": "code",
   "execution_count": null,
   "id": "7148c929",
   "metadata": {},
   "outputs": [],
   "source": [
    "def addition(a):\n",
    "    return a+4\n",
    "num=(2,5,48,3)\n",
    "res=map(addition,num)\n",
    "for i in res:\n",
    "    print(i)\n",
    "print(type(res))"
   ]
  },
  {
   "cell_type": "code",
   "execution_count": null,
   "id": "6eeb04ab",
   "metadata": {},
   "outputs": [],
   "source": [
    "def squ(n):\n",
    "    return n*n\n",
    "num=(2,5,7)\n",
    "res=map(squ,num)\n",
    "print(list(res))\n",
    "for i in res:\n",
    "    print(i)"
   ]
  },
  {
   "cell_type": "code",
   "execution_count": null,
   "id": "c4e681c8",
   "metadata": {},
   "outputs": [],
   "source": [
    "a=[1,4,6,5,7,8,9,5,7]\n",
    "result=filter(lambda a1: if a1%2 != 0,a)"
   ]
  },
  {
   "cell_type": "code",
   "execution_count": null,
   "id": "8effafc8",
   "metadata": {},
   "outputs": [],
   "source": [
    "import numpy as np\n",
    "import pandas as pd\n",
    "import seaborn as sns\n",
    "a = sns.load_dataset('tips')\n",
    "a"
   ]
  },
  {
   "cell_type": "code",
   "execution_count": null,
   "id": "dbc40104",
   "metadata": {},
   "outputs": [],
   "source": [
    "sns.scatterplot(x='total_bill',y='tip',data=a)"
   ]
  },
  {
   "cell_type": "code",
   "execution_count": null,
   "id": "709e6341",
   "metadata": {},
   "outputs": [],
   "source": [
    "sns.scatterplot(x=\"total_bill\",y=\"tip\",data=a,hue=\"sex\")"
   ]
  },
  {
   "cell_type": "code",
   "execution_count": null,
   "id": "f6097b89",
   "metadata": {},
   "outputs": [],
   "source": [
    "sns.scatterplot(x=\"total_bill\",y=\"tip\",data=a,hue=\"sex\",size=\"size\")"
   ]
  },
  {
   "cell_type": "code",
   "execution_count": null,
   "id": "a7bed78d",
   "metadata": {},
   "outputs": [],
   "source": [
    "sns.scatterplot(x=\"total_bill\",y=\"tip\",data=a,hue=\"sex\",style=\"smoker\",size=\"size\")"
   ]
  },
  {
   "cell_type": "code",
   "execution_count": null,
   "id": "e382e5bf",
   "metadata": {},
   "outputs": [],
   "source": [
    "import matplotlib.pyplot as plt\n",
    "ab=pd.read_csv(\"titanic.csv\")\n",
    "s=ab.groupby(\"Pclass\").mean()[\"Survived\"]*100\n",
    "a.plot(kind='bar')"
   ]
  },
  {
   "cell_type": "code",
   "execution_count": null,
   "id": "a227a3f7",
   "metadata": {},
   "outputs": [],
   "source": []
  }
 ],
 "metadata": {
  "kernelspec": {
   "display_name": "Python 3 (ipykernel)",
   "language": "python",
   "name": "python3"
  },
  "language_info": {
   "codemirror_mode": {
    "name": "ipython",
    "version": 3
   },
   "file_extension": ".py",
   "mimetype": "text/x-python",
   "name": "python",
   "nbconvert_exporter": "python",
   "pygments_lexer": "ipython3",
   "version": "3.9.12"
  }
 },
 "nbformat": 4,
 "nbformat_minor": 5
}
