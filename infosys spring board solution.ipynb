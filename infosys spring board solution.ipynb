{
 "cells": [
  {
   "cell_type": "markdown",
   "id": "444aa72f",
   "metadata": {},
   "source": [
    "# Numpy accessing the element using 1D Array"
   ]
  },
  {
   "cell_type": "code",
   "execution_count": 8,
   "id": "6980ae53",
   "metadata": {},
   "outputs": [
    {
     "data": {
      "text/plain": [
       "array([2, 4, 3, 5, 6])"
      ]
     },
     "execution_count": 8,
     "metadata": {},
     "output_type": "execute_result"
    }
   ],
   "source": [
    "import numpy as np\n",
    "a=np.array([2,4,3,5,6])\n",
    "a"
   ]
  },
  {
   "cell_type": "code",
   "execution_count": 22,
   "id": "737e1c7d",
   "metadata": {},
   "outputs": [
    {
     "data": {
      "text/plain": [
       "2"
      ]
     },
     "execution_count": 22,
     "metadata": {},
     "output_type": "execute_result"
    }
   ],
   "source": [
    "a[0]"
   ]
  },
  {
   "cell_type": "code",
   "execution_count": 9,
   "id": "16608532",
   "metadata": {},
   "outputs": [
    {
     "data": {
      "text/plain": [
       "4"
      ]
     },
     "execution_count": 9,
     "metadata": {},
     "output_type": "execute_result"
    }
   ],
   "source": [
    "a[1]"
   ]
  },
  {
   "cell_type": "code",
   "execution_count": 10,
   "id": "dd331aef",
   "metadata": {},
   "outputs": [
    {
     "data": {
      "text/plain": [
       "5"
      ]
     },
     "execution_count": 10,
     "metadata": {},
     "output_type": "execute_result"
    }
   ],
   "source": [
    "a[3]"
   ]
  },
  {
   "cell_type": "markdown",
   "id": "be62ae2a",
   "metadata": {},
   "source": [
    "# slicing the 1D Array"
   ]
  },
  {
   "cell_type": "code",
   "execution_count": 19,
   "id": "89d281f5",
   "metadata": {},
   "outputs": [
    {
     "data": {
      "text/plain": [
       "array([2, 4, 3, 5, 6])"
      ]
     },
     "execution_count": 19,
     "metadata": {},
     "output_type": "execute_result"
    }
   ],
   "source": [
    "import numpy as np\n",
    "a=np.array([2,4,3,5,6])\n",
    "a"
   ]
  },
  {
   "cell_type": "code",
   "execution_count": 20,
   "id": "6695c7e4",
   "metadata": {},
   "outputs": [
    {
     "data": {
      "text/plain": [
       "array([2, 4, 3])"
      ]
     },
     "execution_count": 20,
     "metadata": {},
     "output_type": "execute_result"
    }
   ],
   "source": [
    "a[0:3]"
   ]
  },
  {
   "cell_type": "markdown",
   "id": "d93a323b",
   "metadata": {},
   "source": [
    "# Accessing the 2D Array"
   ]
  },
  {
   "cell_type": "code",
   "execution_count": 21,
   "id": "6321c64c",
   "metadata": {},
   "outputs": [
    {
     "data": {
      "text/plain": [
       "array([[2, 4, 3, 5, 6],\n",
       "       [2, 5, 4, 6, 5]])"
      ]
     },
     "execution_count": 21,
     "metadata": {},
     "output_type": "execute_result"
    }
   ],
   "source": [
    "import numpy as np\n",
    "ab=np.array([[2,4,3,5,6],[2,5,4,6,5]])\n",
    "ab"
   ]
  },
  {
   "cell_type": "code",
   "execution_count": 23,
   "id": "20c3f531",
   "metadata": {},
   "outputs": [
    {
     "data": {
      "text/plain": [
       "array([2, 5, 4, 6, 5])"
      ]
     },
     "execution_count": 23,
     "metadata": {},
     "output_type": "execute_result"
    }
   ],
   "source": [
    "ab[1]"
   ]
  },
  {
   "cell_type": "code",
   "execution_count": 26,
   "id": "2b54fe9e",
   "metadata": {},
   "outputs": [
    {
     "data": {
      "text/plain": [
       "4"
      ]
     },
     "execution_count": 26,
     "metadata": {},
     "output_type": "execute_result"
    }
   ],
   "source": [
    "ab[0,1]"
   ]
  },
  {
   "cell_type": "code",
   "execution_count": 27,
   "id": "75326cf2",
   "metadata": {},
   "outputs": [
    {
     "data": {
      "text/plain": [
       "6"
      ]
     },
     "execution_count": 27,
     "metadata": {},
     "output_type": "execute_result"
    }
   ],
   "source": [
    "ab[0,-1]"
   ]
  },
  {
   "cell_type": "code",
   "execution_count": 29,
   "id": "af33df5e",
   "metadata": {},
   "outputs": [
    {
     "data": {
      "text/plain": [
       "4"
      ]
     },
     "execution_count": 29,
     "metadata": {},
     "output_type": "execute_result"
    }
   ],
   "source": [
    "ab[-1,-3]"
   ]
  },
  {
   "cell_type": "code",
   "execution_count": 30,
   "id": "12f8521b",
   "metadata": {},
   "outputs": [
    {
     "data": {
      "text/plain": [
       "2"
      ]
     },
     "execution_count": 30,
     "metadata": {},
     "output_type": "execute_result"
    }
   ],
   "source": [
    "ab[-2,-5]"
   ]
  },
  {
   "cell_type": "markdown",
   "id": "1fe5f298",
   "metadata": {},
   "source": [
    "# SLICING THE 2D ARRAY"
   ]
  },
  {
   "cell_type": "code",
   "execution_count": 12,
   "id": "8c41b617",
   "metadata": {},
   "outputs": [
    {
     "data": {
      "text/plain": [
       "array([[2, 4, 3, 5, 6],\n",
       "       [2, 5, 4, 6, 5]])"
      ]
     },
     "execution_count": 12,
     "metadata": {},
     "output_type": "execute_result"
    }
   ],
   "source": [
    "import numpy as np\n",
    "ab=np.array([[2,4,3,5,6],[2,5,4,6,5]])\n",
    "ab"
   ]
  },
  {
   "cell_type": "code",
   "execution_count": 31,
   "id": "e776ef1f",
   "metadata": {},
   "outputs": [
    {
     "data": {
      "text/plain": [
       "array([[2, 4, 3, 5, 6]])"
      ]
     },
     "execution_count": 31,
     "metadata": {},
     "output_type": "execute_result"
    }
   ],
   "source": [
    "ab[:1]"
   ]
  },
  {
   "cell_type": "code",
   "execution_count": 32,
   "id": "8776df7b",
   "metadata": {},
   "outputs": [
    {
     "data": {
      "text/plain": [
       "array([[3, 5, 6],\n",
       "       [4, 6, 5]])"
      ]
     },
     "execution_count": 32,
     "metadata": {},
     "output_type": "execute_result"
    }
   ],
   "source": [
    "ab[0:2,2:5]"
   ]
  },
  {
   "cell_type": "code",
   "execution_count": 33,
   "id": "152ab364",
   "metadata": {},
   "outputs": [
    {
     "data": {
      "text/plain": [
       "array([[2, 4, 3],\n",
       "       [2, 5, 4]])"
      ]
     },
     "execution_count": 33,
     "metadata": {},
     "output_type": "execute_result"
    }
   ],
   "source": [
    "ab[0:3,0:3]"
   ]
  },
  {
   "cell_type": "code",
   "execution_count": 13,
   "id": "0bb174bc",
   "metadata": {},
   "outputs": [
    {
     "data": {
      "text/plain": [
       "array([[2, 4, 3, 5, 6],\n",
       "       [2, 5, 4, 6, 5]])"
      ]
     },
     "execution_count": 13,
     "metadata": {},
     "output_type": "execute_result"
    }
   ],
   "source": [
    "ab[0:2]"
   ]
  },
  {
   "cell_type": "code",
   "execution_count": 14,
   "id": "c9ee768d",
   "metadata": {},
   "outputs": [
    {
     "data": {
      "text/plain": [
       "array([[4, 6, 5]])"
      ]
     },
     "execution_count": 14,
     "metadata": {},
     "output_type": "execute_result"
    }
   ],
   "source": [
    "ab[1:2,2:5]"
   ]
  },
  {
   "cell_type": "code",
   "execution_count": 16,
   "id": "7925bcd0",
   "metadata": {},
   "outputs": [
    {
     "data": {
      "text/plain": [
       "array([2, 5, 4])"
      ]
     },
     "execution_count": 16,
     "metadata": {},
     "output_type": "execute_result"
    }
   ],
   "source": [
    "ab[1,:3]"
   ]
  },
  {
   "cell_type": "code",
   "execution_count": 17,
   "id": "3724d823",
   "metadata": {},
   "outputs": [
    {
     "data": {
      "text/plain": [
       "array([6, 5])"
      ]
     },
     "execution_count": 17,
     "metadata": {},
     "output_type": "execute_result"
    }
   ],
   "source": [
    "ab[:,-1]"
   ]
  },
  {
   "cell_type": "code",
   "execution_count": 18,
   "id": "7f53d655",
   "metadata": {},
   "outputs": [
    {
     "data": {
      "text/plain": [
       "array([[4, 6, 5]])"
      ]
     },
     "execution_count": 18,
     "metadata": {},
     "output_type": "execute_result"
    }
   ],
   "source": [
    "ab[1:3,2:5]"
   ]
  },
  {
   "cell_type": "markdown",
   "id": "7c1cdad4",
   "metadata": {},
   "source": [
    "# find mean and median"
   ]
  },
  {
   "cell_type": "code",
   "execution_count": 40,
   "id": "5a9e00a1",
   "metadata": {},
   "outputs": [
    {
     "name": "stdout",
     "output_type": "stream",
     "text": [
      "[150 290 450 234 345]\n",
      "293.8\n",
      "290.0\n"
     ]
    }
   ],
   "source": [
    "a=[150,290,450,234,345]\n",
    "b=np.array(a)\n",
    "ans=b.mean()\n",
    "ans1=np.median(b)\n",
    "print(b)\n",
    "print(ans)\n",
    "print(ans1)"
   ]
  },
  {
   "cell_type": "markdown",
   "id": "d6b3b44c",
   "metadata": {},
   "source": [
    "# Min Max"
   ]
  },
  {
   "cell_type": "code",
   "execution_count": 41,
   "id": "93b5878a",
   "metadata": {},
   "outputs": [
    {
     "name": "stdout",
     "output_type": "stream",
     "text": [
      "[150 290 450 234 345]\n",
      "150\n",
      "450\n"
     ]
    }
   ],
   "source": [
    "a=[150,290,450,234,345]\n",
    "b=np.array(a)\n",
    "ans=b.min()\n",
    "ans1=np.max(b)\n",
    "print(b)\n",
    "print(ans)\n",
    "print(ans1)"
   ]
  },
  {
   "cell_type": "markdown",
   "id": "4ec7fe4e",
   "metadata": {},
   "source": [
    "# Argmin and Argmax"
   ]
  },
  {
   "cell_type": "code",
   "execution_count": 42,
   "id": "97072cb5",
   "metadata": {},
   "outputs": [
    {
     "name": "stdout",
     "output_type": "stream",
     "text": [
      "[150 290 450 234 345]\n",
      "0\n",
      "2\n"
     ]
    }
   ],
   "source": [
    "a=[150,290,450,234,345]\n",
    "b=np.array(a)\n",
    "ans=b.argmin()\n",
    "ans1=np.argmax(b)\n",
    "print(b)\n",
    "print(ans)\n",
    "print(ans1)"
   ]
  },
  {
   "cell_type": "markdown",
   "id": "1cad6077",
   "metadata": {},
   "source": [
    "# Where function"
   ]
  },
  {
   "cell_type": "code",
   "execution_count": 47,
   "id": "4d1eb16d",
   "metadata": {},
   "outputs": [
    {
     "name": "stdout",
     "output_type": "stream",
     "text": [
      "[130 150 160 120 190]\n",
      "[160 190]\n"
     ]
    }
   ],
   "source": [
    "a=np.array([130,150,160,120,190])\n",
    "print(a)\n",
    "ans=np.where(a>150)\n",
    "print(a[ans])"
   ]
  },
  {
   "cell_type": "markdown",
   "id": "47a2a6bd",
   "metadata": {},
   "source": [
    "# Filter function"
   ]
  },
  {
   "cell_type": "code",
   "execution_count": null,
   "id": "218a3390",
   "metadata": {},
   "outputs": [],
   "source": [
    "a=np.array([120,140,150,190,180])\n",
    "fil=a>150\n",
    "print(a[fil])\n"
   ]
  },
  {
   "cell_type": "code",
   "execution_count": null,
   "id": "db5138cc",
   "metadata": {},
   "outputs": [],
   "source": []
  }
 ],
 "metadata": {
  "kernelspec": {
   "display_name": "Python 3 (ipykernel)",
   "language": "python",
   "name": "python3"
  },
  "language_info": {
   "codemirror_mode": {
    "name": "ipython",
    "version": 3
   },
   "file_extension": ".py",
   "mimetype": "text/x-python",
   "name": "python",
   "nbconvert_exporter": "python",
   "pygments_lexer": "ipython3",
   "version": "3.9.12"
  }
 },
 "nbformat": 4,
 "nbformat_minor": 5
}
