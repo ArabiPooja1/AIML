{
 "cells": [
  {
   "cell_type": "code",
   "execution_count": 16,
   "id": "832f5e98",
   "metadata": {},
   "outputs": [
    {
     "name": "stdout",
     "output_type": "stream",
     "text": [
      "sum of 15 and 14 is 29\n"
     ]
    }
   ],
   "source": [
    "num1=15\n",
    "num2=14\n",
    "sum=num1+num2\n",
    "print(\"sum of {0} and {1} is {2}\" .format(num1, num2, sum))\n"
   ]
  },
  {
   "cell_type": "code",
   "execution_count": 29,
   "id": "0a3590fb",
   "metadata": {},
   "outputs": [
    {
     "name": "stdout",
     "output_type": "stream",
     "text": [
      "the ASCII value of 'g' is  103\n"
     ]
    }
   ],
   "source": [
    "c='g'\n",
    "print(\"the ASCII value of '\" + c + \"' is \",ord(c))"
   ]
  },
  {
   "cell_type": "code",
   "execution_count": 36,
   "id": "7033fb09",
   "metadata": {},
   "outputs": [
    {
     "name": "stdout",
     "output_type": "stream",
     "text": [
      "Area is 78.550000\n"
     ]
    }
   ],
   "source": [
    "def findarea(r):\n",
    "    PI=3.142\n",
    "    return PI *(r * r)\n",
    "print(\"Area is %.6f\"%findarea(5))\n"
   ]
  },
  {
   "cell_type": "code",
   "execution_count": 37,
   "id": "e27959e9",
   "metadata": {},
   "outputs": [
    {
     "name": "stdout",
     "output_type": "stream",
     "text": [
      "Largest in given array 9808\n"
     ]
    }
   ],
   "source": [
    "def larger(arr,n):\n",
    "    max=arr[0]\n",
    "    for i in range(1,n):\n",
    "        if arr[i]>max:\n",
    "            max=arr[i]\n",
    "    return max\n",
    "arr=[10,324,45,90,9808]\n",
    "n=len(arr)\n",
    "Ans=larger(arr,n)\n",
    "print(\"Largest in given array\",Ans)"
   ]
  },
  {
   "cell_type": "code",
   "execution_count": 38,
   "id": "be7d52e0",
   "metadata": {},
   "outputs": [
    {
     "name": "stdout",
     "output_type": "stream",
     "text": [
      "sum of the array is 70\n"
     ]
    }
   ],
   "source": [
    "def sum(arr):\n",
    "    sum=0\n",
    "    for i in arr:\n",
    "        sum=sum+i\n",
    "    return(sum)\n",
    "arr=[]\n",
    "arr=[20,40,5,2,3]\n",
    "n=len(arr)\n",
    "ans=sum(arr)\n",
    "print(\"sum of the array is\",ans)"
   ]
  },
  {
   "cell_type": "code",
   "execution_count": 39,
   "id": "d384e650",
   "metadata": {},
   "outputs": [
    {
     "name": "stdout",
     "output_type": "stream",
     "text": [
      "34\n"
     ]
    }
   ],
   "source": [
    "def fibonacci(n):\n",
    "    if n<0:\n",
    "        print(\"INcorrect input\")\n",
    "    elif n==0:\n",
    "        return 0\n",
    "    elif n==1 or n==2:\n",
    "        return 1\n",
    "    else:\n",
    "        return fibonacci(n-1)+ fibonacci(n-2)\n",
    "print(fibonacci(9))"
   ]
  },
  {
   "cell_type": "code",
   "execution_count": 43,
   "id": "43f4eaa1",
   "metadata": {},
   "outputs": [
    {
     "name": "stdout",
     "output_type": "stream",
     "text": [
      "2 3 5 7 11 13 17 19 23 29 31 37 41 43 47 53 59 61 67 71 73 79 83 89 97 "
     ]
    }
   ],
   "source": [
    "def isprime(n):\n",
    "    if n==1 or n==0:\n",
    "        return False\n",
    "    for i in range(2,n):\n",
    "        if (n%i==0):\n",
    "            return False\n",
    "    return True\n",
    "N=100\n",
    "for i in range(1,N+1):\n",
    "    if(isprime(i)):\n",
    "        print(i,end=\" \")"
   ]
  },
  {
   "cell_type": "code",
   "execution_count": null,
   "id": "7692fc99",
   "metadata": {},
   "outputs": [],
   "source": []
  }
 ],
 "metadata": {
  "kernelspec": {
   "display_name": "Python 3 (ipykernel)",
   "language": "python",
   "name": "python3"
  },
  "language_info": {
   "codemirror_mode": {
    "name": "ipython",
    "version": 3
   },
   "file_extension": ".py",
   "mimetype": "text/x-python",
   "name": "python",
   "nbconvert_exporter": "python",
   "pygments_lexer": "ipython3",
   "version": "3.9.12"
  }
 },
 "nbformat": 4,
 "nbformat_minor": 5
}
