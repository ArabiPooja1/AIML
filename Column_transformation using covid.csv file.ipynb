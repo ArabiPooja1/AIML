{
 "cells": [
  {
   "cell_type": "code",
   "execution_count": 1,
   "id": "94e02b0d",
   "metadata": {},
   "outputs": [],
   "source": [
    "import numpy as np\n",
    "import pandas as pd"
   ]
  },
  {
   "cell_type": "code",
   "execution_count": 2,
   "id": "b9407dfc",
   "metadata": {},
   "outputs": [],
   "source": [
    "a=pd.read_csv(\"dataset/covid.csv\")"
   ]
  },
  {
   "cell_type": "code",
   "execution_count": 3,
   "id": "c9b70b6f",
   "metadata": {},
   "outputs": [
    {
     "data": {
      "text/html": [
       "<div>\n",
       "<style scoped>\n",
       "    .dataframe tbody tr th:only-of-type {\n",
       "        vertical-align: middle;\n",
       "    }\n",
       "\n",
       "    .dataframe tbody tr th {\n",
       "        vertical-align: top;\n",
       "    }\n",
       "\n",
       "    .dataframe thead th {\n",
       "        text-align: right;\n",
       "    }\n",
       "</style>\n",
       "<table border=\"1\" class=\"dataframe\">\n",
       "  <thead>\n",
       "    <tr style=\"text-align: right;\">\n",
       "      <th></th>\n",
       "      <th>age</th>\n",
       "      <th>gender</th>\n",
       "      <th>fever</th>\n",
       "      <th>cough</th>\n",
       "      <th>city</th>\n",
       "      <th>has_covid</th>\n",
       "    </tr>\n",
       "  </thead>\n",
       "  <tbody>\n",
       "    <tr>\n",
       "      <th>0</th>\n",
       "      <td>60</td>\n",
       "      <td>Male</td>\n",
       "      <td>103.0</td>\n",
       "      <td>Mild</td>\n",
       "      <td>Kolkata</td>\n",
       "      <td>No</td>\n",
       "    </tr>\n",
       "    <tr>\n",
       "      <th>1</th>\n",
       "      <td>27</td>\n",
       "      <td>Male</td>\n",
       "      <td>100.0</td>\n",
       "      <td>Mild</td>\n",
       "      <td>Delhi</td>\n",
       "      <td>Yes</td>\n",
       "    </tr>\n",
       "    <tr>\n",
       "      <th>2</th>\n",
       "      <td>42</td>\n",
       "      <td>Male</td>\n",
       "      <td>101.0</td>\n",
       "      <td>Mild</td>\n",
       "      <td>Delhi</td>\n",
       "      <td>No</td>\n",
       "    </tr>\n",
       "    <tr>\n",
       "      <th>3</th>\n",
       "      <td>31</td>\n",
       "      <td>Female</td>\n",
       "      <td>98.0</td>\n",
       "      <td>Mild</td>\n",
       "      <td>Kolkata</td>\n",
       "      <td>No</td>\n",
       "    </tr>\n",
       "    <tr>\n",
       "      <th>4</th>\n",
       "      <td>65</td>\n",
       "      <td>Female</td>\n",
       "      <td>101.0</td>\n",
       "      <td>Mild</td>\n",
       "      <td>Mumbai</td>\n",
       "      <td>No</td>\n",
       "    </tr>\n",
       "  </tbody>\n",
       "</table>\n",
       "</div>"
      ],
      "text/plain": [
       "   age  gender  fever cough     city has_covid\n",
       "0   60    Male  103.0  Mild  Kolkata        No\n",
       "1   27    Male  100.0  Mild    Delhi       Yes\n",
       "2   42    Male  101.0  Mild    Delhi        No\n",
       "3   31  Female   98.0  Mild  Kolkata        No\n",
       "4   65  Female  101.0  Mild   Mumbai        No"
      ]
     },
     "execution_count": 3,
     "metadata": {},
     "output_type": "execute_result"
    }
   ],
   "source": [
    "a.head()"
   ]
  },
  {
   "cell_type": "code",
   "execution_count": 4,
   "id": "34a10fb6",
   "metadata": {},
   "outputs": [
    {
     "data": {
      "text/plain": [
       "age           0\n",
       "gender        0\n",
       "fever        10\n",
       "cough         0\n",
       "city          0\n",
       "has_covid     0\n",
       "dtype: int64"
      ]
     },
     "execution_count": 4,
     "metadata": {},
     "output_type": "execute_result"
    }
   ],
   "source": [
    "a.isnull().sum()"
   ]
  },
  {
   "cell_type": "code",
   "execution_count": 5,
   "id": "86237b8a",
   "metadata": {},
   "outputs": [
    {
     "data": {
      "text/html": [
       "<div>\n",
       "<style scoped>\n",
       "    .dataframe tbody tr th:only-of-type {\n",
       "        vertical-align: middle;\n",
       "    }\n",
       "\n",
       "    .dataframe tbody tr th {\n",
       "        vertical-align: top;\n",
       "    }\n",
       "\n",
       "    .dataframe thead th {\n",
       "        text-align: right;\n",
       "    }\n",
       "</style>\n",
       "<table border=\"1\" class=\"dataframe\">\n",
       "  <thead>\n",
       "    <tr style=\"text-align: right;\">\n",
       "      <th></th>\n",
       "      <th>age</th>\n",
       "      <th>fever</th>\n",
       "    </tr>\n",
       "  </thead>\n",
       "  <tbody>\n",
       "    <tr>\n",
       "      <th>count</th>\n",
       "      <td>100.000000</td>\n",
       "      <td>90.000000</td>\n",
       "    </tr>\n",
       "    <tr>\n",
       "      <th>mean</th>\n",
       "      <td>44.220000</td>\n",
       "      <td>100.844444</td>\n",
       "    </tr>\n",
       "    <tr>\n",
       "      <th>std</th>\n",
       "      <td>24.878931</td>\n",
       "      <td>2.054926</td>\n",
       "    </tr>\n",
       "    <tr>\n",
       "      <th>min</th>\n",
       "      <td>5.000000</td>\n",
       "      <td>98.000000</td>\n",
       "    </tr>\n",
       "    <tr>\n",
       "      <th>25%</th>\n",
       "      <td>20.000000</td>\n",
       "      <td>99.000000</td>\n",
       "    </tr>\n",
       "    <tr>\n",
       "      <th>50%</th>\n",
       "      <td>45.000000</td>\n",
       "      <td>101.000000</td>\n",
       "    </tr>\n",
       "    <tr>\n",
       "      <th>75%</th>\n",
       "      <td>66.500000</td>\n",
       "      <td>102.750000</td>\n",
       "    </tr>\n",
       "    <tr>\n",
       "      <th>max</th>\n",
       "      <td>84.000000</td>\n",
       "      <td>104.000000</td>\n",
       "    </tr>\n",
       "  </tbody>\n",
       "</table>\n",
       "</div>"
      ],
      "text/plain": [
       "              age       fever\n",
       "count  100.000000   90.000000\n",
       "mean    44.220000  100.844444\n",
       "std     24.878931    2.054926\n",
       "min      5.000000   98.000000\n",
       "25%     20.000000   99.000000\n",
       "50%     45.000000  101.000000\n",
       "75%     66.500000  102.750000\n",
       "max     84.000000  104.000000"
      ]
     },
     "execution_count": 5,
     "metadata": {},
     "output_type": "execute_result"
    }
   ],
   "source": [
    "a.describe()"
   ]
  },
  {
   "cell_type": "code",
   "execution_count": 6,
   "id": "f323da62",
   "metadata": {},
   "outputs": [
    {
     "data": {
      "text/plain": [
       "(100, 6)"
      ]
     },
     "execution_count": 6,
     "metadata": {},
     "output_type": "execute_result"
    }
   ],
   "source": [
    "a.shape"
   ]
  },
  {
   "cell_type": "code",
   "execution_count": 7,
   "id": "376e8db0",
   "metadata": {},
   "outputs": [
    {
     "data": {
      "text/plain": [
       "array(['Mild', 'Strong'], dtype=object)"
      ]
     },
     "execution_count": 7,
     "metadata": {},
     "output_type": "execute_result"
    }
   ],
   "source": [
    "a['cough'].unique()"
   ]
  },
  {
   "cell_type": "markdown",
   "id": "e85d385a",
   "metadata": {},
   "source": [
    "# Aam Zindagi"
   ]
  },
  {
   "cell_type": "code",
   "execution_count": 8,
   "id": "a8575b85",
   "metadata": {},
   "outputs": [],
   "source": [
    "from sklearn.impute import SimpleImputer"
   ]
  },
  {
   "cell_type": "code",
   "execution_count": null,
   "id": "ca3a1b44",
   "metadata": {},
   "outputs": [],
   "source": []
  },
  {
   "cell_type": "markdown",
   "id": "25ab8636",
   "metadata": {},
   "source": [
    "# Mentos Zindagi"
   ]
  },
  {
   "cell_type": "markdown",
   "id": "cd3e0d05",
   "metadata": {},
   "source": [
    "# WIHOUT USING SKTLEARN"
   ]
  },
  {
   "cell_type": "code",
   "execution_count": 9,
   "id": "8b92b5c2",
   "metadata": {},
   "outputs": [],
   "source": [
    "from sklearn.compose import ColumnTransformer\n",
    "from sklearn.preprocessing import OneHotEncoder\n",
    "from sklearn.preprocessing import OrdinalEncoder\n",
    "from sklearn.impute import SimpleImputer"
   ]
  },
  {
   "cell_type": "code",
   "execution_count": 10,
   "id": "b1b31f40",
   "metadata": {},
   "outputs": [],
   "source": [
    "tr=ColumnTransformer(\n",
    "        transformers=[\n",
    "            ('tr1',OrdinalEncoder(categories=[['Mild', 'Strong']]),['cough']),\n",
    "            ('tr2',OneHotEncoder(drop='first',sparse=False),['gender','city']),\n",
    "            ('tr3',SimpleImputer(),['fever'])\n",
    "        ],remainder='passthrough')"
   ]
  },
  {
   "cell_type": "code",
   "execution_count": 11,
   "id": "246489c1",
   "metadata": {},
   "outputs": [
    {
     "data": {
      "text/plain": [
       "array([[0.0, 1.0, 0.0, 1.0, 0.0, 103.0, 60, 'No'],\n",
       "       [0.0, 1.0, 1.0, 0.0, 0.0, 100.0, 27, 'Yes'],\n",
       "       [0.0, 1.0, 1.0, 0.0, 0.0, 101.0, 42, 'No'],\n",
       "       [0.0, 0.0, 0.0, 1.0, 0.0, 98.0, 31, 'No'],\n",
       "       [0.0, 0.0, 0.0, 0.0, 1.0, 101.0, 65, 'No'],\n",
       "       [0.0, 0.0, 0.0, 0.0, 0.0, 100.84444444444445, 84, 'Yes'],\n",
       "       [1.0, 1.0, 0.0, 0.0, 0.0, 101.0, 14, 'No'],\n",
       "       [1.0, 0.0, 0.0, 0.0, 1.0, 100.84444444444445, 20, 'Yes'],\n",
       "       [1.0, 0.0, 0.0, 0.0, 0.0, 100.0, 19, 'No'],\n",
       "       [0.0, 0.0, 1.0, 0.0, 0.0, 101.0, 64, 'No'],\n",
       "       [0.0, 0.0, 1.0, 0.0, 0.0, 100.84444444444445, 75, 'No'],\n",
       "       [0.0, 0.0, 0.0, 0.0, 1.0, 98.0, 65, 'Yes'],\n",
       "       [1.0, 0.0, 0.0, 1.0, 0.0, 99.0, 25, 'No'],\n",
       "       [0.0, 1.0, 0.0, 0.0, 0.0, 102.0, 64, 'Yes'],\n",
       "       [0.0, 1.0, 0.0, 0.0, 0.0, 104.0, 51, 'No'],\n",
       "       [1.0, 1.0, 0.0, 1.0, 0.0, 103.0, 70, 'Yes'],\n",
       "       [0.0, 0.0, 0.0, 1.0, 0.0, 103.0, 69, 'Yes'],\n",
       "       [1.0, 0.0, 1.0, 0.0, 0.0, 98.0, 40, 'No'],\n",
       "       [0.0, 0.0, 0.0, 0.0, 0.0, 98.0, 64, 'Yes'],\n",
       "       [1.0, 0.0, 0.0, 0.0, 0.0, 100.84444444444445, 42, 'Yes'],\n",
       "       [1.0, 1.0, 0.0, 0.0, 0.0, 98.0, 12, 'No'],\n",
       "       [0.0, 1.0, 0.0, 0.0, 0.0, 98.0, 73, 'Yes'],\n",
       "       [1.0, 0.0, 0.0, 1.0, 0.0, 98.0, 71, 'Yes'],\n",
       "       [0.0, 0.0, 1.0, 0.0, 0.0, 98.0, 80, 'Yes'],\n",
       "       [1.0, 0.0, 0.0, 1.0, 0.0, 100.0, 13, 'No'],\n",
       "       [0.0, 1.0, 0.0, 0.0, 1.0, 100.84444444444445, 23, 'No'],\n",
       "       [0.0, 0.0, 0.0, 1.0, 0.0, 100.0, 19, 'Yes'],\n",
       "       [1.0, 0.0, 1.0, 0.0, 0.0, 102.0, 33, 'No'],\n",
       "       [0.0, 1.0, 0.0, 1.0, 0.0, 104.0, 16, 'No'],\n",
       "       [1.0, 0.0, 0.0, 0.0, 1.0, 100.84444444444445, 34, 'Yes'],\n",
       "       [0.0, 1.0, 1.0, 0.0, 0.0, 101.0, 15, 'Yes'],\n",
       "       [0.0, 1.0, 0.0, 1.0, 0.0, 103.0, 83, 'No'],\n",
       "       [1.0, 0.0, 1.0, 0.0, 0.0, 101.0, 34, 'Yes'],\n",
       "       [0.0, 0.0, 0.0, 1.0, 0.0, 98.0, 26, 'No'],\n",
       "       [0.0, 1.0, 0.0, 0.0, 1.0, 102.0, 74, 'Yes'],\n",
       "       [1.0, 0.0, 0.0, 0.0, 0.0, 102.0, 82, 'No'],\n",
       "       [0.0, 0.0, 0.0, 0.0, 0.0, 101.0, 38, 'No'],\n",
       "       [0.0, 1.0, 0.0, 1.0, 0.0, 100.0, 55, 'No'],\n",
       "       [0.0, 0.0, 1.0, 0.0, 0.0, 101.0, 49, 'Yes'],\n",
       "       [0.0, 0.0, 0.0, 1.0, 0.0, 103.0, 50, 'No'],\n",
       "       [0.0, 0.0, 1.0, 0.0, 0.0, 102.0, 49, 'No'],\n",
       "       [0.0, 1.0, 0.0, 1.0, 0.0, 100.84444444444445, 82, 'Yes'],\n",
       "       [0.0, 1.0, 1.0, 0.0, 0.0, 100.0, 27, 'Yes'],\n",
       "       [0.0, 0.0, 0.0, 0.0, 0.0, 99.0, 22, 'Yes'],\n",
       "       [1.0, 1.0, 1.0, 0.0, 0.0, 102.0, 20, 'No'],\n",
       "       [0.0, 1.0, 0.0, 0.0, 0.0, 99.0, 72, 'No'],\n",
       "       [0.0, 0.0, 0.0, 0.0, 1.0, 101.0, 19, 'No'],\n",
       "       [0.0, 0.0, 0.0, 0.0, 0.0, 104.0, 18, 'No'],\n",
       "       [1.0, 1.0, 0.0, 0.0, 0.0, 99.0, 66, 'No'],\n",
       "       [0.0, 1.0, 0.0, 0.0, 1.0, 104.0, 44, 'No'],\n",
       "       [0.0, 1.0, 1.0, 0.0, 0.0, 101.0, 19, 'Yes'],\n",
       "       [1.0, 0.0, 0.0, 1.0, 0.0, 100.0, 11, 'Yes'],\n",
       "       [1.0, 0.0, 0.0, 0.0, 0.0, 100.0, 47, 'Yes'],\n",
       "       [0.0, 1.0, 1.0, 0.0, 0.0, 98.0, 83, 'Yes'],\n",
       "       [0.0, 0.0, 0.0, 0.0, 1.0, 99.0, 60, 'Yes'],\n",
       "       [0.0, 0.0, 0.0, 0.0, 1.0, 101.0, 81, 'Yes'],\n",
       "       [1.0, 1.0, 0.0, 1.0, 0.0, 100.84444444444445, 71, 'No'],\n",
       "       [1.0, 0.0, 0.0, 0.0, 0.0, 99.0, 49, 'No'],\n",
       "       [1.0, 1.0, 0.0, 0.0, 1.0, 98.0, 23, 'Yes'],\n",
       "       [0.0, 0.0, 0.0, 1.0, 0.0, 104.0, 6, 'Yes'],\n",
       "       [1.0, 0.0, 0.0, 0.0, 0.0, 102.0, 24, 'Yes'],\n",
       "       [1.0, 0.0, 0.0, 0.0, 1.0, 98.0, 81, 'No'],\n",
       "       [1.0, 0.0, 0.0, 0.0, 0.0, 104.0, 56, 'Yes'],\n",
       "       [0.0, 1.0, 0.0, 0.0, 0.0, 100.0, 10, 'No'],\n",
       "       [0.0, 1.0, 0.0, 0.0, 1.0, 104.0, 42, 'No'],\n",
       "       [0.0, 0.0, 0.0, 0.0, 0.0, 102.0, 69, 'No'],\n",
       "       [0.0, 1.0, 0.0, 1.0, 0.0, 104.0, 51, 'No'],\n",
       "       [0.0, 1.0, 0.0, 0.0, 0.0, 99.0, 65, 'No'],\n",
       "       [1.0, 0.0, 0.0, 1.0, 0.0, 104.0, 54, 'No'],\n",
       "       [0.0, 0.0, 1.0, 0.0, 0.0, 103.0, 73, 'No'],\n",
       "       [1.0, 0.0, 1.0, 0.0, 0.0, 101.0, 68, 'No'],\n",
       "       [1.0, 0.0, 1.0, 0.0, 0.0, 104.0, 75, 'No'],\n",
       "       [0.0, 0.0, 0.0, 1.0, 0.0, 101.0, 83, 'No'],\n",
       "       [1.0, 1.0, 0.0, 1.0, 0.0, 98.0, 34, 'Yes'],\n",
       "       [1.0, 0.0, 1.0, 0.0, 0.0, 104.0, 34, 'No'],\n",
       "       [0.0, 1.0, 0.0, 1.0, 0.0, 102.0, 5, 'Yes'],\n",
       "       [0.0, 1.0, 0.0, 0.0, 0.0, 100.0, 80, 'Yes'],\n",
       "       [0.0, 0.0, 0.0, 1.0, 0.0, 101.0, 8, 'No'],\n",
       "       [0.0, 1.0, 0.0, 0.0, 0.0, 100.0, 11, 'Yes'],\n",
       "       [0.0, 0.0, 0.0, 1.0, 0.0, 103.0, 48, 'Yes'],\n",
       "       [0.0, 0.0, 0.0, 0.0, 1.0, 99.0, 14, 'Yes'],\n",
       "       [0.0, 1.0, 1.0, 0.0, 0.0, 99.0, 65, 'No'],\n",
       "       [0.0, 1.0, 0.0, 1.0, 0.0, 98.0, 24, 'Yes'],\n",
       "       [0.0, 0.0, 0.0, 1.0, 0.0, 104.0, 17, 'No'],\n",
       "       [1.0, 0.0, 0.0, 0.0, 1.0, 98.0, 69, 'No'],\n",
       "       [0.0, 0.0, 0.0, 0.0, 0.0, 103.0, 16, 'Yes'],\n",
       "       [0.0, 1.0, 0.0, 0.0, 0.0, 104.0, 25, 'Yes'],\n",
       "       [1.0, 1.0, 0.0, 0.0, 0.0, 101.0, 47, 'No'],\n",
       "       [0.0, 0.0, 0.0, 1.0, 0.0, 100.0, 5, 'No'],\n",
       "       [1.0, 1.0, 0.0, 0.0, 0.0, 103.0, 46, 'No'],\n",
       "       [1.0, 0.0, 1.0, 0.0, 0.0, 99.0, 59, 'No'],\n",
       "       [0.0, 1.0, 1.0, 0.0, 0.0, 100.84444444444445, 38, 'Yes'],\n",
       "       [1.0, 0.0, 0.0, 1.0, 0.0, 102.0, 82, 'No'],\n",
       "       [0.0, 1.0, 0.0, 1.0, 0.0, 100.0, 27, 'Yes'],\n",
       "       [1.0, 1.0, 0.0, 1.0, 0.0, 100.84444444444445, 79, 'Yes'],\n",
       "       [0.0, 0.0, 0.0, 0.0, 0.0, 104.0, 12, 'No'],\n",
       "       [1.0, 0.0, 0.0, 1.0, 0.0, 101.0, 51, 'Yes'],\n",
       "       [0.0, 0.0, 0.0, 0.0, 0.0, 101.0, 20, 'No'],\n",
       "       [1.0, 0.0, 0.0, 0.0, 1.0, 98.0, 5, 'No'],\n",
       "       [1.0, 0.0, 0.0, 1.0, 0.0, 98.0, 10, 'Yes']], dtype=object)"
      ]
     },
     "execution_count": 11,
     "metadata": {},
     "output_type": "execute_result"
    }
   ],
   "source": [
    "tr.fit_transform(a)"
   ]
  },
  {
   "cell_type": "markdown",
   "id": "b8b3a49b",
   "metadata": {},
   "source": [
    "# Using split function"
   ]
  },
  {
   "cell_type": "code",
   "execution_count": 12,
   "id": "c2d1afe2",
   "metadata": {},
   "outputs": [],
   "source": [
    "x=a.iloc[:,0:5]"
   ]
  },
  {
   "cell_type": "code",
   "execution_count": 13,
   "id": "406503c2",
   "metadata": {},
   "outputs": [
    {
     "data": {
      "text/html": [
       "<div>\n",
       "<style scoped>\n",
       "    .dataframe tbody tr th:only-of-type {\n",
       "        vertical-align: middle;\n",
       "    }\n",
       "\n",
       "    .dataframe tbody tr th {\n",
       "        vertical-align: top;\n",
       "    }\n",
       "\n",
       "    .dataframe thead th {\n",
       "        text-align: right;\n",
       "    }\n",
       "</style>\n",
       "<table border=\"1\" class=\"dataframe\">\n",
       "  <thead>\n",
       "    <tr style=\"text-align: right;\">\n",
       "      <th></th>\n",
       "      <th>age</th>\n",
       "      <th>gender</th>\n",
       "      <th>fever</th>\n",
       "      <th>cough</th>\n",
       "      <th>city</th>\n",
       "    </tr>\n",
       "  </thead>\n",
       "  <tbody>\n",
       "    <tr>\n",
       "      <th>0</th>\n",
       "      <td>60</td>\n",
       "      <td>Male</td>\n",
       "      <td>103.0</td>\n",
       "      <td>Mild</td>\n",
       "      <td>Kolkata</td>\n",
       "    </tr>\n",
       "    <tr>\n",
       "      <th>1</th>\n",
       "      <td>27</td>\n",
       "      <td>Male</td>\n",
       "      <td>100.0</td>\n",
       "      <td>Mild</td>\n",
       "      <td>Delhi</td>\n",
       "    </tr>\n",
       "    <tr>\n",
       "      <th>2</th>\n",
       "      <td>42</td>\n",
       "      <td>Male</td>\n",
       "      <td>101.0</td>\n",
       "      <td>Mild</td>\n",
       "      <td>Delhi</td>\n",
       "    </tr>\n",
       "    <tr>\n",
       "      <th>3</th>\n",
       "      <td>31</td>\n",
       "      <td>Female</td>\n",
       "      <td>98.0</td>\n",
       "      <td>Mild</td>\n",
       "      <td>Kolkata</td>\n",
       "    </tr>\n",
       "    <tr>\n",
       "      <th>4</th>\n",
       "      <td>65</td>\n",
       "      <td>Female</td>\n",
       "      <td>101.0</td>\n",
       "      <td>Mild</td>\n",
       "      <td>Mumbai</td>\n",
       "    </tr>\n",
       "    <tr>\n",
       "      <th>...</th>\n",
       "      <td>...</td>\n",
       "      <td>...</td>\n",
       "      <td>...</td>\n",
       "      <td>...</td>\n",
       "      <td>...</td>\n",
       "    </tr>\n",
       "    <tr>\n",
       "      <th>95</th>\n",
       "      <td>12</td>\n",
       "      <td>Female</td>\n",
       "      <td>104.0</td>\n",
       "      <td>Mild</td>\n",
       "      <td>Bangalore</td>\n",
       "    </tr>\n",
       "    <tr>\n",
       "      <th>96</th>\n",
       "      <td>51</td>\n",
       "      <td>Female</td>\n",
       "      <td>101.0</td>\n",
       "      <td>Strong</td>\n",
       "      <td>Kolkata</td>\n",
       "    </tr>\n",
       "    <tr>\n",
       "      <th>97</th>\n",
       "      <td>20</td>\n",
       "      <td>Female</td>\n",
       "      <td>101.0</td>\n",
       "      <td>Mild</td>\n",
       "      <td>Bangalore</td>\n",
       "    </tr>\n",
       "    <tr>\n",
       "      <th>98</th>\n",
       "      <td>5</td>\n",
       "      <td>Female</td>\n",
       "      <td>98.0</td>\n",
       "      <td>Strong</td>\n",
       "      <td>Mumbai</td>\n",
       "    </tr>\n",
       "    <tr>\n",
       "      <th>99</th>\n",
       "      <td>10</td>\n",
       "      <td>Female</td>\n",
       "      <td>98.0</td>\n",
       "      <td>Strong</td>\n",
       "      <td>Kolkata</td>\n",
       "    </tr>\n",
       "  </tbody>\n",
       "</table>\n",
       "<p>100 rows × 5 columns</p>\n",
       "</div>"
      ],
      "text/plain": [
       "    age  gender  fever   cough       city\n",
       "0    60    Male  103.0    Mild    Kolkata\n",
       "1    27    Male  100.0    Mild      Delhi\n",
       "2    42    Male  101.0    Mild      Delhi\n",
       "3    31  Female   98.0    Mild    Kolkata\n",
       "4    65  Female  101.0    Mild     Mumbai\n",
       "..  ...     ...    ...     ...        ...\n",
       "95   12  Female  104.0    Mild  Bangalore\n",
       "96   51  Female  101.0  Strong    Kolkata\n",
       "97   20  Female  101.0    Mild  Bangalore\n",
       "98    5  Female   98.0  Strong     Mumbai\n",
       "99   10  Female   98.0  Strong    Kolkata\n",
       "\n",
       "[100 rows x 5 columns]"
      ]
     },
     "execution_count": 13,
     "metadata": {},
     "output_type": "execute_result"
    }
   ],
   "source": [
    "x"
   ]
  },
  {
   "cell_type": "code",
   "execution_count": 14,
   "id": "d17b5ed3",
   "metadata": {},
   "outputs": [],
   "source": [
    "y=a.iloc[:,5:]"
   ]
  },
  {
   "cell_type": "code",
   "execution_count": 15,
   "id": "edae283d",
   "metadata": {},
   "outputs": [
    {
     "data": {
      "text/html": [
       "<div>\n",
       "<style scoped>\n",
       "    .dataframe tbody tr th:only-of-type {\n",
       "        vertical-align: middle;\n",
       "    }\n",
       "\n",
       "    .dataframe tbody tr th {\n",
       "        vertical-align: top;\n",
       "    }\n",
       "\n",
       "    .dataframe thead th {\n",
       "        text-align: right;\n",
       "    }\n",
       "</style>\n",
       "<table border=\"1\" class=\"dataframe\">\n",
       "  <thead>\n",
       "    <tr style=\"text-align: right;\">\n",
       "      <th></th>\n",
       "      <th>has_covid</th>\n",
       "    </tr>\n",
       "  </thead>\n",
       "  <tbody>\n",
       "    <tr>\n",
       "      <th>0</th>\n",
       "      <td>No</td>\n",
       "    </tr>\n",
       "    <tr>\n",
       "      <th>1</th>\n",
       "      <td>Yes</td>\n",
       "    </tr>\n",
       "    <tr>\n",
       "      <th>2</th>\n",
       "      <td>No</td>\n",
       "    </tr>\n",
       "    <tr>\n",
       "      <th>3</th>\n",
       "      <td>No</td>\n",
       "    </tr>\n",
       "    <tr>\n",
       "      <th>4</th>\n",
       "      <td>No</td>\n",
       "    </tr>\n",
       "    <tr>\n",
       "      <th>...</th>\n",
       "      <td>...</td>\n",
       "    </tr>\n",
       "    <tr>\n",
       "      <th>95</th>\n",
       "      <td>No</td>\n",
       "    </tr>\n",
       "    <tr>\n",
       "      <th>96</th>\n",
       "      <td>Yes</td>\n",
       "    </tr>\n",
       "    <tr>\n",
       "      <th>97</th>\n",
       "      <td>No</td>\n",
       "    </tr>\n",
       "    <tr>\n",
       "      <th>98</th>\n",
       "      <td>No</td>\n",
       "    </tr>\n",
       "    <tr>\n",
       "      <th>99</th>\n",
       "      <td>Yes</td>\n",
       "    </tr>\n",
       "  </tbody>\n",
       "</table>\n",
       "<p>100 rows × 1 columns</p>\n",
       "</div>"
      ],
      "text/plain": [
       "   has_covid\n",
       "0         No\n",
       "1        Yes\n",
       "2         No\n",
       "3         No\n",
       "4         No\n",
       "..       ...\n",
       "95        No\n",
       "96       Yes\n",
       "97        No\n",
       "98        No\n",
       "99       Yes\n",
       "\n",
       "[100 rows x 1 columns]"
      ]
     },
     "execution_count": 15,
     "metadata": {},
     "output_type": "execute_result"
    }
   ],
   "source": [
    "y"
   ]
  },
  {
   "cell_type": "code",
   "execution_count": 16,
   "id": "93b5819c",
   "metadata": {},
   "outputs": [],
   "source": [
    "from sklearn.model_selection import train_test_split"
   ]
  },
  {
   "cell_type": "code",
   "execution_count": 17,
   "id": "0ec4702d",
   "metadata": {},
   "outputs": [],
   "source": [
    "xtrain,xtest,ytrain,ytest=train_test_split(x,y,random_state=2,test_size=1/3)"
   ]
  },
  {
   "cell_type": "code",
   "execution_count": 18,
   "id": "ba018329",
   "metadata": {},
   "outputs": [
    {
     "data": {
      "text/html": [
       "<div>\n",
       "<style scoped>\n",
       "    .dataframe tbody tr th:only-of-type {\n",
       "        vertical-align: middle;\n",
       "    }\n",
       "\n",
       "    .dataframe tbody tr th {\n",
       "        vertical-align: top;\n",
       "    }\n",
       "\n",
       "    .dataframe thead th {\n",
       "        text-align: right;\n",
       "    }\n",
       "</style>\n",
       "<table border=\"1\" class=\"dataframe\">\n",
       "  <thead>\n",
       "    <tr style=\"text-align: right;\">\n",
       "      <th></th>\n",
       "      <th>age</th>\n",
       "      <th>gender</th>\n",
       "      <th>fever</th>\n",
       "      <th>cough</th>\n",
       "      <th>city</th>\n",
       "    </tr>\n",
       "  </thead>\n",
       "  <tbody>\n",
       "    <tr>\n",
       "      <th>36</th>\n",
       "      <td>38</td>\n",
       "      <td>Female</td>\n",
       "      <td>101.0</td>\n",
       "      <td>Mild</td>\n",
       "      <td>Bangalore</td>\n",
       "    </tr>\n",
       "    <tr>\n",
       "      <th>78</th>\n",
       "      <td>11</td>\n",
       "      <td>Male</td>\n",
       "      <td>100.0</td>\n",
       "      <td>Mild</td>\n",
       "      <td>Bangalore</td>\n",
       "    </tr>\n",
       "    <tr>\n",
       "      <th>6</th>\n",
       "      <td>14</td>\n",
       "      <td>Male</td>\n",
       "      <td>101.0</td>\n",
       "      <td>Strong</td>\n",
       "      <td>Bangalore</td>\n",
       "    </tr>\n",
       "    <tr>\n",
       "      <th>89</th>\n",
       "      <td>46</td>\n",
       "      <td>Male</td>\n",
       "      <td>103.0</td>\n",
       "      <td>Strong</td>\n",
       "      <td>Bangalore</td>\n",
       "    </tr>\n",
       "    <tr>\n",
       "      <th>91</th>\n",
       "      <td>38</td>\n",
       "      <td>Male</td>\n",
       "      <td>NaN</td>\n",
       "      <td>Mild</td>\n",
       "      <td>Delhi</td>\n",
       "    </tr>\n",
       "    <tr>\n",
       "      <th>...</th>\n",
       "      <td>...</td>\n",
       "      <td>...</td>\n",
       "      <td>...</td>\n",
       "      <td>...</td>\n",
       "      <td>...</td>\n",
       "    </tr>\n",
       "    <tr>\n",
       "      <th>43</th>\n",
       "      <td>22</td>\n",
       "      <td>Female</td>\n",
       "      <td>99.0</td>\n",
       "      <td>Mild</td>\n",
       "      <td>Bangalore</td>\n",
       "    </tr>\n",
       "    <tr>\n",
       "      <th>22</th>\n",
       "      <td>71</td>\n",
       "      <td>Female</td>\n",
       "      <td>98.0</td>\n",
       "      <td>Strong</td>\n",
       "      <td>Kolkata</td>\n",
       "    </tr>\n",
       "    <tr>\n",
       "      <th>72</th>\n",
       "      <td>83</td>\n",
       "      <td>Female</td>\n",
       "      <td>101.0</td>\n",
       "      <td>Mild</td>\n",
       "      <td>Kolkata</td>\n",
       "    </tr>\n",
       "    <tr>\n",
       "      <th>15</th>\n",
       "      <td>70</td>\n",
       "      <td>Male</td>\n",
       "      <td>103.0</td>\n",
       "      <td>Strong</td>\n",
       "      <td>Kolkata</td>\n",
       "    </tr>\n",
       "    <tr>\n",
       "      <th>40</th>\n",
       "      <td>49</td>\n",
       "      <td>Female</td>\n",
       "      <td>102.0</td>\n",
       "      <td>Mild</td>\n",
       "      <td>Delhi</td>\n",
       "    </tr>\n",
       "  </tbody>\n",
       "</table>\n",
       "<p>66 rows × 5 columns</p>\n",
       "</div>"
      ],
      "text/plain": [
       "    age  gender  fever   cough       city\n",
       "36   38  Female  101.0    Mild  Bangalore\n",
       "78   11    Male  100.0    Mild  Bangalore\n",
       "6    14    Male  101.0  Strong  Bangalore\n",
       "89   46    Male  103.0  Strong  Bangalore\n",
       "91   38    Male    NaN    Mild      Delhi\n",
       "..  ...     ...    ...     ...        ...\n",
       "43   22  Female   99.0    Mild  Bangalore\n",
       "22   71  Female   98.0  Strong    Kolkata\n",
       "72   83  Female  101.0    Mild    Kolkata\n",
       "15   70    Male  103.0  Strong    Kolkata\n",
       "40   49  Female  102.0    Mild      Delhi\n",
       "\n",
       "[66 rows x 5 columns]"
      ]
     },
     "execution_count": 18,
     "metadata": {},
     "output_type": "execute_result"
    }
   ],
   "source": [
    "xtrain"
   ]
  },
  {
   "cell_type": "code",
   "execution_count": 19,
   "id": "34bde797",
   "metadata": {},
   "outputs": [
    {
     "data": {
      "text/html": [
       "<div>\n",
       "<style scoped>\n",
       "    .dataframe tbody tr th:only-of-type {\n",
       "        vertical-align: middle;\n",
       "    }\n",
       "\n",
       "    .dataframe tbody tr th {\n",
       "        vertical-align: top;\n",
       "    }\n",
       "\n",
       "    .dataframe thead th {\n",
       "        text-align: right;\n",
       "    }\n",
       "</style>\n",
       "<table border=\"1\" class=\"dataframe\">\n",
       "  <thead>\n",
       "    <tr style=\"text-align: right;\">\n",
       "      <th></th>\n",
       "      <th>has_covid</th>\n",
       "    </tr>\n",
       "  </thead>\n",
       "  <tbody>\n",
       "    <tr>\n",
       "      <th>36</th>\n",
       "      <td>No</td>\n",
       "    </tr>\n",
       "    <tr>\n",
       "      <th>78</th>\n",
       "      <td>Yes</td>\n",
       "    </tr>\n",
       "    <tr>\n",
       "      <th>6</th>\n",
       "      <td>No</td>\n",
       "    </tr>\n",
       "    <tr>\n",
       "      <th>89</th>\n",
       "      <td>No</td>\n",
       "    </tr>\n",
       "    <tr>\n",
       "      <th>91</th>\n",
       "      <td>Yes</td>\n",
       "    </tr>\n",
       "    <tr>\n",
       "      <th>...</th>\n",
       "      <td>...</td>\n",
       "    </tr>\n",
       "    <tr>\n",
       "      <th>43</th>\n",
       "      <td>Yes</td>\n",
       "    </tr>\n",
       "    <tr>\n",
       "      <th>22</th>\n",
       "      <td>Yes</td>\n",
       "    </tr>\n",
       "    <tr>\n",
       "      <th>72</th>\n",
       "      <td>No</td>\n",
       "    </tr>\n",
       "    <tr>\n",
       "      <th>15</th>\n",
       "      <td>Yes</td>\n",
       "    </tr>\n",
       "    <tr>\n",
       "      <th>40</th>\n",
       "      <td>No</td>\n",
       "    </tr>\n",
       "  </tbody>\n",
       "</table>\n",
       "<p>66 rows × 1 columns</p>\n",
       "</div>"
      ],
      "text/plain": [
       "   has_covid\n",
       "36        No\n",
       "78       Yes\n",
       "6         No\n",
       "89        No\n",
       "91       Yes\n",
       "..       ...\n",
       "43       Yes\n",
       "22       Yes\n",
       "72        No\n",
       "15       Yes\n",
       "40        No\n",
       "\n",
       "[66 rows x 1 columns]"
      ]
     },
     "execution_count": 19,
     "metadata": {},
     "output_type": "execute_result"
    }
   ],
   "source": [
    "ytrain"
   ]
  },
  {
   "cell_type": "code",
   "execution_count": 20,
   "id": "ca21445a",
   "metadata": {
    "scrolled": true
   },
   "outputs": [
    {
     "data": {
      "text/html": [
       "<div>\n",
       "<style scoped>\n",
       "    .dataframe tbody tr th:only-of-type {\n",
       "        vertical-align: middle;\n",
       "    }\n",
       "\n",
       "    .dataframe tbody tr th {\n",
       "        vertical-align: top;\n",
       "    }\n",
       "\n",
       "    .dataframe thead th {\n",
       "        text-align: right;\n",
       "    }\n",
       "</style>\n",
       "<table border=\"1\" class=\"dataframe\">\n",
       "  <thead>\n",
       "    <tr style=\"text-align: right;\">\n",
       "      <th></th>\n",
       "      <th>age</th>\n",
       "      <th>gender</th>\n",
       "      <th>fever</th>\n",
       "      <th>cough</th>\n",
       "      <th>city</th>\n",
       "    </tr>\n",
       "  </thead>\n",
       "  <tbody>\n",
       "    <tr>\n",
       "      <th>83</th>\n",
       "      <td>17</td>\n",
       "      <td>Female</td>\n",
       "      <td>104.0</td>\n",
       "      <td>Mild</td>\n",
       "      <td>Kolkata</td>\n",
       "    </tr>\n",
       "    <tr>\n",
       "      <th>30</th>\n",
       "      <td>15</td>\n",
       "      <td>Male</td>\n",
       "      <td>101.0</td>\n",
       "      <td>Mild</td>\n",
       "      <td>Delhi</td>\n",
       "    </tr>\n",
       "    <tr>\n",
       "      <th>56</th>\n",
       "      <td>71</td>\n",
       "      <td>Male</td>\n",
       "      <td>NaN</td>\n",
       "      <td>Strong</td>\n",
       "      <td>Kolkata</td>\n",
       "    </tr>\n",
       "    <tr>\n",
       "      <th>24</th>\n",
       "      <td>13</td>\n",
       "      <td>Female</td>\n",
       "      <td>100.0</td>\n",
       "      <td>Strong</td>\n",
       "      <td>Kolkata</td>\n",
       "    </tr>\n",
       "    <tr>\n",
       "      <th>16</th>\n",
       "      <td>69</td>\n",
       "      <td>Female</td>\n",
       "      <td>103.0</td>\n",
       "      <td>Mild</td>\n",
       "      <td>Kolkata</td>\n",
       "    </tr>\n",
       "  </tbody>\n",
       "</table>\n",
       "</div>"
      ],
      "text/plain": [
       "    age  gender  fever   cough     city\n",
       "83   17  Female  104.0    Mild  Kolkata\n",
       "30   15    Male  101.0    Mild    Delhi\n",
       "56   71    Male    NaN  Strong  Kolkata\n",
       "24   13  Female  100.0  Strong  Kolkata\n",
       "16   69  Female  103.0    Mild  Kolkata"
      ]
     },
     "execution_count": 20,
     "metadata": {},
     "output_type": "execute_result"
    }
   ],
   "source": [
    "xtest.head()"
   ]
  },
  {
   "cell_type": "code",
   "execution_count": 21,
   "id": "2cf4a618",
   "metadata": {
    "scrolled": true
   },
   "outputs": [
    {
     "data": {
      "text/html": [
       "<div>\n",
       "<style scoped>\n",
       "    .dataframe tbody tr th:only-of-type {\n",
       "        vertical-align: middle;\n",
       "    }\n",
       "\n",
       "    .dataframe tbody tr th {\n",
       "        vertical-align: top;\n",
       "    }\n",
       "\n",
       "    .dataframe thead th {\n",
       "        text-align: right;\n",
       "    }\n",
       "</style>\n",
       "<table border=\"1\" class=\"dataframe\">\n",
       "  <thead>\n",
       "    <tr style=\"text-align: right;\">\n",
       "      <th></th>\n",
       "      <th>has_covid</th>\n",
       "    </tr>\n",
       "  </thead>\n",
       "  <tbody>\n",
       "    <tr>\n",
       "      <th>83</th>\n",
       "      <td>No</td>\n",
       "    </tr>\n",
       "    <tr>\n",
       "      <th>30</th>\n",
       "      <td>Yes</td>\n",
       "    </tr>\n",
       "    <tr>\n",
       "      <th>56</th>\n",
       "      <td>No</td>\n",
       "    </tr>\n",
       "    <tr>\n",
       "      <th>24</th>\n",
       "      <td>No</td>\n",
       "    </tr>\n",
       "    <tr>\n",
       "      <th>16</th>\n",
       "      <td>Yes</td>\n",
       "    </tr>\n",
       "  </tbody>\n",
       "</table>\n",
       "</div>"
      ],
      "text/plain": [
       "   has_covid\n",
       "83        No\n",
       "30       Yes\n",
       "56        No\n",
       "24        No\n",
       "16       Yes"
      ]
     },
     "execution_count": 21,
     "metadata": {},
     "output_type": "execute_result"
    }
   ],
   "source": [
    "ytest.head()"
   ]
  },
  {
   "cell_type": "code",
   "execution_count": 22,
   "id": "97800764",
   "metadata": {},
   "outputs": [],
   "source": [
    "from sklearn.compose import ColumnTransformer"
   ]
  },
  {
   "cell_type": "code",
   "execution_count": 23,
   "id": "5c465f98",
   "metadata": {},
   "outputs": [],
   "source": [
    "tr=ColumnTransformer(\n",
    "        transformers=[\n",
    "            ('tr1',OrdinalEncoder(categories=[['Mild', 'Strong']]),['cough']),\n",
    "            ('tr2',OneHotEncoder(drop='first',sparse=False),['gender','city']),\n",
    "            ('tr3',SimpleImputer(),['fever'])\n",
    "        ],remainder='passthrough')"
   ]
  },
  {
   "cell_type": "code",
   "execution_count": 24,
   "id": "13c3fc36",
   "metadata": {
    "scrolled": true
   },
   "outputs": [],
   "source": [
    "xtrain=tr.fit_transform(xtrain)"
   ]
  },
  {
   "cell_type": "code",
   "execution_count": 25,
   "id": "d7741615",
   "metadata": {
    "scrolled": true
   },
   "outputs": [],
   "source": [
    "xtest=tr.fit_transform(xtest)"
   ]
  },
  {
   "cell_type": "code",
   "execution_count": 26,
   "id": "7a709b2d",
   "metadata": {},
   "outputs": [],
   "source": [
    "tr=ColumnTransformer(\n",
    "        transformers=[\n",
    "            ('tr1',OneHotEncoder(drop='first',sparse=False),['has_covid'])],\n",
    "    remainder='passthrough')"
   ]
  },
  {
   "cell_type": "code",
   "execution_count": 27,
   "id": "379ad624",
   "metadata": {
    "scrolled": true
   },
   "outputs": [],
   "source": [
    "ytrain=tr.fit_transform(ytrain)"
   ]
  },
  {
   "cell_type": "code",
   "execution_count": 28,
   "id": "1949853b",
   "metadata": {},
   "outputs": [],
   "source": [
    "ytest=tr.fit_transform(ytest)"
   ]
  },
  {
   "cell_type": "code",
   "execution_count": 29,
   "id": "4d568290",
   "metadata": {},
   "outputs": [],
   "source": [
    "from sklearn.tree import DecisionTreeClassifier"
   ]
  },
  {
   "cell_type": "code",
   "execution_count": 30,
   "id": "9c4fece4",
   "metadata": {},
   "outputs": [],
   "source": [
    "new=DecisionTreeClassifier()"
   ]
  },
  {
   "cell_type": "code",
   "execution_count": 31,
   "id": "56c0c2ef",
   "metadata": {},
   "outputs": [
    {
     "data": {
      "text/plain": [
       "DecisionTreeClassifier()"
      ]
     },
     "execution_count": 31,
     "metadata": {},
     "output_type": "execute_result"
    }
   ],
   "source": [
    "new.fit(xtrain,ytrain)"
   ]
  },
  {
   "cell_type": "code",
   "execution_count": 32,
   "id": "3e447327",
   "metadata": {},
   "outputs": [],
   "source": [
    "pred=new.predict(xtest)"
   ]
  },
  {
   "cell_type": "code",
   "execution_count": 33,
   "id": "55441357",
   "metadata": {},
   "outputs": [
    {
     "data": {
      "text/plain": [
       "array([0., 1., 0., 1., 1., 1., 1., 1., 1., 0., 0., 1., 1., 0., 0., 0., 0.,\n",
       "       0., 1., 0., 1., 0., 0., 1., 1., 1., 1., 0., 1., 0., 0., 1., 0., 0.])"
      ]
     },
     "execution_count": 33,
     "metadata": {},
     "output_type": "execute_result"
    }
   ],
   "source": [
    "pred"
   ]
  },
  {
   "cell_type": "code",
   "execution_count": 35,
   "id": "232c882c",
   "metadata": {
    "scrolled": true
   },
   "outputs": [
    {
     "data": {
      "text/plain": [
       "array([[0.],\n",
       "       [1.],\n",
       "       [0.],\n",
       "       [0.],\n",
       "       [1.],\n",
       "       [1.],\n",
       "       [0.],\n",
       "       [0.],\n",
       "       [0.],\n",
       "       [1.],\n",
       "       [1.],\n",
       "       [0.],\n",
       "       [1.],\n",
       "       [0.],\n",
       "       [0.],\n",
       "       [1.],\n",
       "       [0.],\n",
       "       [1.],\n",
       "       [0.],\n",
       "       [1.],\n",
       "       [0.],\n",
       "       [1.],\n",
       "       [0.],\n",
       "       [0.],\n",
       "       [1.],\n",
       "       [1.],\n",
       "       [0.],\n",
       "       [0.],\n",
       "       [0.],\n",
       "       [1.],\n",
       "       [0.],\n",
       "       [1.],\n",
       "       [1.],\n",
       "       [0.]])"
      ]
     },
     "execution_count": 35,
     "metadata": {},
     "output_type": "execute_result"
    }
   ],
   "source": [
    "ytest"
   ]
  },
  {
   "cell_type": "code",
   "execution_count": null,
   "id": "a951335b",
   "metadata": {},
   "outputs": [],
   "source": []
  }
 ],
 "metadata": {
  "kernelspec": {
   "display_name": "Python 3 (ipykernel)",
   "language": "python",
   "name": "python3"
  },
  "language_info": {
   "codemirror_mode": {
    "name": "ipython",
    "version": 3
   },
   "file_extension": ".py",
   "mimetype": "text/x-python",
   "name": "python",
   "nbconvert_exporter": "python",
   "pygments_lexer": "ipython3",
   "version": "3.9.12"
  }
 },
 "nbformat": 4,
 "nbformat_minor": 5
}
